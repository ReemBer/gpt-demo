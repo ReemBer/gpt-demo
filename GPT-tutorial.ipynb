{
 "cells": [
  {
   "cell_type": "markdown",
   "id": "141210bc",
   "metadata": {},
   "source": [
    "## Initial preparations"
   ]
  },
  {
   "cell_type": "code",
   "execution_count": 299,
   "id": "4a3c5fc0",
   "metadata": {},
   "outputs": [
    {
     "data": {
      "text/plain": [
       "'cuda'"
      ]
     },
     "execution_count": 299,
     "metadata": {},
     "output_type": "execute_result"
    }
   ],
   "source": [
    "import torch\n",
    "import torch.nn as nn\n",
    "import torch.optim as optim\n",
    "import numpy as np\n",
    "import matplotlib.pyplot as plt\n",
    "\n",
    "from torch.nn import functional as F\n",
    "\n",
    "device = 'cuda' if torch.cuda else 'cpu'\n",
    "device"
   ]
  },
  {
   "cell_type": "markdown",
   "id": "2262bdce",
   "metadata": {},
   "source": [
    "## Dataset: Tiny Shakespeare"
   ]
  },
  {
   "cell_type": "markdown",
   "id": "dba60715",
   "metadata": {},
   "source": [
    "### Download"
   ]
  },
  {
   "cell_type": "code",
   "execution_count": 3,
   "id": "97d72c68",
   "metadata": {},
   "outputs": [],
   "source": [
    "!wget https://raw.githubusercontent.com/karpathy/char-rnn/master/data/tinyshakespeare/input.txt"
   ]
  },
  {
   "cell_type": "code",
   "execution_count": 1,
   "id": "39471708",
   "metadata": {},
   "outputs": [],
   "source": [
    "with open(\"input.txt\", 'r', encoding='utf-8') as f:\n",
    "    text = f.read()"
   ]
  },
  {
   "cell_type": "code",
   "execution_count": 2,
   "id": "f15cb2a8",
   "metadata": {},
   "outputs": [
    {
     "name": "stdout",
     "output_type": "stream",
     "text": [
      "1115394\n"
     ]
    }
   ],
   "source": [
    "print(len(text))"
   ]
  },
  {
   "cell_type": "code",
   "execution_count": 3,
   "id": "2473ca68",
   "metadata": {},
   "outputs": [
    {
     "name": "stdout",
     "output_type": "stream",
     "text": [
      "First Citizen:\n",
      "Before we proceed any further, hear me speak.\n",
      "\n",
      "All:\n",
      "Speak, speak.\n",
      "\n",
      "First Citizen:\n",
      "You are all resolved rather to die than to famish?\n",
      "\n",
      "All:\n",
      "Resolved. resolved.\n",
      "\n",
      "First Citizen:\n",
      "First, you know Caius Marcius is chief enemy to the people.\n",
      "\n",
      "All:\n",
      "We know't, we know't.\n",
      "\n",
      "First Citizen:\n",
      "Let us kill him, and we'll have corn at our own price.\n",
      "Is't a verdict?\n",
      "\n",
      "All:\n",
      "No more talking on't; let it be done: away, away!\n",
      "\n",
      "Second Citizen:\n",
      "One word, good citizens.\n",
      "\n",
      "First Citizen:\n",
      "We are accounted poor citizens, the patricians good.\n",
      "What authority surfeits on would relieve us: if they\n",
      "would yield us but the superfluity, while it were\n",
      "wholesome, we might guess they relieved us humanely;\n",
      "but they think we are too dear: the leanness that\n",
      "afflicts us, the object of our misery, is as an\n",
      "inventory to particularise their abundance; our\n",
      "sufferance is a gain to them Let us revenge this with\n",
      "our pikes, ere we become rakes: for the gods know I\n",
      "speak this in hunger for bread, not in thirst for revenge.\n",
      "\n",
      "\n"
     ]
    }
   ],
   "source": [
    "print(text[:1000])"
   ]
  },
  {
   "cell_type": "markdown",
   "id": "fd79366d",
   "metadata": {},
   "source": [
    "### Building vocabular"
   ]
  },
  {
   "cell_type": "code",
   "execution_count": 109,
   "id": "9bb5a0b9",
   "metadata": {},
   "outputs": [
    {
     "name": "stdout",
     "output_type": "stream",
     "text": [
      "\n",
      " !$&',-.3:;?ABCDEFGHIJKLMNOPQRSTUVWXYZabcdefghijklmnopqrstuvwxyz\n",
      "65\n"
     ]
    }
   ],
   "source": [
    "vocab = sorted(list(set(text)))\n",
    "vocab_size = len(vocab)\n",
    "print(\"\".join(vocab))\n",
    "print(vocab_size)"
   ]
  },
  {
   "cell_type": "markdown",
   "id": "f85b2129",
   "metadata": {},
   "source": [
    "### Tokenizing\n",
    "\n",
    "Revise tokenisers:\n",
    "\n",
    "- SentencePiece powered by Google\n",
    "- TikToken"
   ]
  },
  {
   "cell_type": "code",
   "execution_count": 110,
   "id": "72a5ff05",
   "metadata": {},
   "outputs": [
    {
     "name": "stdout",
     "output_type": "stream",
     "text": [
      "[46, 43, 50, 50, 53, 6, 1, 61, 53, 56, 50, 42, 2]\n",
      "hello, world!\n"
     ]
    }
   ],
   "source": [
    "stoi = {ch:i for i,ch in enumerate(vocab)}\n",
    "itos = {i:ch for i,ch in enumerate(vocab)}\n",
    "encode = lambda s: [stoi[c] for c in s]\n",
    "decode = lambda L: [itos[i] for i in L]\n",
    "\n",
    "print(encode(\"hello, world!\"))\n",
    "print(''.join(decode(encode(\"hello, world!\"))))"
   ]
  },
  {
   "cell_type": "code",
   "execution_count": 111,
   "id": "b545c73b",
   "metadata": {},
   "outputs": [
    {
     "name": "stdout",
     "output_type": "stream",
     "text": [
      "torch.Size([1115394]) torch.int64\n",
      "tensor([18, 47, 56, 57, 58,  1, 15, 47, 58, 47, 64, 43, 52, 10,  0, 14, 43, 44,\n",
      "        53, 56, 43,  1, 61, 43,  1, 54, 56, 53, 41, 43, 43, 42,  1, 39, 52, 63,\n",
      "         1, 44, 59, 56, 58, 46, 43, 56,  6,  1, 46, 43, 39, 56,  1, 51, 43,  1,\n",
      "        57, 54, 43, 39, 49,  8,  0,  0, 13, 50, 50, 10,  0, 31, 54, 43, 39, 49,\n",
      "         6,  1, 57, 54, 43, 39, 49,  8,  0,  0, 18, 47, 56, 57, 58,  1, 15, 47,\n",
      "        58, 47, 64, 43, 52, 10,  0, 37, 53, 59,  1, 39, 56, 43,  1, 39, 50, 50,\n",
      "         1, 56, 43, 57, 53, 50, 60, 43, 42,  1, 56, 39, 58, 46, 43, 56,  1, 58,\n",
      "        53,  1, 42, 47, 43,  1, 58, 46, 39, 52,  1, 58, 53,  1, 44, 39, 51, 47,\n",
      "        57, 46, 12,  0,  0, 13, 50, 50, 10,  0, 30, 43, 57, 53, 50, 60, 43, 42,\n",
      "         8,  1, 56, 43, 57, 53, 50, 60, 43, 42,  8,  0,  0, 18, 47, 56, 57, 58,\n",
      "         1, 15, 47, 58, 47, 64, 43, 52, 10,  0, 18, 47, 56, 57, 58,  6,  1, 63,\n",
      "        53, 59,  1, 49, 52, 53, 61,  1, 15, 39, 47, 59, 57,  1, 25, 39, 56, 41,\n",
      "        47, 59, 57,  1, 47, 57,  1, 41, 46, 47, 43, 44,  1, 43, 52, 43, 51, 63,\n",
      "         1, 58, 53,  1, 58, 46, 43,  1, 54, 43, 53, 54, 50, 43,  8,  0,  0, 13,\n",
      "        50, 50, 10,  0, 35, 43,  1, 49, 52, 53, 61,  5, 58,  6,  1, 61, 43,  1,\n",
      "        49, 52, 53, 61,  5, 58,  8,  0,  0, 18, 47, 56, 57, 58,  1, 15, 47, 58,\n",
      "        47, 64, 43, 52, 10,  0, 24, 43, 58,  1, 59, 57,  1, 49, 47, 50, 50,  1,\n",
      "        46, 47, 51,  6,  1, 39, 52, 42,  1, 61, 43,  5, 50, 50,  1, 46, 39, 60,\n",
      "        43,  1, 41, 53, 56, 52,  1, 39, 58,  1, 53, 59, 56,  1, 53, 61, 52,  1,\n",
      "        54, 56, 47, 41, 43,  8,  0, 21, 57,  5, 58,  1, 39,  1, 60, 43, 56, 42,\n",
      "        47, 41, 58, 12,  0,  0, 13, 50, 50, 10,  0, 26, 53,  1, 51, 53, 56, 43,\n",
      "         1, 58, 39, 50, 49, 47, 52, 45,  1, 53, 52,  5, 58, 11,  1, 50, 43, 58,\n",
      "         1, 47, 58,  1, 40, 43,  1, 42, 53, 52, 43, 10,  1, 39, 61, 39, 63,  6,\n",
      "         1, 39, 61, 39, 63,  2,  0,  0, 31, 43, 41, 53, 52, 42,  1, 15, 47, 58,\n",
      "        47, 64, 43, 52, 10,  0, 27, 52, 43,  1, 61, 53, 56, 42,  6,  1, 45, 53,\n",
      "        53, 42,  1, 41, 47, 58, 47, 64, 43, 52, 57,  8,  0,  0, 18, 47, 56, 57,\n",
      "        58,  1, 15, 47, 58, 47, 64, 43, 52, 10,  0, 35, 43,  1, 39, 56, 43,  1,\n",
      "        39, 41, 41, 53, 59, 52, 58, 43, 42,  1, 54, 53, 53, 56,  1, 41, 47, 58,\n",
      "        47, 64, 43, 52, 57,  6,  1, 58, 46, 43,  1, 54, 39, 58, 56, 47, 41, 47,\n",
      "        39, 52, 57,  1, 45, 53, 53, 42,  8,  0, 35, 46, 39, 58,  1, 39, 59, 58,\n",
      "        46, 53, 56, 47, 58, 63,  1, 57, 59, 56, 44, 43, 47, 58, 57,  1, 53, 52,\n",
      "         1, 61, 53, 59, 50, 42,  1, 56, 43, 50, 47, 43, 60, 43,  1, 59, 57, 10,\n",
      "         1, 47, 44,  1, 58, 46, 43, 63,  0, 61, 53, 59, 50, 42,  1, 63, 47, 43,\n",
      "        50, 42,  1, 59, 57,  1, 40, 59, 58,  1, 58, 46, 43,  1, 57, 59, 54, 43,\n",
      "        56, 44, 50, 59, 47, 58, 63,  6,  1, 61, 46, 47, 50, 43,  1, 47, 58,  1,\n",
      "        61, 43, 56, 43,  0, 61, 46, 53, 50, 43, 57, 53, 51, 43,  6,  1, 61, 43,\n",
      "         1, 51, 47, 45, 46, 58,  1, 45, 59, 43, 57, 57,  1, 58, 46, 43, 63,  1,\n",
      "        56, 43, 50, 47, 43, 60, 43, 42,  1, 59, 57,  1, 46, 59, 51, 39, 52, 43,\n",
      "        50, 63, 11,  0, 40, 59, 58,  1, 58, 46, 43, 63,  1, 58, 46, 47, 52, 49,\n",
      "         1, 61, 43,  1, 39, 56, 43,  1, 58, 53, 53,  1, 42, 43, 39, 56, 10,  1,\n",
      "        58, 46, 43,  1, 50, 43, 39, 52, 52, 43, 57, 57,  1, 58, 46, 39, 58,  0,\n",
      "        39, 44, 44, 50, 47, 41, 58, 57,  1, 59, 57,  6,  1, 58, 46, 43,  1, 53,\n",
      "        40, 48, 43, 41, 58,  1, 53, 44,  1, 53, 59, 56,  1, 51, 47, 57, 43, 56,\n",
      "        63,  6,  1, 47, 57,  1, 39, 57,  1, 39, 52,  0, 47, 52, 60, 43, 52, 58,\n",
      "        53, 56, 63,  1, 58, 53,  1, 54, 39, 56, 58, 47, 41, 59, 50, 39, 56, 47,\n",
      "        57, 43,  1, 58, 46, 43, 47, 56,  1, 39, 40, 59, 52, 42, 39, 52, 41, 43,\n",
      "        11,  1, 53, 59, 56,  0, 57, 59, 44, 44, 43, 56, 39, 52, 41, 43,  1, 47,\n",
      "        57,  1, 39,  1, 45, 39, 47, 52,  1, 58, 53,  1, 58, 46, 43, 51,  1, 24,\n",
      "        43, 58,  1, 59, 57,  1, 56, 43, 60, 43, 52, 45, 43,  1, 58, 46, 47, 57,\n",
      "         1, 61, 47, 58, 46,  0, 53, 59, 56,  1, 54, 47, 49, 43, 57,  6,  1, 43,\n",
      "        56, 43,  1, 61, 43,  1, 40, 43, 41, 53, 51, 43,  1, 56, 39, 49, 43, 57,\n",
      "        10,  1, 44, 53, 56,  1, 58, 46, 43,  1, 45, 53, 42, 57,  1, 49, 52, 53,\n",
      "        61,  1, 21,  0, 57, 54, 43, 39, 49,  1, 58, 46, 47, 57,  1, 47, 52,  1,\n",
      "        46, 59, 52, 45, 43, 56,  1, 44, 53, 56,  1, 40, 56, 43, 39, 42,  6,  1,\n",
      "        52, 53, 58,  1, 47, 52,  1, 58, 46, 47, 56, 57, 58,  1, 44, 53, 56,  1,\n",
      "        56, 43, 60, 43, 52, 45, 43,  8,  0,  0])\n"
     ]
    }
   ],
   "source": [
    "data = torch.tensor(encode(text), dtype=torch.long)\n",
    "print(data.shape, data.dtype)\n",
    "print(data[:1000])"
   ]
  },
  {
   "cell_type": "markdown",
   "id": "db0416c0",
   "metadata": {},
   "source": [
    "### Train/Validation split"
   ]
  },
  {
   "cell_type": "code",
   "execution_count": 112,
   "id": "78c94cf3",
   "metadata": {},
   "outputs": [
    {
     "name": "stdout",
     "output_type": "stream",
     "text": [
      "1003854\n"
     ]
    }
   ],
   "source": [
    "train_size = int(0.9*len(data))\n",
    "train_X    = data[:train_size]\n",
    "val_X      = data[train_size:]\n",
    "print(train_size)"
   ]
  },
  {
   "cell_type": "markdown",
   "id": "f696f01b",
   "metadata": {},
   "source": [
    "### Setup block_size - maximum context length\n",
    "\n",
    "- context length - count of tokens in a continious line prior target token"
   ]
  },
  {
   "cell_type": "code",
   "execution_count": 113,
   "id": "33ad6663",
   "metadata": {},
   "outputs": [
    {
     "data": {
      "text/plain": [
       "tensor([18, 47, 56, 57, 58,  1, 15, 47, 58])"
      ]
     },
     "execution_count": 113,
     "metadata": {},
     "output_type": "execute_result"
    }
   ],
   "source": [
    "block_size = 8\n",
    "train_X[:block_size+1]"
   ]
  },
  {
   "cell_type": "code",
   "execution_count": 114,
   "id": "3d293727",
   "metadata": {},
   "outputs": [
    {
     "name": "stdout",
     "output_type": "stream",
     "text": [
      "when input is tensor([18]) the target is 47\n",
      "when input is tensor([18, 47]) the target is 56\n",
      "when input is tensor([18, 47, 56]) the target is 57\n",
      "when input is tensor([18, 47, 56, 57]) the target is 58\n",
      "when input is tensor([18, 47, 56, 57, 58]) the target is 1\n",
      "when input is tensor([18, 47, 56, 57, 58,  1]) the target is 15\n",
      "when input is tensor([18, 47, 56, 57, 58,  1, 15]) the target is 47\n",
      "when input is tensor([18, 47, 56, 57, 58,  1, 15, 47]) the target is 58\n"
     ]
    }
   ],
   "source": [
    "example_x = train_X[:block_size]\n",
    "example_y = train_X[1:block_size+1]\n",
    "for t in range(block_size):\n",
    "    context = example_x[:t+1]\n",
    "    target = example_y[t]\n",
    "    print(f\"when input is {context} the target is {target}\")"
   ]
  },
  {
   "cell_type": "code",
   "execution_count": 177,
   "id": "fe8322f2",
   "metadata": {},
   "outputs": [],
   "source": [
    "torch.manual_seed(1337)\n",
    "batch_size = 4\n",
    "\n",
    "def get_batch(split, batch_size=4):\n",
    "    data = train_X if split == 'train' else val_X\n",
    "    ix = torch.randint(len(data) - block_size, (batch_size,))\n",
    "    x  = torch.stack([data[i:i+block_size] for i in ix])\n",
    "    y  = torch.stack([data[i+1:i+block_size+1] for i in ix])\n",
    "    x, y = x.to(device), y.to(device)\n",
    "    return x, y\n"
   ]
  },
  {
   "cell_type": "code",
   "execution_count": 389,
   "id": "df01a31c",
   "metadata": {},
   "outputs": [
    {
     "name": "stdout",
     "output_type": "stream",
     "text": [
      "inputs:\n",
      "torch.Size([4, 8])\n",
      "tensor([[ 6,  0, 21, 44,  1, 61, 43,  1],\n",
      "        [58, 52, 43, 57, 57,  2,  1, 57],\n",
      "        [ 1, 59, 52, 39, 41, 46, 47, 52],\n",
      "        [43, 42, 50, 39, 56,  6,  1, 50]], device='cuda:0')\n",
      "targets:\n",
      "torch.Size([4, 8])\n",
      "tensor([[ 0, 21, 44,  1, 61, 43,  1, 61],\n",
      "        [52, 43, 57, 57,  2,  1, 57, 43],\n",
      "        [59, 52, 39, 41, 46, 47, 52, 45],\n",
      "        [42, 50, 39, 56,  6,  1, 50, 43]], device='cuda:0')\n",
      "----\n",
      "when input is [6] the target: 0\n",
      "when input is [6, 0] the target: 21\n",
      "when input is [6, 0, 21] the target: 44\n",
      "when input is [6, 0, 21, 44] the target: 1\n",
      "when input is [6, 0, 21, 44, 1] the target: 61\n",
      "when input is [6, 0, 21, 44, 1, 61] the target: 43\n",
      "when input is [6, 0, 21, 44, 1, 61, 43] the target: 1\n",
      "when input is [6, 0, 21, 44, 1, 61, 43, 1] the target: 61\n",
      "when input is [58] the target: 52\n",
      "when input is [58, 52] the target: 43\n",
      "when input is [58, 52, 43] the target: 57\n",
      "when input is [58, 52, 43, 57] the target: 57\n",
      "when input is [58, 52, 43, 57, 57] the target: 2\n",
      "when input is [58, 52, 43, 57, 57, 2] the target: 1\n",
      "when input is [58, 52, 43, 57, 57, 2, 1] the target: 57\n",
      "when input is [58, 52, 43, 57, 57, 2, 1, 57] the target: 43\n",
      "when input is [1] the target: 59\n",
      "when input is [1, 59] the target: 52\n",
      "when input is [1, 59, 52] the target: 39\n",
      "when input is [1, 59, 52, 39] the target: 41\n",
      "when input is [1, 59, 52, 39, 41] the target: 46\n",
      "when input is [1, 59, 52, 39, 41, 46] the target: 47\n",
      "when input is [1, 59, 52, 39, 41, 46, 47] the target: 52\n",
      "when input is [1, 59, 52, 39, 41, 46, 47, 52] the target: 45\n",
      "when input is [43] the target: 42\n",
      "when input is [43, 42] the target: 50\n",
      "when input is [43, 42, 50] the target: 39\n",
      "when input is [43, 42, 50, 39] the target: 56\n",
      "when input is [43, 42, 50, 39, 56] the target: 6\n",
      "when input is [43, 42, 50, 39, 56, 6] the target: 1\n",
      "when input is [43, 42, 50, 39, 56, 6, 1] the target: 50\n",
      "when input is [43, 42, 50, 39, 56, 6, 1, 50] the target: 43\n"
     ]
    }
   ],
   "source": [
    "batch_size = 4\n",
    "xb, yb = get_batch('train', batch_size)\n",
    "print('inputs:')\n",
    "print(xb.shape)\n",
    "print(xb)\n",
    "print('targets:')\n",
    "print(yb.shape)\n",
    "print(yb)\n",
    "print('----')\n",
    "for b in range(batch_size):\n",
    "    for t in range(block_size):\n",
    "        context = xb[b, :t+1]\n",
    "        target = yb[b, t]\n",
    "        print(f\"when input is {context.tolist()} the target: {target}\")"
   ]
  },
  {
   "cell_type": "markdown",
   "id": "643fadae",
   "metadata": {},
   "source": [
    "### Baseline: Bigram Language Model"
   ]
  },
  {
   "cell_type": "code",
   "execution_count": 390,
   "id": "f6107676",
   "metadata": {},
   "outputs": [
    {
     "name": "stdout",
     "output_type": "stream",
     "text": [
      "torch.Size([4, 8, 65])\n",
      "tensor(4.7051, device='cuda:0', grad_fn=<NllLossBackward0>)\n"
     ]
    }
   ],
   "source": [
    "torch.manual_seed(1337)\n",
    "\n",
    "class BigramLanguageModel(nn.Module):\n",
    "    def __init__(self, vocab_size, embedding_dims=vocab_size):\n",
    "        super().__init__()\n",
    "        self.vocab_size = vocab_size\n",
    "        self.embed_dims = embedding_dims\n",
    "        self.tocken_embedding_table = nn.Embedding(vocab_size, embedding_dims)\n",
    "\n",
    "    def forward(self, idx):\n",
    "        return self.tocken_embedding_table(idx)\n",
    "\n",
    "    def compute_loss(self, logits, targets):\n",
    "        N, T, C = logits.shape\n",
    "        return F.cross_entropy(logits.view(N*T, C), targets.view(N*T))\n",
    "\n",
    "    def generate(self, initial_context, max_new_tokens):\n",
    "        for _ in range(max_new_tokens):\n",
    "            logits = self(initial_context)\n",
    "            last_time_step_logits = logits[:,-1,:]\n",
    "            probs = F.softmax(last_time_step_logits, dim=1)\n",
    "            context_next = torch.multinomial(probs, num_samples=1)\n",
    "            initial_context = torch.cat((initial_context, context_next), dim=1)\n",
    "        return initial_context\n",
    "\n",
    "    def generate_string(self, initial_context, max_new_tokens):\n",
    "        return ''.join(\n",
    "            decode(\n",
    "                self.generate(initial_context, max_new_tokens=max_new_tokens)[0].tolist()\n",
    "            )\n",
    "        )\n",
    "\n",
    "\n",
    "m = BigramLanguageModel(vocab_size).to(device)\n",
    "logits = m(xb)\n",
    "loss = m.compute_loss(logits, yb)\n",
    "print(logits.shape)\n",
    "print(loss)"
   ]
  },
  {
   "cell_type": "code",
   "execution_count": 391,
   "id": "ac4a36a7",
   "metadata": {},
   "outputs": [
    {
     "data": {
      "text/plain": [
       "4.174387269895637"
      ]
     },
     "execution_count": 391,
     "metadata": {},
     "output_type": "execute_result"
    }
   ],
   "source": [
    "-np.log(1/65)"
   ]
  },
  {
   "cell_type": "code",
   "execution_count": 392,
   "id": "5a7c5f08",
   "metadata": {},
   "outputs": [
    {
     "name": "stdout",
     "output_type": "stream",
     "text": [
      "\n",
      "pYCXxfRkRZd\n",
      "wc'wfNfT;OLlTEeC K\n",
      "jxqPToTb?bXAUG:C-SGJO-33SM:C?YI3a\n",
      "hs:LVXJFhXeNuwqhObxZ.tSVrddXlaSZaNe\n"
     ]
    }
   ],
   "source": [
    "initial_context = torch.zeros((1,1), dtype=torch.long, device=device)\n",
    "print(m.generate_string(initial_context, max_new_tokens=100))"
   ]
  },
  {
   "cell_type": "code",
   "execution_count": 393,
   "id": "6cc49f5a",
   "metadata": {},
   "outputs": [
    {
     "name": "stdout",
     "output_type": "stream",
     "text": [
      "2.468719244003296\n"
     ]
    }
   ],
   "source": [
    "batch_size = 32\n",
    "eval_iters = 200\n",
    "optimizer = torch.optim.AdamW(m.parameters(), lr=1e-2)\n",
    "for steps in range(1000):\n",
    "    xb, yb = get_batch(\"train\")\n",
    "    logits = m(xb)\n",
    "    loss = m.compute_loss(logits, yb)\n",
    "    optimizer.zero_grad(set_to_none=True)\n",
    "    loss.backward()\n",
    "    optimizer.step()\n",
    "print(loss.item())"
   ]
  },
  {
   "cell_type": "code",
   "execution_count": 394,
   "id": "dbd95102",
   "metadata": {},
   "outputs": [
    {
     "name": "stdout",
     "output_type": "stream",
     "text": [
      "\n",
      "Wawice my.\n",
      "\n",
      "TDER:\n",
      "AnzCENup\n",
      "Yow&$FMOUf is h bot m Whedill, ath iree s, hein lat HNGAd ov ts, and Wk p.\n",
      "GSp.\n",
      "Swanousel lind me l.\n",
      "MAul, cechiry:\n",
      "Supr aisspllw y.\n",
      "Jllinke n Bfopetelaves;qke\n",
      "\n",
      "Pl, d metSPkllo W-wou wh tCois 3s wouth dourivETENGShire s poo K:\n",
      "\n",
      "PxTre\n",
      "\n",
      "AL:\n",
      "\n",
      "Inthrupt f s ar iris! m:\n",
      "\n",
      "Thin maleronth, af Pre?d mySo myr KINLIE!\n",
      "Ktidb&y, wardsal acesE:zLAnd din cNuk ay aney Iry ts I&fr af vNGJMOnEETonoke mary.\n",
      "Yof 'soug me?m sora an hse.\n",
      "Spond by we men.\n",
      "Sand s st sulin s th llugivod, wimmuc\n"
     ]
    }
   ],
   "source": [
    "context = torch.zeros((1,1), dtype=torch.long, device=device)\n",
    "print(m.generate_string(context, max_new_tokens=500))"
   ]
  },
  {
   "cell_type": "markdown",
   "id": "1d0433f6",
   "metadata": {},
   "source": [
    "### Denoise loss calculation"
   ]
  },
  {
   "cell_type": "code",
   "execution_count": 395,
   "id": "7efed8e2",
   "metadata": {},
   "outputs": [],
   "source": [
    "class LossEstimator:\n",
    "    \n",
    "    def __init__(self, eval_step):\n",
    "        self.eval_step = eval_step\n",
    "\n",
    "    @torch.no_grad()\n",
    "    def estimate_loss(self, model):\n",
    "        estimations = dict()\n",
    "        model.eval()\n",
    "        for split in ['train', 'val']:\n",
    "            losses = torch.zeros(self.eval_step)\n",
    "            for k in range(self.eval_step):\n",
    "                X, y = get_batch(split)\n",
    "                logits = model(X)\n",
    "                loss = model.compute_loss(logits, y)\n",
    "                losses[k] = loss.item()\n",
    "            estimations[split] = losses.mean().item()\n",
    "        model.train()\n",
    "        return estimations"
   ]
  },
  {
   "cell_type": "markdown",
   "id": "d2e678f9",
   "metadata": {},
   "source": [
    "### Collect all the training stuff into a single method\n",
    "\n",
    "It includes:\n",
    "- average loss estimations through batch of samples\n",
    "- average losses for both train and valdidation split\n",
    "- Adam optimizer with weights penalty\n",
    "- learning_rate decay on plateau"
   ]
  },
  {
   "cell_type": "code",
   "execution_count": 396,
   "id": "a65347e3",
   "metadata": {},
   "outputs": [],
   "source": [
    "def train(model, iterations, batch_size, optimizer, lr_scheduler, loss_estimator):\n",
    "    loss_history = {\"train\": [], \"val\": []} \n",
    "    for i in range(iterations):\n",
    "        if i % loss_estimator.eval_step == 0:\n",
    "            losses = loss_estimator.estimate_loss(model)\n",
    "            print(f\"step {i} losses:\", end=\" \") \n",
    "            for split, loss_value in losses.items():\n",
    "                loss_history[split].append(loss_value)\n",
    "                print(f\"{split} {losses['train']:.4f},\", end=\" \")\n",
    "            lr_scheduler.step(losses['train'])\n",
    "            print()\n",
    "        xb, yb = get_batch('train', batch_size)\n",
    "        logits = model(xb)\n",
    "        loss = model.compute_loss(logits, yb)\n",
    "        optimizer.zero_grad(set_to_none=True)\n",
    "        loss.backward()\n",
    "        optimizer.step()\n",
    "    return loss_history\n"
   ]
  },
  {
   "cell_type": "code",
   "execution_count": 397,
   "id": "26ed4f4f",
   "metadata": {},
   "outputs": [],
   "source": [
    "model = BigramLanguageModel(vocab_size).to(device)\n",
    "iterations = 10000\n",
    "batch_size = 32\n",
    "optimizer = torch.optim.AdamW(model.parameters(), lr=1e-2)\n",
    "lr_scheduler = optim.lr_scheduler.ReduceLROnPlateau(optimizer, patience=10)\n",
    "loss_estimator = LossEstimator(eval_step=200)"
   ]
  },
  {
   "cell_type": "code",
   "execution_count": 398,
   "id": "9f05efce",
   "metadata": {},
   "outputs": [
    {
     "name": "stdout",
     "output_type": "stream",
     "text": [
      "\n",
      "$ &!voyzUsSFuyzY;gl.VL\n",
      " EiaRkzJTl?l$iQTkXxsYVzXOPuAbTVH:lvMvLKJ?dCa?Cc\n",
      " NlPsh!fkpXvmMK&KJeV:PJDmdau$\n"
     ]
    }
   ],
   "source": [
    "initial_context = torch.zeros((1,1), dtype=torch.long, device=device)\n",
    "print(model.generate_string(initial_context, max_new_tokens=100))"
   ]
  },
  {
   "cell_type": "code",
   "execution_count": 399,
   "id": "10b6c5d9",
   "metadata": {},
   "outputs": [
    {
     "name": "stdout",
     "output_type": "stream",
     "text": [
      "step 0 losses: train 4.5626, val 4.5626, \n",
      "step 200 losses: train 3.0365, val 3.0365, \n",
      "step 400 losses: train 2.6256, val 2.6256, \n",
      "step 600 losses: train 2.5434, val 2.5434, \n",
      "step 800 losses: train 2.4902, val 2.4902, \n",
      "step 1000 losses: train 2.4792, val 2.4792, \n",
      "step 1200 losses: train 2.5010, val 2.5010, \n",
      "step 1400 losses: train 2.4654, val 2.4654, \n",
      "step 1600 losses: train 2.4563, val 2.4563, \n",
      "step 1800 losses: train 2.4842, val 2.4842, \n",
      "step 2000 losses: train 2.4849, val 2.4849, \n",
      "step 2200 losses: train 2.4614, val 2.4614, \n",
      "step 2400 losses: train 2.4609, val 2.4609, \n",
      "step 2600 losses: train 2.4623, val 2.4623, \n",
      "step 2800 losses: train 2.4572, val 2.4572, \n",
      "step 3000 losses: train 2.4405, val 2.4405, \n",
      "step 3200 losses: train 2.4568, val 2.4568, \n",
      "step 3400 losses: train 2.4640, val 2.4640, \n",
      "step 3600 losses: train 2.4464, val 2.4464, \n",
      "step 3800 losses: train 2.4509, val 2.4509, \n",
      "step 4000 losses: train 2.4475, val 2.4475, \n",
      "step 4200 losses: train 2.4392, val 2.4392, \n",
      "step 4400 losses: train 2.4514, val 2.4514, \n",
      "step 4600 losses: train 2.4422, val 2.4422, \n",
      "step 4800 losses: train 2.4492, val 2.4492, \n",
      "step 5000 losses: train 2.4487, val 2.4487, \n",
      "step 5200 losses: train 2.4432, val 2.4432, \n",
      "step 5400 losses: train 2.4533, val 2.4533, \n",
      "step 5600 losses: train 2.4486, val 2.4486, \n",
      "step 5800 losses: train 2.4473, val 2.4473, \n",
      "step 6000 losses: train 2.4730, val 2.4730, \n",
      "step 6200 losses: train 2.4701, val 2.4701, \n",
      "step 6400 losses: train 2.4504, val 2.4504, \n",
      "step 6600 losses: train 2.4640, val 2.4640, \n",
      "step 6800 losses: train 2.4603, val 2.4603, \n",
      "step 7000 losses: train 2.4351, val 2.4351, \n",
      "step 7200 losses: train 2.4866, val 2.4866, \n",
      "step 7400 losses: train 2.4348, val 2.4348, \n",
      "step 7600 losses: train 2.4622, val 2.4622, \n",
      "step 7800 losses: train 2.4465, val 2.4465, \n",
      "step 8000 losses: train 2.4587, val 2.4587, \n",
      "step 8200 losses: train 2.4703, val 2.4703, \n",
      "step 8400 losses: train 2.4527, val 2.4527, \n",
      "step 8600 losses: train 2.4476, val 2.4476, \n",
      "step 8800 losses: train 2.4566, val 2.4566, \n",
      "step 9000 losses: train 2.4710, val 2.4710, \n",
      "step 9200 losses: train 2.4437, val 2.4437, \n",
      "step 9400 losses: train 2.4604, val 2.4604, \n",
      "step 9600 losses: train 2.4266, val 2.4266, \n",
      "step 9800 losses: train 2.4261, val 2.4261, \n"
     ]
    }
   ],
   "source": [
    "loss_history = train(model, iterations, batch_size, optimizer, lr_scheduler, loss_estimator)"
   ]
  },
  {
   "cell_type": "code",
   "execution_count": 400,
   "id": "7e1850a0",
   "metadata": {},
   "outputs": [
    {
     "name": "stdout",
     "output_type": "stream",
     "text": [
      "\n",
      "Whe fe f tas ny, ct Clo gscest hes,\n",
      "A: du he n, soxcone.\n",
      "\n",
      "NENobeakes aghercobun ws m k s withoumas Fond t s wllo INour id, mersed\n",
      "Fourd?\n",
      "TI idurd po venond, d Cad ty\n",
      "K:\n",
      "BIUSoou tiund thornofen e sutan wiporthare whanot, sitthers, spe Bllellke, on s h O, t pan, ce wat d tive wout ir f; u;\n",
      "\n",
      "Feknen oueee rtano iru forealoiroret HEnk;\n",
      "CUCaden tck is, d cer t ftanofallon bay ho s, agallen, meseveminds s; te worimyoin ie--\n",
      "ARUSThe Whou wowhedichea blare aned hy senInirstha theint de may, the an be ke \n"
     ]
    }
   ],
   "source": [
    "print(model.generate_string(initial_context, max_new_tokens=500))"
   ]
  },
  {
   "cell_type": "code",
   "execution_count": 401,
   "id": "a9de3719",
   "metadata": {
    "scrolled": true
   },
   "outputs": [
    {
     "data": {
      "text/plain": [
       "<matplotlib.legend.Legend at 0x7f11810a19c0>"
      ]
     },
     "execution_count": 401,
     "metadata": {},
     "output_type": "execute_result"
    },
    {
     "data": {
      "image/png": "[encoded data removed]",
      "text/plain": [
       "<Figure size 800x300 with 1 Axes>"
      ]
     },
     "metadata": {},
     "output_type": "display_data"
    }
   ],
   "source": [
    "fig, ax_l = plt.subplots(1, 1, figsize=(8,3))\n",
    "ax_l.plot(np.array(loss_history[\"train\"]).flatten(), label = 'train loss')\n",
    "ax_l.plot(np.array(loss_history[\"val\"]).flatten(), label = 'validation loss')\n",
    "ax_l.legend()"
   ]
  },
  {
   "cell_type": "markdown",
   "id": "ecaf8105",
   "metadata": {},
   "source": [
    "### Averaging past context by multiplication on triangle matrix"
   ]
  },
  {
   "cell_type": "code",
   "execution_count": 402,
   "id": "19e60e89",
   "metadata": {},
   "outputs": [
    {
     "data": {
      "text/plain": [
       "torch.Size([32, 8, 65])"
      ]
     },
     "execution_count": 402,
     "metadata": {},
     "output_type": "execute_result"
    }
   ],
   "source": [
    "x = torch.randn(batch_size, block_size, vocab_size)\n",
    "x.shape"
   ]
  },
  {
   "cell_type": "markdown",
   "id": "b6e5d1b8",
   "metadata": {},
   "source": [
    "### straightforward implementation"
   ]
  },
  {
   "cell_type": "code",
   "execution_count": 403,
   "id": "0837b6d6",
   "metadata": {},
   "outputs": [
    {
     "name": "stdout",
     "output_type": "stream",
     "text": [
      "4.29 ms ± 62.9 µs per loop (mean ± std. dev. of 7 runs, 100 loops each)\n"
     ]
    }
   ],
   "source": [
    "%%timeit\n",
    "xbow = torch.zeros((batch_size, block_size, vocab_size))\n",
    "for b in range(batch_size):\n",
    "    for t in range(block_size):\n",
    "        xprev = x[b,:t+1]\n",
    "        xbow[b,t] = torch.mean(xprev, 0)"
   ]
  },
  {
   "cell_type": "markdown",
   "id": "a275a0a7",
   "metadata": {},
   "source": [
    "### Optimized implementation by matmul"
   ]
  },
  {
   "cell_type": "code",
   "execution_count": 404,
   "id": "6d81dd81",
   "metadata": {},
   "outputs": [
    {
     "name": "stdout",
     "output_type": "stream",
     "text": [
      "125 µs ± 5.08 µs per loop (mean ± std. dev. of 7 runs, 10,000 loops each)\n"
     ]
    }
   ],
   "source": [
    "%%timeit\n",
    "wei = torch.tril(torch.ones((block_size, block_size)))\n",
    "wei = wei / wei.sum(1, keepdim=True)\n",
    "xbow2 = wei @ x"
   ]
  },
  {
   "cell_type": "code",
   "execution_count": 405,
   "id": "3f078a60",
   "metadata": {},
   "outputs": [
    {
     "data": {
      "text/plain": [
       "False"
      ]
     },
     "execution_count": 405,
     "metadata": {},
     "output_type": "execute_result"
    }
   ],
   "source": [
    "torch.allclose(xbow, xbow2)"
   ]
  },
  {
   "cell_type": "code",
   "execution_count": 406,
   "id": "63c927d6",
   "metadata": {},
   "outputs": [
    {
     "data": {
      "text/plain": [
       "(tensor([ 0.0011, -0.0012,  0.0005, -0.0032,  0.0018,  0.0002, -0.0002, -0.0017]),\n",
       " tensor([ 0.0011, -0.0012,  0.0005, -0.0032,  0.0018,  0.0002, -0.0002, -0.0017]))"
      ]
     },
     "execution_count": 406,
     "metadata": {},
     "output_type": "execute_result"
    }
   ],
   "source": [
    "idx = torch.isclose(xbow, xbow2) == False\n",
    "xbow[idx], xbow2[idx]"
   ]
  },
  {
   "cell_type": "markdown",
   "id": "23565493",
   "metadata": {},
   "source": [
    "### Implementation with Softmax"
   ]
  },
  {
   "cell_type": "code",
   "execution_count": 407,
   "id": "6f9ecf82",
   "metadata": {},
   "outputs": [
    {
     "name": "stdout",
     "output_type": "stream",
     "text": [
      "125 µs ± 16.8 µs per loop (mean ± std. dev. of 7 runs, 10,000 loops each)\n"
     ]
    }
   ],
   "source": [
    "%%timeit\n",
    "tril = torch.tril(torch.ones((block_size, block_size)))\n",
    "wei = torch \\\n",
    "    .zeros((block_size, block_size)) \\\n",
    "    .masked_fill(tril == 0, float(\"-inf\"))\n",
    "wei = F.softmax(wei, dim=1)\n",
    "xbow3 = wei @ x"
   ]
  },
  {
   "cell_type": "code",
   "execution_count": 408,
   "id": "a34059ee",
   "metadata": {},
   "outputs": [
    {
     "data": {
      "text/plain": [
       "False"
      ]
     },
     "execution_count": 408,
     "metadata": {},
     "output_type": "execute_result"
    }
   ],
   "source": [
    "torch.allclose(xbow,xbow3)"
   ]
  },
  {
   "cell_type": "code",
   "execution_count": 409,
   "id": "a9738e39",
   "metadata": {},
   "outputs": [
    {
     "data": {
      "text/plain": [
       "(tensor([ 0.0011, -0.0012,  0.0005, -0.0032,  0.0018,  0.0002, -0.0002, -0.0017]),\n",
       " tensor([ 0.0011, -0.0012,  0.0005, -0.0032,  0.0018,  0.0002, -0.0002, -0.0017]))"
      ]
     },
     "execution_count": 409,
     "metadata": {},
     "output_type": "execute_result"
    }
   ],
   "source": [
    "idx = torch.isclose(xbow, xbow3) == False\n",
    "xbow[idx], xbow3[idx]"
   ]
  },
  {
   "cell_type": "markdown",
   "id": "9cc05ff4",
   "metadata": {},
   "source": [
    "### Bigram language model with Linear layer"
   ]
  },
  {
   "cell_type": "code",
   "execution_count": 422,
   "id": "2ee1b489",
   "metadata": {},
   "outputs": [
    {
     "name": "stdout",
     "output_type": "stream",
     "text": [
      "torch.Size([4, 8, 65])\n",
      "tensor(4.2992, device='cuda:0', grad_fn=<NllLossBackward0>)\n"
     ]
    }
   ],
   "source": [
    "class BigramLanguageModel2(BigramLanguageModel):\n",
    "    def __init__(self, vocab_size, embedding_dims):\n",
    "        super().__init__(vocab_size, embedding_dims)\n",
    "        self.lm_head = nn.Linear(embedding_dims, vocab_size)\n",
    "\n",
    "    def forward(self, idx):\n",
    "        token_embeddings = super().forward(idx)\n",
    "        return self.lm_head(token_embeddings)\n",
    "\n",
    "\n",
    "embedding_dims = 32\n",
    "model2 = BigramLanguageModel2(vocab_size, embedding_dims).to(device)\n",
    "logits = model2(xb)\n",
    "loss = model2.compute_loss(logits, yb)\n",
    "print(logits.shape)\n",
    "print(loss)"
   ]
  },
  {
   "cell_type": "code",
   "execution_count": 423,
   "id": "66d83b8f",
   "metadata": {},
   "outputs": [
    {
     "name": "stdout",
     "output_type": "stream",
     "text": [
      "\n",
      "pCzOyRjREU.EgM.plnv;Hbbe;BIOnb;mqIxW!I:QeJnuHtGqm-T'?CeT&e yFRJ.l!l!gHzUiHsxWiIE:$$RBvROrTjRMlehQLe\n",
      "\n"
     ]
    }
   ],
   "source": [
    "print(model2.generate_string(initial_context, max_new_tokens=100))"
   ]
  },
  {
   "cell_type": "code",
   "execution_count": 424,
   "id": "a734d3cd",
   "metadata": {},
   "outputs": [
    {
     "name": "stdout",
     "output_type": "stream",
     "text": [
      "step 0 losses: train 4.3234, val 4.3234, \n",
      "step 200 losses: train 2.5411, val 2.5411, \n",
      "step 400 losses: train 2.5352, val 2.5352, \n",
      "step 600 losses: train 2.4870, val 2.4870, \n",
      "step 800 losses: train 2.5131, val 2.5131, \n",
      "step 1000 losses: train 2.4726, val 2.4726, \n",
      "step 1200 losses: train 2.4771, val 2.4771, \n",
      "step 1400 losses: train 2.4894, val 2.4894, \n",
      "step 1600 losses: train 2.4830, val 2.4830, \n",
      "step 1800 losses: train 2.4648, val 2.4648, \n",
      "step 2000 losses: train 2.4679, val 2.4679, \n",
      "step 2200 losses: train 2.4880, val 2.4880, \n",
      "step 2400 losses: train 2.4588, val 2.4588, \n",
      "step 2600 losses: train 2.4882, val 2.4882, \n",
      "step 2800 losses: train 2.4982, val 2.4982, \n",
      "step 3000 losses: train 2.4907, val 2.4907, \n",
      "step 3200 losses: train 2.4901, val 2.4901, \n",
      "step 3400 losses: train 2.4773, val 2.4773, \n",
      "step 3600 losses: train 2.4902, val 2.4902, \n",
      "step 3800 losses: train 2.4657, val 2.4657, \n",
      "step 4000 losses: train 2.4579, val 2.4579, \n",
      "step 4200 losses: train 2.4810, val 2.4810, \n",
      "step 4400 losses: train 2.4814, val 2.4814, \n",
      "step 4600 losses: train 2.4786, val 2.4786, \n",
      "step 4800 losses: train 2.4795, val 2.4795, \n",
      "step 5000 losses: train 2.4810, val 2.4810, \n",
      "step 5200 losses: train 2.4784, val 2.4784, \n",
      "step 5400 losses: train 2.4829, val 2.4829, \n",
      "step 5600 losses: train 2.4886, val 2.4886, \n",
      "step 5800 losses: train 2.4851, val 2.4851, \n",
      "step 6000 losses: train 2.4717, val 2.4717, \n",
      "step 6200 losses: train 2.4749, val 2.4749, \n",
      "step 6400 losses: train 2.4544, val 2.4544, \n",
      "step 6600 losses: train 2.4626, val 2.4626, \n",
      "step 6800 losses: train 2.4625, val 2.4625, \n",
      "step 7000 losses: train 2.4604, val 2.4604, \n",
      "step 7200 losses: train 2.4704, val 2.4704, \n",
      "step 7400 losses: train 2.4510, val 2.4510, \n",
      "step 7600 losses: train 2.4627, val 2.4627, \n",
      "step 7800 losses: train 2.4572, val 2.4572, \n",
      "step 8000 losses: train 2.4740, val 2.4740, \n",
      "step 8200 losses: train 2.4206, val 2.4206, \n",
      "step 8400 losses: train 2.4621, val 2.4621, \n",
      "step 8600 losses: train 2.4531, val 2.4531, \n",
      "step 8800 losses: train 2.4693, val 2.4693, \n",
      "step 9000 losses: train 2.4698, val 2.4698, \n",
      "step 9200 losses: train 2.4847, val 2.4847, \n",
      "step 9400 losses: train 2.4752, val 2.4752, \n",
      "step 9600 losses: train 2.4600, val 2.4600, \n",
      "step 9800 losses: train 2.4532, val 2.4532, \n"
     ]
    }
   ],
   "source": [
    "optimizer = torch.optim.AdamW(model2.parameters(), lr=1e-2)\n",
    "loss_history = train(\n",
    "    model = model2,\n",
    "    iterations = 10000,\n",
    "    batch_size = 32,\n",
    "    optimizer = optimizer,\n",
    "    lr_scheduler = optim.lr_scheduler.ReduceLROnPlateau(optimizer, patience=10),\n",
    "    loss_estimator = LossEstimator(eval_step=200)\n",
    ")"
   ]
  },
  {
   "cell_type": "code",
   "execution_count": 425,
   "id": "af0f66e9",
   "metadata": {},
   "outputs": [
    {
     "data": {
      "text/plain": [
       "<matplotlib.legend.Legend at 0x7f11ec890c70>"
      ]
     },
     "execution_count": 425,
     "metadata": {},
     "output_type": "execute_result"
    },
    {
     "data": {
      "image/png": "[encoded data removed]",
      "text/plain": [
       "<Figure size 800x300 with 1 Axes>"
      ]
     },
     "metadata": {},
     "output_type": "display_data"
    }
   ],
   "source": [
    "fig, ax_l = plt.subplots(1, 1, figsize=(8,3))\n",
    "ax_l.plot(np.array(loss_history[\"train\"]).flatten(), label = 'train loss')\n",
    "ax_l.plot(np.array(loss_history[\"val\"]).flatten(), label = 'validation loss')\n",
    "ax_l.legend()"
   ]
  },
  {
   "cell_type": "code",
   "execution_count": 426,
   "id": "55bc40d7",
   "metadata": {},
   "outputs": [
    {
     "name": "stdout",
     "output_type": "stream",
     "text": [
      "\n",
      "Thins; s ookesthouk bl,-der, s, es s;\n",
      "RI th t olk verescee Coun!\n",
      "Y theee isheresed we hrist ar\n",
      "ENCELONTherveirake mes ht knt\n",
      "NG thin.\n",
      "\n",
      "\n",
      "'d!\n",
      "Wheseson rwoun. ar?\n",
      "EEThar IA:\n",
      "Whthathe couf mhir, byoass ooung, hathese hawaye hernd end,\n",
      "My w flouth se ma than:\n",
      "Her, thof t, o amongllinoulateald weat r theat bef fowalo'dooorrt bur th ho'liower lifl he punilf gur outo theayoourer:\n",
      "Anowitens y, t y po my,\n",
      "The,\n",
      "I LESengr JUS: d busend stho,\n",
      "JUCUMy pat ingr brifo s men'ed.\n",
      "Whathee s his ote h henike o \n",
      "Maru\n"
     ]
    }
   ],
   "source": [
    "print(model2.generate_string(initial_context, max_new_tokens=500))"
   ]
  }
 ],
 "metadata": {
  "kernelspec": {
   "display_name": "Python 3 (ipykernel)",
   "language": "python",
   "name": "python3"
  },
  "language_info": {
   "codemirror_mode": {
    "name": "ipython",
    "version": 3
   },
   "file_extension": ".py",
   "mimetype": "text/x-python",
   "name": "python",
   "nbconvert_exporter": "python",
   "pygments_lexer": "ipython3",
   "version": "3.10.6"
  }
 },
 "nbformat": 4,
 "nbformat_minor": 5
}
