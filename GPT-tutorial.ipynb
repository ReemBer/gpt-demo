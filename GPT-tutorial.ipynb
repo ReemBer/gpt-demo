{
 "cells": [
  {
   "cell_type": "markdown",
   "id": "141210bc",
   "metadata": {},
   "source": [
    "## Initial preparations"
   ]
  },
  {
   "cell_type": "code",
   "execution_count": 1,
   "id": "4a3c5fc0",
   "metadata": {},
   "outputs": [
    {
     "data": {
      "text/plain": [
       "(True, 0, 0)"
      ]
     },
     "execution_count": 1,
     "metadata": {},
     "output_type": "execute_result"
    }
   ],
   "source": [
    "import torch\n",
    "import torch.nn as nn\n",
    "import torch.optim as optim\n",
    "import numpy as np\n",
    "import matplotlib.pyplot as plt\n",
    "\n",
    "from torch.nn import functional as F\n",
    "\n",
    "device = 'cuda' if torch.cuda else 'cpu'\n",
    "torch.cuda.is_available(), torch.cuda.memory_allocated(), torch.cuda.max_memory_allocated()"
   ]
  },
  {
   "cell_type": "markdown",
   "id": "2262bdce",
   "metadata": {},
   "source": [
    "## Dataset: Tiny Shakespeare"
   ]
  },
  {
   "cell_type": "markdown",
   "id": "dba60715",
   "metadata": {},
   "source": [
    "### Download"
   ]
  },
  {
   "cell_type": "code",
   "execution_count": 2,
   "id": "97d72c68",
   "metadata": {},
   "outputs": [
    {
     "name": "stdout",
     "output_type": "stream",
     "text": [
      "--2023-05-17 17:23:11--  https://raw.githubusercontent.com/karpathy/char-rnn/master/data/tinyshakespeare/input.txt\n",
      "Resolving raw.githubusercontent.com (raw.githubusercontent.com)... 185.199.111.133, 185.199.108.133, 185.199.109.133, ...\n",
      "Connecting to raw.githubusercontent.com (raw.githubusercontent.com)|185.199.111.133|:443... connected.\n",
      "HTTP request sent, awaiting response... 200 OK\n",
      "Length: 1115394 (1.1M) [text/plain]\n",
      "Saving to: ‘input.txt.1’\n",
      "\n",
      "input.txt.1         100%[===================>]   1.06M  6.66MB/s    in 0.2s    \n",
      "\n",
      "2023-05-17 17:23:11 (6.66 MB/s) - ‘input.txt.1’ saved [1115394/1115394]\n",
      "\n"
     ]
    }
   ],
   "source": [
    "!wget https://raw.githubusercontent.com/karpathy/char-rnn/master/data/tinyshakespeare/input.txt"
   ]
  },
  {
   "cell_type": "code",
   "execution_count": 3,
   "id": "39471708",
   "metadata": {},
   "outputs": [],
   "source": [
    "with open(\"input.txt\", 'r', encoding='utf-8') as f:\n",
    "    text = f.read()"
   ]
  },
  {
   "cell_type": "code",
   "execution_count": 4,
   "id": "f15cb2a8",
   "metadata": {},
   "outputs": [
    {
     "name": "stdout",
     "output_type": "stream",
     "text": [
      "1115394\n"
     ]
    }
   ],
   "source": [
    "print(len(text))"
   ]
  },
  {
   "cell_type": "code",
   "execution_count": 5,
   "id": "2473ca68",
   "metadata": {},
   "outputs": [
    {
     "name": "stdout",
     "output_type": "stream",
     "text": [
      "First Citizen:\n",
      "Before we proceed any further, hear me speak.\n",
      "\n",
      "All:\n",
      "Speak, speak.\n",
      "\n",
      "First Citizen:\n",
      "You are all resolved rather to die than to famish?\n",
      "\n",
      "All:\n",
      "Resolved. resolved.\n",
      "\n",
      "First Citizen:\n",
      "First, you know Caius Marcius is chief enemy to the people.\n",
      "\n",
      "All:\n",
      "We know't, we know't.\n",
      "\n",
      "First Citizen:\n",
      "Let us kill him, and we'll have corn at our own price.\n",
      "Is't a verdict?\n",
      "\n",
      "All:\n",
      "No more talking on't; let it be done: away, away!\n",
      "\n",
      "Second Citizen:\n",
      "One word, good citizens.\n",
      "\n",
      "First Citizen:\n",
      "We are accounted poor citizens, the patricians good.\n",
      "What authority surfeits on would relieve us: if they\n",
      "would yield us but the superfluity, while it were\n",
      "wholesome, we might guess they relieved us humanely;\n",
      "but they think we are too dear: the leanness that\n",
      "afflicts us, the object of our misery, is as an\n",
      "inventory to particularise their abundance; our\n",
      "sufferance is a gain to them Let us revenge this with\n",
      "our pikes, ere we become rakes: for the gods know I\n",
      "speak this in hunger for bread, not in thirst for revenge.\n",
      "\n",
      "\n"
     ]
    }
   ],
   "source": [
    "print(text[:1000])"
   ]
  },
  {
   "cell_type": "markdown",
   "id": "fd79366d",
   "metadata": {},
   "source": [
    "### Building vocabular"
   ]
  },
  {
   "cell_type": "code",
   "execution_count": 6,
   "id": "9bb5a0b9",
   "metadata": {},
   "outputs": [
    {
     "name": "stdout",
     "output_type": "stream",
     "text": [
      "\n",
      " !$&',-.3:;?ABCDEFGHIJKLMNOPQRSTUVWXYZabcdefghijklmnopqrstuvwxyz\n",
      "65\n"
     ]
    }
   ],
   "source": [
    "vocab = sorted(list(set(text)))\n",
    "vocab_size = len(vocab)\n",
    "print(\"\".join(vocab))\n",
    "print(vocab_size)"
   ]
  },
  {
   "cell_type": "markdown",
   "id": "f85b2129",
   "metadata": {},
   "source": [
    "### Tokenizing\n",
    "\n",
    "Revise tokenisers:\n",
    "\n",
    "- SentencePiece powered by Google\n",
    "- TikToken"
   ]
  },
  {
   "cell_type": "code",
   "execution_count": 7,
   "id": "72a5ff05",
   "metadata": {},
   "outputs": [
    {
     "name": "stdout",
     "output_type": "stream",
     "text": [
      "[46, 43, 50, 50, 53, 6, 1, 61, 53, 56, 50, 42, 2]\n",
      "hello, world!\n"
     ]
    }
   ],
   "source": [
    "stoi = {ch:i for i,ch in enumerate(vocab)}\n",
    "itos = {i:ch for i,ch in enumerate(vocab)}\n",
    "encode = lambda s: [stoi[c] for c in s]\n",
    "decode = lambda L: [itos[i] for i in L]\n",
    "\n",
    "print(encode(\"hello, world!\"))\n",
    "print(''.join(decode(encode(\"hello, world!\"))))"
   ]
  },
  {
   "cell_type": "code",
   "execution_count": 8,
   "id": "b545c73b",
   "metadata": {},
   "outputs": [
    {
     "name": "stdout",
     "output_type": "stream",
     "text": [
      "torch.Size([1115394]) torch.int64\n",
      "tensor([18, 47, 56, 57, 58,  1, 15, 47, 58, 47, 64, 43, 52, 10,  0, 14, 43, 44,\n",
      "        53, 56, 43,  1, 61, 43,  1, 54, 56, 53, 41, 43, 43, 42,  1, 39, 52, 63,\n",
      "         1, 44, 59, 56, 58, 46, 43, 56,  6,  1, 46, 43, 39, 56,  1, 51, 43,  1,\n",
      "        57, 54, 43, 39, 49,  8,  0,  0, 13, 50, 50, 10,  0, 31, 54, 43, 39, 49,\n",
      "         6,  1, 57, 54, 43, 39, 49,  8,  0,  0, 18, 47, 56, 57, 58,  1, 15, 47,\n",
      "        58, 47, 64, 43, 52, 10,  0, 37, 53, 59,  1, 39, 56, 43,  1, 39, 50, 50,\n",
      "         1, 56, 43, 57, 53, 50, 60, 43, 42,  1, 56, 39, 58, 46, 43, 56,  1, 58,\n",
      "        53,  1, 42, 47, 43,  1, 58, 46, 39, 52,  1, 58, 53,  1, 44, 39, 51, 47,\n",
      "        57, 46, 12,  0,  0, 13, 50, 50, 10,  0, 30, 43, 57, 53, 50, 60, 43, 42,\n",
      "         8,  1, 56, 43, 57, 53, 50, 60, 43, 42,  8,  0,  0, 18, 47, 56, 57, 58,\n",
      "         1, 15, 47, 58, 47, 64, 43, 52, 10,  0, 18, 47, 56, 57, 58,  6,  1, 63,\n",
      "        53, 59,  1, 49, 52, 53, 61,  1, 15, 39, 47, 59, 57,  1, 25, 39, 56, 41,\n",
      "        47, 59, 57,  1, 47, 57,  1, 41, 46, 47, 43, 44,  1, 43, 52, 43, 51, 63,\n",
      "         1, 58, 53,  1, 58, 46, 43,  1, 54, 43, 53, 54, 50, 43,  8,  0,  0, 13,\n",
      "        50, 50, 10,  0, 35, 43,  1, 49, 52, 53, 61,  5, 58,  6,  1, 61, 43,  1,\n",
      "        49, 52, 53, 61,  5, 58,  8,  0,  0, 18, 47, 56, 57, 58,  1, 15, 47, 58,\n",
      "        47, 64, 43, 52, 10,  0, 24, 43, 58,  1, 59, 57,  1, 49, 47, 50, 50,  1,\n",
      "        46, 47, 51,  6,  1, 39, 52, 42,  1, 61, 43,  5, 50, 50,  1, 46, 39, 60,\n",
      "        43,  1, 41, 53, 56, 52,  1, 39, 58,  1, 53, 59, 56,  1, 53, 61, 52,  1,\n",
      "        54, 56, 47, 41, 43,  8,  0, 21, 57,  5, 58,  1, 39,  1, 60, 43, 56, 42,\n",
      "        47, 41, 58, 12,  0,  0, 13, 50, 50, 10,  0, 26, 53,  1, 51, 53, 56, 43,\n",
      "         1, 58, 39, 50, 49, 47, 52, 45,  1, 53, 52,  5, 58, 11,  1, 50, 43, 58,\n",
      "         1, 47, 58,  1, 40, 43,  1, 42, 53, 52, 43, 10,  1, 39, 61, 39, 63,  6,\n",
      "         1, 39, 61, 39, 63,  2,  0,  0, 31, 43, 41, 53, 52, 42,  1, 15, 47, 58,\n",
      "        47, 64, 43, 52, 10,  0, 27, 52, 43,  1, 61, 53, 56, 42,  6,  1, 45, 53,\n",
      "        53, 42,  1, 41, 47, 58, 47, 64, 43, 52, 57,  8,  0,  0, 18, 47, 56, 57,\n",
      "        58,  1, 15, 47, 58, 47, 64, 43, 52, 10,  0, 35, 43,  1, 39, 56, 43,  1,\n",
      "        39, 41, 41, 53, 59, 52, 58, 43, 42,  1, 54, 53, 53, 56,  1, 41, 47, 58,\n",
      "        47, 64, 43, 52, 57,  6,  1, 58, 46, 43,  1, 54, 39, 58, 56, 47, 41, 47,\n",
      "        39, 52, 57,  1, 45, 53, 53, 42,  8,  0, 35, 46, 39, 58,  1, 39, 59, 58,\n",
      "        46, 53, 56, 47, 58, 63,  1, 57, 59, 56, 44, 43, 47, 58, 57,  1, 53, 52,\n",
      "         1, 61, 53, 59, 50, 42,  1, 56, 43, 50, 47, 43, 60, 43,  1, 59, 57, 10,\n",
      "         1, 47, 44,  1, 58, 46, 43, 63,  0, 61, 53, 59, 50, 42,  1, 63, 47, 43,\n",
      "        50, 42,  1, 59, 57,  1, 40, 59, 58,  1, 58, 46, 43,  1, 57, 59, 54, 43,\n",
      "        56, 44, 50, 59, 47, 58, 63,  6,  1, 61, 46, 47, 50, 43,  1, 47, 58,  1,\n",
      "        61, 43, 56, 43,  0, 61, 46, 53, 50, 43, 57, 53, 51, 43,  6,  1, 61, 43,\n",
      "         1, 51, 47, 45, 46, 58,  1, 45, 59, 43, 57, 57,  1, 58, 46, 43, 63,  1,\n",
      "        56, 43, 50, 47, 43, 60, 43, 42,  1, 59, 57,  1, 46, 59, 51, 39, 52, 43,\n",
      "        50, 63, 11,  0, 40, 59, 58,  1, 58, 46, 43, 63,  1, 58, 46, 47, 52, 49,\n",
      "         1, 61, 43,  1, 39, 56, 43,  1, 58, 53, 53,  1, 42, 43, 39, 56, 10,  1,\n",
      "        58, 46, 43,  1, 50, 43, 39, 52, 52, 43, 57, 57,  1, 58, 46, 39, 58,  0,\n",
      "        39, 44, 44, 50, 47, 41, 58, 57,  1, 59, 57,  6,  1, 58, 46, 43,  1, 53,\n",
      "        40, 48, 43, 41, 58,  1, 53, 44,  1, 53, 59, 56,  1, 51, 47, 57, 43, 56,\n",
      "        63,  6,  1, 47, 57,  1, 39, 57,  1, 39, 52,  0, 47, 52, 60, 43, 52, 58,\n",
      "        53, 56, 63,  1, 58, 53,  1, 54, 39, 56, 58, 47, 41, 59, 50, 39, 56, 47,\n",
      "        57, 43,  1, 58, 46, 43, 47, 56,  1, 39, 40, 59, 52, 42, 39, 52, 41, 43,\n",
      "        11,  1, 53, 59, 56,  0, 57, 59, 44, 44, 43, 56, 39, 52, 41, 43,  1, 47,\n",
      "        57,  1, 39,  1, 45, 39, 47, 52,  1, 58, 53,  1, 58, 46, 43, 51,  1, 24,\n",
      "        43, 58,  1, 59, 57,  1, 56, 43, 60, 43, 52, 45, 43,  1, 58, 46, 47, 57,\n",
      "         1, 61, 47, 58, 46,  0, 53, 59, 56,  1, 54, 47, 49, 43, 57,  6,  1, 43,\n",
      "        56, 43,  1, 61, 43,  1, 40, 43, 41, 53, 51, 43,  1, 56, 39, 49, 43, 57,\n",
      "        10,  1, 44, 53, 56,  1, 58, 46, 43,  1, 45, 53, 42, 57,  1, 49, 52, 53,\n",
      "        61,  1, 21,  0, 57, 54, 43, 39, 49,  1, 58, 46, 47, 57,  1, 47, 52,  1,\n",
      "        46, 59, 52, 45, 43, 56,  1, 44, 53, 56,  1, 40, 56, 43, 39, 42,  6,  1,\n",
      "        52, 53, 58,  1, 47, 52,  1, 58, 46, 47, 56, 57, 58,  1, 44, 53, 56,  1,\n",
      "        56, 43, 60, 43, 52, 45, 43,  8,  0,  0])\n"
     ]
    }
   ],
   "source": [
    "data = torch.tensor(encode(text), dtype=torch.long)\n",
    "print(data.shape, data.dtype)\n",
    "print(data[:1000])"
   ]
  },
  {
   "cell_type": "markdown",
   "id": "db0416c0",
   "metadata": {},
   "source": [
    "### Train/Validation split"
   ]
  },
  {
   "cell_type": "code",
   "execution_count": 9,
   "id": "78c94cf3",
   "metadata": {},
   "outputs": [
    {
     "name": "stdout",
     "output_type": "stream",
     "text": [
      "1003854\n"
     ]
    }
   ],
   "source": [
    "train_size = int(0.9*len(data))\n",
    "train_X    = data[:train_size]\n",
    "val_X      = data[train_size:]\n",
    "print(train_size)"
   ]
  },
  {
   "cell_type": "markdown",
   "id": "f696f01b",
   "metadata": {},
   "source": [
    "### Setup block_size - maximum context length\n",
    "\n",
    "- context length - count of tokens in a continious line prior target token"
   ]
  },
  {
   "cell_type": "code",
   "execution_count": 10,
   "id": "33ad6663",
   "metadata": {},
   "outputs": [
    {
     "data": {
      "text/plain": [
       "tensor([18, 47, 56, 57, 58,  1, 15, 47, 58])"
      ]
     },
     "execution_count": 10,
     "metadata": {},
     "output_type": "execute_result"
    }
   ],
   "source": [
    "block_size = 8\n",
    "train_X[:block_size+1]"
   ]
  },
  {
   "cell_type": "code",
   "execution_count": 11,
   "id": "3d293727",
   "metadata": {},
   "outputs": [
    {
     "name": "stdout",
     "output_type": "stream",
     "text": [
      "when input is tensor([18]) the target is 47\n",
      "when input is tensor([18, 47]) the target is 56\n",
      "when input is tensor([18, 47, 56]) the target is 57\n",
      "when input is tensor([18, 47, 56, 57]) the target is 58\n",
      "when input is tensor([18, 47, 56, 57, 58]) the target is 1\n",
      "when input is tensor([18, 47, 56, 57, 58,  1]) the target is 15\n",
      "when input is tensor([18, 47, 56, 57, 58,  1, 15]) the target is 47\n",
      "when input is tensor([18, 47, 56, 57, 58,  1, 15, 47]) the target is 58\n"
     ]
    }
   ],
   "source": [
    "example_x = train_X[:block_size]\n",
    "example_y = train_X[1:block_size+1]\n",
    "for t in range(block_size):\n",
    "    context = example_x[:t+1]\n",
    "    target = example_y[t]\n",
    "    print(f\"when input is {context} the target is {target}\")"
   ]
  },
  {
   "cell_type": "code",
   "execution_count": 12,
   "id": "fe8322f2",
   "metadata": {},
   "outputs": [],
   "source": [
    "torch.manual_seed(1337)\n",
    "batch_size = 4\n",
    "\n",
    "def get_batch(split, batch_size=4):\n",
    "    data = train_X if split == 'train' else val_X\n",
    "    ix = torch.randint(len(data) - block_size, (batch_size,))\n",
    "    x  = torch.stack([data[i:i+block_size] for i in ix])\n",
    "    y  = torch.stack([data[i+1:i+block_size+1] for i in ix])\n",
    "    x, y = x.to(device), y.to(device)\n",
    "    return x, y\n"
   ]
  },
  {
   "cell_type": "code",
   "execution_count": 13,
   "id": "df01a31c",
   "metadata": {},
   "outputs": [
    {
     "name": "stdout",
     "output_type": "stream",
     "text": [
      "inputs:\n",
      "torch.Size([4, 8])\n",
      "tensor([[24, 43, 58,  5, 57,  1, 46, 43],\n",
      "        [44, 53, 56,  1, 58, 46, 39, 58],\n",
      "        [52, 58,  1, 58, 46, 39, 58,  1],\n",
      "        [25, 17, 27, 10,  0, 21,  1, 54]], device='cuda:0')\n",
      "targets:\n",
      "torch.Size([4, 8])\n",
      "tensor([[43, 58,  5, 57,  1, 46, 43, 39],\n",
      "        [53, 56,  1, 58, 46, 39, 58,  1],\n",
      "        [58,  1, 58, 46, 39, 58,  1, 46],\n",
      "        [17, 27, 10,  0, 21,  1, 54, 39]], device='cuda:0')\n",
      "----\n",
      "when input is [24] the target: 43\n",
      "when input is [24, 43] the target: 58\n",
      "when input is [24, 43, 58] the target: 5\n",
      "when input is [24, 43, 58, 5] the target: 57\n",
      "when input is [24, 43, 58, 5, 57] the target: 1\n",
      "when input is [24, 43, 58, 5, 57, 1] the target: 46\n",
      "when input is [24, 43, 58, 5, 57, 1, 46] the target: 43\n",
      "when input is [24, 43, 58, 5, 57, 1, 46, 43] the target: 39\n",
      "when input is [44] the target: 53\n",
      "when input is [44, 53] the target: 56\n",
      "when input is [44, 53, 56] the target: 1\n",
      "when input is [44, 53, 56, 1] the target: 58\n",
      "when input is [44, 53, 56, 1, 58] the target: 46\n",
      "when input is [44, 53, 56, 1, 58, 46] the target: 39\n",
      "when input is [44, 53, 56, 1, 58, 46, 39] the target: 58\n",
      "when input is [44, 53, 56, 1, 58, 46, 39, 58] the target: 1\n",
      "when input is [52] the target: 58\n",
      "when input is [52, 58] the target: 1\n",
      "when input is [52, 58, 1] the target: 58\n",
      "when input is [52, 58, 1, 58] the target: 46\n",
      "when input is [52, 58, 1, 58, 46] the target: 39\n",
      "when input is [52, 58, 1, 58, 46, 39] the target: 58\n",
      "when input is [52, 58, 1, 58, 46, 39, 58] the target: 1\n",
      "when input is [52, 58, 1, 58, 46, 39, 58, 1] the target: 46\n",
      "when input is [25] the target: 17\n",
      "when input is [25, 17] the target: 27\n",
      "when input is [25, 17, 27] the target: 10\n",
      "when input is [25, 17, 27, 10] the target: 0\n",
      "when input is [25, 17, 27, 10, 0] the target: 21\n",
      "when input is [25, 17, 27, 10, 0, 21] the target: 1\n",
      "when input is [25, 17, 27, 10, 0, 21, 1] the target: 54\n",
      "when input is [25, 17, 27, 10, 0, 21, 1, 54] the target: 39\n"
     ]
    }
   ],
   "source": [
    "batch_size = 4\n",
    "xb, yb = get_batch('train', batch_size)\n",
    "print('inputs:')\n",
    "print(xb.shape)\n",
    "print(xb)\n",
    "print('targets:')\n",
    "print(yb.shape)\n",
    "print(yb)\n",
    "print('----')\n",
    "for b in range(batch_size):\n",
    "    for t in range(block_size):\n",
    "        context = xb[b, :t+1]\n",
    "        target = yb[b, t]\n",
    "        print(f\"when input is {context.tolist()} the target: {target}\")"
   ]
  },
  {
   "cell_type": "markdown",
   "id": "140b0ced",
   "metadata": {},
   "source": [
    "### Baseline: Bigram Language Model"
   ]
  },
  {
   "cell_type": "code",
   "execution_count": 14,
   "id": "f6107676",
   "metadata": {},
   "outputs": [
    {
     "name": "stdout",
     "output_type": "stream",
     "text": [
      "torch.Size([4, 8, 65])\n",
      "tensor(4.8786, device='cuda:0', grad_fn=<NllLossBackward0>)\n"
     ]
    }
   ],
   "source": [
    "torch.manual_seed(1337)\n",
    "\n",
    "class BigramLanguageModel(nn.Module):\n",
    "    def __init__(self, vocab_size, embedding_dims=vocab_size):\n",
    "        super().__init__()\n",
    "        self.vocab_size = vocab_size\n",
    "        self.embed_dims = embedding_dims\n",
    "        self.tocken_embedding_table = nn.Embedding(vocab_size, embedding_dims)\n",
    "\n",
    "    def forward(self, idx):\n",
    "        return self.tocken_embedding_table(idx)\n",
    "\n",
    "    def compute_loss(self, logits, targets):\n",
    "        N, T, C = logits.shape\n",
    "        return F.cross_entropy(logits.view(N*T, C), targets.view(N*T))\n",
    "\n",
    "    def generate(self, initial_context, max_new_tokens):\n",
    "        for _ in range(max_new_tokens):\n",
    "            logits = self(initial_context)\n",
    "            last_time_step_logits = logits[:,-1,:]\n",
    "            probs = F.softmax(last_time_step_logits, dim=1)\n",
    "            context_next = torch.multinomial(probs, num_samples=1)\n",
    "            initial_context = torch.cat((initial_context, context_next), dim=1)\n",
    "        return initial_context\n",
    "\n",
    "    def generate_string(self, initial_context, max_new_tokens):\n",
    "        return ''.join(\n",
    "            decode(\n",
    "                self.generate(initial_context, max_new_tokens=max_new_tokens)[0].tolist()\n",
    "            )\n",
    "        )\n",
    "\n",
    "\n",
    "m = BigramLanguageModel(vocab_size).to(device)\n",
    "logits = m(xb)\n",
    "loss = m.compute_loss(logits, yb)\n",
    "print(logits.shape)\n",
    "print(loss)"
   ]
  },
  {
   "cell_type": "code",
   "execution_count": 15,
   "id": "f91f34e3",
   "metadata": {},
   "outputs": [
    {
     "data": {
      "text/plain": [
       "4.174387269895637"
      ]
     },
     "execution_count": 15,
     "metadata": {},
     "output_type": "execute_result"
    }
   ],
   "source": [
    "-np.log(1/65)"
   ]
  },
  {
   "cell_type": "code",
   "execution_count": 16,
   "id": "c2e8089a",
   "metadata": {},
   "outputs": [
    {
     "name": "stdout",
     "output_type": "stream",
     "text": [
      "\n",
      "pYCXxfRkRZd\n",
      "wc'wfNfT;OLlTEeC K\n",
      "jxqPToTb?bXAUG:C-SGJO-33SM:C?YI3a\n",
      "hs:LVXJFhXeNuwqhObxZ.tSVrddXlaSZaNe\n"
     ]
    }
   ],
   "source": [
    "initial_context = torch.zeros((1,1), dtype=torch.long, device=device)\n",
    "print(m.generate_string(initial_context, max_new_tokens=100))"
   ]
  },
  {
   "cell_type": "code",
   "execution_count": 17,
   "id": "d9a2265d",
   "metadata": {},
   "outputs": [
    {
     "name": "stdout",
     "output_type": "stream",
     "text": [
      "2.468719244003296\n"
     ]
    }
   ],
   "source": [
    "batch_size = 32\n",
    "eval_iters = 200\n",
    "optimizer = torch.optim.AdamW(m.parameters(), lr=1e-2)\n",
    "for steps in range(1000):\n",
    "    xb, yb = get_batch(\"train\")\n",
    "    logits = m(xb)\n",
    "    loss = m.compute_loss(logits, yb)\n",
    "    optimizer.zero_grad(set_to_none=True)\n",
    "    loss.backward()\n",
    "    optimizer.step()\n",
    "print(loss.item())"
   ]
  },
  {
   "cell_type": "code",
   "execution_count": 18,
   "id": "219b4479",
   "metadata": {},
   "outputs": [
    {
     "name": "stdout",
     "output_type": "stream",
     "text": [
      "\n",
      "Wawice my.\n",
      "\n",
      "TDER:\n",
      "AnzCENup\n",
      "Yow&$FMOUf is h bot m Whedill, ath iree s, hein lat HNGAd ov ts, and Wk p.\n",
      "GSp.\n",
      "Swanousel lind me l.\n",
      "MAul, cechiry:\n",
      "Supr aisspllw y.\n",
      "Jllinke n Bfopetelaves;qke\n",
      "\n",
      "Pl, d metSPkllo W-wou wh tCois 3s wouth dourivETENGShire s poo K:\n",
      "\n",
      "PxTre\n",
      "\n",
      "AL:\n",
      "\n",
      "Inthrupt f s ar iris! m:\n",
      "\n",
      "Thin maleronth, af Pre?d mySo myr KINLIE!\n",
      "Ktidb&y, wardsal acesE:zLAnd din cNuk ay aney Iry ts I&fr af vNGJMOnEETonoke mary.\n",
      "Yof 'soug me?m sora an hse.\n",
      "Spond by we men.\n",
      "Sand s st sulin s th llugivod, wimmuc\n"
     ]
    }
   ],
   "source": [
    "context = torch.zeros((1,1), dtype=torch.long, device=device)\n",
    "print(m.generate_string(context, max_new_tokens=500))"
   ]
  },
  {
   "cell_type": "markdown",
   "id": "7b55c081",
   "metadata": {},
   "source": [
    "### Denoise loss calculation"
   ]
  },
  {
   "cell_type": "code",
   "execution_count": 19,
   "id": "6320a9ad",
   "metadata": {},
   "outputs": [],
   "source": [
    "class LossEstimator:\n",
    "    \n",
    "    def __init__(self, eval_step):\n",
    "        self.eval_step = eval_step\n",
    "\n",
    "    @torch.no_grad()\n",
    "    def estimate_loss(self, model):\n",
    "        estimations = dict()\n",
    "        model.eval()\n",
    "        for split in ['train', 'val']:\n",
    "            losses = torch.zeros(self.eval_step)\n",
    "            for k in range(self.eval_step):\n",
    "                X, y = get_batch(split)\n",
    "                logits = model(X)\n",
    "                loss = model.compute_loss(logits, y)\n",
    "                losses[k] = loss.item()\n",
    "            estimations[split] = losses.mean().item()\n",
    "        model.train()\n",
    "        return estimations"
   ]
  },
  {
   "cell_type": "markdown",
   "id": "67d3bc1d",
   "metadata": {},
   "source": [
    "### Collect all the training stuff into a single method\n",
    "\n",
    "It includes:\n",
    "- average loss estimations through batch of samples\n",
    "- average losses for both train and valdidation split\n",
    "- Adam optimizer with weights penalty\n",
    "- learning_rate decay on plateau"
   ]
  },
  {
   "cell_type": "code",
   "execution_count": 20,
   "id": "d35f1447",
   "metadata": {},
   "outputs": [],
   "source": [
    "def train(model, iterations, batch_size, optimizer, lr_scheduler, loss_estimator):\n",
    "    loss_history = {\"train\": [], \"val\": []} \n",
    "    for i in range(iterations):\n",
    "        if i % loss_estimator.eval_step == 0:\n",
    "            losses = loss_estimator.estimate_loss(model)\n",
    "            print(f\"step {i} losses:\", end=\" \") \n",
    "            for split, loss_value in losses.items():\n",
    "                loss_history[split].append(loss_value)\n",
    "                print(f\"{split} {losses['train']:.4f},\", end=\" \")\n",
    "            lr_scheduler.step(losses['train'])\n",
    "            print()\n",
    "        xb, yb = get_batch('train', batch_size)\n",
    "        logits = model(xb)\n",
    "        loss = model.compute_loss(logits, yb)\n",
    "        optimizer.zero_grad(set_to_none=True)\n",
    "        loss.backward()\n",
    "        optimizer.step()\n",
    "    return loss_history\n"
   ]
  },
  {
   "cell_type": "code",
   "execution_count": 21,
   "id": "c7812051",
   "metadata": {},
   "outputs": [],
   "source": [
    "model = BigramLanguageModel(vocab_size).to(device)\n",
    "iterations = 2000\n",
    "batch_size = 32\n",
    "optimizer = torch.optim.AdamW(model.parameters(), lr=1e-2)\n",
    "lr_scheduler = optim.lr_scheduler.ReduceLROnPlateau(optimizer, patience=10)\n",
    "loss_estimator = LossEstimator(eval_step=200)"
   ]
  },
  {
   "cell_type": "code",
   "execution_count": 22,
   "id": "fa45ff11",
   "metadata": {},
   "outputs": [
    {
     "name": "stdout",
     "output_type": "stream",
     "text": [
      "\n",
      "$ &!voyzUsSFuyzY;gl.VL\n",
      " EiaRkzJTl?l$iQTkXxsYVzXOPuAbTVH:lvMvLKJ?dCa?Cc\n",
      " NlPsh!fkpXvmMK&KJeV:PJDmdau$\n"
     ]
    }
   ],
   "source": [
    "initial_context = torch.zeros((1,1), dtype=torch.long, device=device)\n",
    "print(model.generate_string(initial_context, max_new_tokens=100))"
   ]
  },
  {
   "cell_type": "code",
   "execution_count": 23,
   "id": "2e69b533",
   "metadata": {},
   "outputs": [
    {
     "name": "stdout",
     "output_type": "stream",
     "text": [
      "step 0 losses: train 4.5626, val 4.5626, \n",
      "step 200 losses: train 3.0365, val 3.0365, \n",
      "step 400 losses: train 2.6256, val 2.6256, \n",
      "step 600 losses: train 2.5434, val 2.5434, \n",
      "step 800 losses: train 2.4902, val 2.4902, \n",
      "step 1000 losses: train 2.4792, val 2.4792, \n",
      "step 1200 losses: train 2.5010, val 2.5010, \n",
      "step 1400 losses: train 2.4654, val 2.4654, \n",
      "step 1600 losses: train 2.4563, val 2.4563, \n",
      "step 1800 losses: train 2.4842, val 2.4842, \n"
     ]
    }
   ],
   "source": [
    "loss_history = train(model, iterations, batch_size, optimizer, lr_scheduler, loss_estimator)"
   ]
  },
  {
   "cell_type": "code",
   "execution_count": 24,
   "id": "dbb01062",
   "metadata": {},
   "outputs": [
    {
     "name": "stdout",
     "output_type": "stream",
     "text": [
      "\n",
      "Whe feRUCatos:\n",
      "Whit Clo gschundisthou ldu he n, soxtharereanthatakes aghercoEEO: wam s s withoumas Fond the wlld INour id, mersedInsurd?\n",
      "TI idurd po &X$Genond Cad ty\n",
      "K:\n",
      "BIUSoou tiund thornofen e sutan wiporthare whanot, sitthers,\n",
      "\n",
      "OLABllellke, on s h O, t pan, ce wat d tive wout ir f; u;\n",
      "\n",
      "ANRWhe ouees rtano iru fo. floirorQUEHEnk;\n",
      "CKES:MO tck in, d cer t ftanofallon bay ho sh ag llen, meseveminds s; te worimyoin ie--\n",
      "ARUSThe Whou wowhedichea blare aned hy senInirstha theint co mas, the an be ke \n"
     ]
    }
   ],
   "source": [
    "print(model.generate_string(initial_context, max_new_tokens=500))"
   ]
  },
  {
   "cell_type": "code",
   "execution_count": 25,
   "id": "619142f6",
   "metadata": {
    "scrolled": true
   },
   "outputs": [
    {
     "data": {
      "text/plain": [
       "<matplotlib.legend.Legend at 0x7f93f0600fd0>"
      ]
     },
     "execution_count": 25,
     "metadata": {},
     "output_type": "execute_result"
    },
    {
     "data": {
      "image/png": "[encoded data removed]",
      "text/plain": [
       "<Figure size 800x300 with 1 Axes>"
      ]
     },
     "metadata": {},
     "output_type": "display_data"
    }
   ],
   "source": [
    "fig, ax_l = plt.subplots(1, 1, figsize=(8,3))\n",
    "ax_l.plot(np.array(loss_history[\"train\"]).flatten(), label = 'train loss')\n",
    "ax_l.plot(np.array(loss_history[\"val\"]).flatten(), label = 'validation loss')\n",
    "ax_l.legend()"
   ]
  },
  {
   "cell_type": "markdown",
   "id": "b4bf90f3",
   "metadata": {},
   "source": [
    "### Averaging past context by multiplication on triangle matrix"
   ]
  },
  {
   "cell_type": "code",
   "execution_count": 26,
   "id": "61277493",
   "metadata": {},
   "outputs": [
    {
     "data": {
      "text/plain": [
       "torch.Size([32, 8, 65])"
      ]
     },
     "execution_count": 26,
     "metadata": {},
     "output_type": "execute_result"
    }
   ],
   "source": [
    "x = torch.randn(batch_size, block_size, vocab_size)\n",
    "x.shape"
   ]
  },
  {
   "cell_type": "markdown",
   "id": "1b283a3c",
   "metadata": {},
   "source": [
    "### straightforward implementation"
   ]
  },
  {
   "cell_type": "code",
   "execution_count": 27,
   "id": "14e43473",
   "metadata": {},
   "outputs": [],
   "source": [
    "def straightforward_averaging():\n",
    "    xbow = torch.zeros((batch_size, block_size, vocab_size))\n",
    "    for b in range(batch_size):\n",
    "        for t in range(block_size):\n",
    "            xprev = x[b,:t+1]\n",
    "            xbow[b,t] = torch.mean(xprev, 0)\n",
    "    return xbow\n",
    "\n",
    "xbow = straightforward_averaging()"
   ]
  },
  {
   "cell_type": "code",
   "execution_count": 28,
   "id": "ec1b757d",
   "metadata": {},
   "outputs": [
    {
     "name": "stdout",
     "output_type": "stream",
     "text": [
      "3.93 ms ± 38 µs per loop (mean ± std. dev. of 7 runs, 100 loops each)\n"
     ]
    }
   ],
   "source": [
    "%timeit straightforward_averaging()"
   ]
  },
  {
   "cell_type": "markdown",
   "id": "ae55b0db",
   "metadata": {},
   "source": [
    "### Optimized implementation by matmul"
   ]
  },
  {
   "cell_type": "code",
   "execution_count": 29,
   "id": "8f2ba0e7",
   "metadata": {},
   "outputs": [],
   "source": [
    "def matmull_averaging():\n",
    "    wei = torch.tril(torch.ones((block_size, block_size)))\n",
    "    wei = wei / wei.sum(1, keepdim=True)\n",
    "    return wei @ x\n",
    "\n",
    "xbow2 = matmull_averaging()"
   ]
  },
  {
   "cell_type": "code",
   "execution_count": 30,
   "id": "11ca6d31",
   "metadata": {},
   "outputs": [
    {
     "name": "stdout",
     "output_type": "stream",
     "text": [
      "121 µs ± 16.7 µs per loop (mean ± std. dev. of 7 runs, 10,000 loops each)\n"
     ]
    }
   ],
   "source": [
    "%timeit matmull_averaging()"
   ]
  },
  {
   "cell_type": "code",
   "execution_count": 31,
   "id": "2fefabc0",
   "metadata": {},
   "outputs": [
    {
     "data": {
      "text/plain": [
       "False"
      ]
     },
     "execution_count": 31,
     "metadata": {},
     "output_type": "execute_result"
    }
   ],
   "source": [
    "torch.allclose(xbow, xbow2)"
   ]
  },
  {
   "cell_type": "code",
   "execution_count": 32,
   "id": "71e6e94c",
   "metadata": {},
   "outputs": [
    {
     "data": {
      "text/plain": [
       "(tensor([ 2.1373e-03,  3.1831e-04,  2.7281e-04, -1.3027e-03,  1.4255e-03,\n",
       "          5.5671e-05, -3.3516e-03, -1.4733e-03, -1.5935e-03, -1.5371e-03,\n",
       "         -8.3896e-04, -2.6058e-04]),\n",
       " tensor([ 2.1374e-03,  3.1829e-04,  2.7283e-04, -1.3027e-03,  1.4255e-03,\n",
       "          5.5689e-05, -3.3516e-03, -1.4733e-03, -1.5934e-03, -1.5371e-03,\n",
       "         -8.3894e-04, -2.6059e-04]))"
      ]
     },
     "execution_count": 32,
     "metadata": {},
     "output_type": "execute_result"
    }
   ],
   "source": [
    "idx = torch.isclose(xbow, xbow2) == False\n",
    "xbow[idx], xbow2[idx]"
   ]
  },
  {
   "cell_type": "markdown",
   "id": "f76fc708",
   "metadata": {},
   "source": [
    "### Implementation with Softmax"
   ]
  },
  {
   "cell_type": "code",
   "execution_count": 33,
   "id": "3bbb4db5",
   "metadata": {},
   "outputs": [],
   "source": [
    "def softmax_averaging():\n",
    "    tril = torch.tril(torch.ones((block_size, block_size)))\n",
    "    wei = torch \\\n",
    "        .zeros((block_size, block_size)) \\\n",
    "        .masked_fill(tril == 0, float(\"-inf\"))\n",
    "    wei = F.softmax(wei, dim=1)\n",
    "    return wei @ x\n",
    "xbow3 = softmax_averaging()"
   ]
  },
  {
   "cell_type": "code",
   "execution_count": 34,
   "id": "474338f9",
   "metadata": {},
   "outputs": [
    {
     "name": "stdout",
     "output_type": "stream",
     "text": [
      "139 µs ± 14.1 µs per loop (mean ± std. dev. of 7 runs, 10,000 loops each)\n"
     ]
    }
   ],
   "source": [
    "%timeit softmax_averaging()"
   ]
  },
  {
   "cell_type": "code",
   "execution_count": 35,
   "id": "ebbef731",
   "metadata": {},
   "outputs": [
    {
     "data": {
      "text/plain": [
       "False"
      ]
     },
     "execution_count": 35,
     "metadata": {},
     "output_type": "execute_result"
    }
   ],
   "source": [
    "torch.allclose(xbow,xbow3)"
   ]
  },
  {
   "cell_type": "code",
   "execution_count": 36,
   "id": "b7c3fcff",
   "metadata": {},
   "outputs": [
    {
     "data": {
      "text/plain": [
       "(tensor([ 2.1373e-03,  3.1831e-04,  2.7281e-04, -1.3027e-03,  1.4255e-03,\n",
       "          5.5671e-05, -3.3516e-03, -1.4733e-03, -1.5935e-03, -1.5371e-03,\n",
       "         -8.3896e-04, -2.6058e-04]),\n",
       " tensor([ 2.1374e-03,  3.1829e-04,  2.7283e-04, -1.3027e-03,  1.4255e-03,\n",
       "          5.5689e-05, -3.3516e-03, -1.4733e-03, -1.5934e-03, -1.5371e-03,\n",
       "         -8.3894e-04, -2.6059e-04]))"
      ]
     },
     "execution_count": 36,
     "metadata": {},
     "output_type": "execute_result"
    }
   ],
   "source": [
    "idx = torch.isclose(xbow, xbow3) == False\n",
    "xbow[idx], xbow3[idx]"
   ]
  },
  {
   "cell_type": "markdown",
   "id": "b3ad6982",
   "metadata": {},
   "source": [
    "### Bigram language model with Linear layer"
   ]
  },
  {
   "cell_type": "code",
   "execution_count": 37,
   "id": "9df1376e",
   "metadata": {},
   "outputs": [
    {
     "name": "stdout",
     "output_type": "stream",
     "text": [
      "torch.Size([4, 8, 65])\n",
      "tensor(4.2152, device='cuda:0', grad_fn=<NllLossBackward0>)\n"
     ]
    }
   ],
   "source": [
    "class BigramLanguageModel2(BigramLanguageModel):\n",
    "    def __init__(self, vocab_size, embedding_dims):\n",
    "        super().__init__(vocab_size, embedding_dims)\n",
    "        self.lm_head = nn.Linear(embedding_dims, vocab_size)\n",
    "\n",
    "    def forward(self, idx):\n",
    "        token_embeddings = super().forward(idx)\n",
    "        return self.lm_head(token_embeddings)\n",
    "\n",
    "\n",
    "embedding_dims = 32\n",
    "model2 = BigramLanguageModel2(vocab_size, embedding_dims).to(device)\n",
    "logits = model2(xb)\n",
    "loss = model2.compute_loss(logits, yb)\n",
    "print(logits.shape)\n",
    "print(loss)"
   ]
  },
  {
   "cell_type": "code",
   "execution_count": 38,
   "id": "f782afe0",
   "metadata": {},
   "outputs": [
    {
     "name": "stdout",
     "output_type": "stream",
     "text": [
      "\n",
      "3LDblw!AOItGelLbRJZwRZiSgOxzwz Lh$aGxQZwwX$eUCzjIISG:;t;gvXjRxb yBO&hH!-FFj&tmNTWBlK!mAoH!gATMm\n",
      "ol;r\n"
     ]
    }
   ],
   "source": [
    "print(model2.generate_string(initial_context, max_new_tokens=100))"
   ]
  },
  {
   "cell_type": "code",
   "execution_count": 39,
   "id": "168e26cd",
   "metadata": {},
   "outputs": [
    {
     "name": "stdout",
     "output_type": "stream",
     "text": [
      "step 0 losses: train 4.3989, val 4.3989, \n",
      "step 200 losses: train 2.5556, val 2.5556, \n",
      "step 400 losses: train 2.4846, val 2.4846, \n",
      "step 600 losses: train 2.4989, val 2.4989, \n",
      "step 800 losses: train 2.4787, val 2.4787, \n",
      "step 1000 losses: train 2.4891, val 2.4891, \n",
      "step 1200 losses: train 2.4993, val 2.4993, \n",
      "step 1400 losses: train 2.5051, val 2.5051, \n",
      "step 1600 losses: train 2.4904, val 2.4904, \n",
      "step 1800 losses: train 2.5234, val 2.5234, \n"
     ]
    }
   ],
   "source": [
    "optimizer = torch.optim.AdamW(model2.parameters(), lr=1e-2)\n",
    "loss_history = train(\n",
    "    model = model2,\n",
    "    iterations = 2000,\n",
    "    batch_size = 32,\n",
    "    optimizer = optimizer,\n",
    "    lr_scheduler = optim.lr_scheduler.ReduceLROnPlateau(optimizer, patience=10),\n",
    "    loss_estimator = LossEstimator(eval_step=200)\n",
    ")"
   ]
  },
  {
   "cell_type": "code",
   "execution_count": 40,
   "id": "6aa835a9",
   "metadata": {},
   "outputs": [
    {
     "data": {
      "text/plain": [
       "<matplotlib.legend.Legend at 0x7f943df7aad0>"
      ]
     },
     "execution_count": 40,
     "metadata": {},
     "output_type": "execute_result"
    },
    {
     "data": {
      "image/png": "[encoded data removed]",
      "text/plain": [
       "<Figure size 800x300 with 1 Axes>"
      ]
     },
     "metadata": {},
     "output_type": "display_data"
    }
   ],
   "source": [
    "fig, ax_l = plt.subplots(1, 1, figsize=(8,3))\n",
    "ax_l.plot(np.array(loss_history[\"train\"]).flatten(), label = 'train loss')\n",
    "ax_l.plot(np.array(loss_history[\"val\"]).flatten(), label = 'validation loss')\n",
    "ax_l.legend()"
   ]
  },
  {
   "cell_type": "code",
   "execution_count": 41,
   "id": "8feaf289",
   "metadata": {},
   "outputs": [
    {
     "name": "stdout",
     "output_type": "stream",
     "text": [
      "\n",
      "ULe t jura d f t wothrmu th?\n",
      "\n",
      "Shaimarmas, h n t il c; d juslotor Whthanlll my ay meras be:\n",
      "HEAy o n, nbust RIUCE:\n",
      "\n",
      "\n",
      "Anveabae; IOn hequ the an nu tonm THEEO:\n",
      "e y, d.\n",
      "Glige, iss y eyot,\n",
      "BURO:\n",
      "BRKENERYe\n",
      "The s; s omengre;\n",
      "HARINGor ars, es s;\n",
      "\n",
      "ICld t olk ve, scee Clllothenjee ORWheresed we h, st ar\n",
      "ENCELONS d.\n",
      "LINus derk he kn wen h ppril\n",
      "'d! WANELUSThrwshe. ar?\n",
      "EEThar INISist athe couf mhir, byoass houng, hathese haway,\n",
      "ANTnd end,\n",
      "My waflouth s wat than ccr courcilt, omamonge,\n",
      "Youlateald weat r thea\n"
     ]
    }
   ],
   "source": [
    "print(model2.generate_string(initial_context, max_new_tokens=500))"
   ]
  },
  {
   "cell_type": "markdown",
   "id": "d24363b8",
   "metadata": {},
   "source": [
    "### Bigram language model with position embeddings"
   ]
  },
  {
   "cell_type": "code",
   "execution_count": 42,
   "id": "ede4e917",
   "metadata": {},
   "outputs": [
    {
     "name": "stdout",
     "output_type": "stream",
     "text": [
      "4.426414966583252\n",
      "\n",
      "&j.Ef&ioHDBg'PCWz!rzwbu-NrB&?$'liYyGv'lwWl&g  zqS'$fjZNX-ViDmzwq$BawZ;$Fk:Pq-B!'QnJuBNzoPHy!pmMzw,!R\n"
     ]
    }
   ],
   "source": [
    "class PositionalBigramLanguageModel(BigramLanguageModel):\n",
    "    def __init__(self, block_size, vocab_size, embedding_dims):\n",
    "        super().__init__(vocab_size, embedding_dims)\n",
    "        self.block_size = block_size\n",
    "        self.position_embedding_table = nn.Embedding(block_size, embedding_dims)\n",
    "        self.lm_head = nn.Linear(embedding_dims, vocab_size)\n",
    "\n",
    "    def forward(self, idx):\n",
    "        N, T = idx.shape\n",
    "        token_embeddings = super().forward(idx)\n",
    "        position_embedds = self.position_embedding_table(torch.arange(T, device=device))\n",
    "        mixed_embedds = token_embeddings + position_embedds\n",
    "        return self.lm_head(mixed_embedds)\n",
    "\n",
    "    def generate(self, initial_context, max_new_tokens):\n",
    "        for _ in range(max_new_tokens):\n",
    "            logits = self(initial_context[:, -self.block_size:])\n",
    "            last_time_step_logits = logits[:,-1,:]\n",
    "            probs = F.softmax(last_time_step_logits, dim=1)\n",
    "            context_next = torch.multinomial(probs, num_samples=1)\n",
    "            initial_context = torch.cat((initial_context, context_next), dim=1)\n",
    "        return initial_context\n",
    "\n",
    "\n",
    "positionalModel = PositionalBigramLanguageModel(block_size, vocab_size, embedding_dims).to(device)\n",
    "logits = positionalModel.forward(xb)\n",
    "loss = positionalModel.compute_loss(logits, yb)\n",
    "print(loss.item())\n",
    "print(positionalModel.generate_string(initial_context, max_new_tokens=100))"
   ]
  },
  {
   "cell_type": "code",
   "execution_count": 43,
   "id": "265282e0",
   "metadata": {},
   "outputs": [
    {
     "name": "stdout",
     "output_type": "stream",
     "text": [
      "step 0 losses: train 4.3941, val 4.3941, \n",
      "step 200 losses: train 2.6001, val 2.6001, \n",
      "step 400 losses: train 2.5359, val 2.5359, \n",
      "step 600 losses: train 2.5008, val 2.5008, \n",
      "step 800 losses: train 2.5243, val 2.5243, \n",
      "step 1000 losses: train 2.4951, val 2.4951, \n",
      "step 1200 losses: train 2.5118, val 2.5118, \n",
      "step 1400 losses: train 2.4977, val 2.4977, \n",
      "step 1600 losses: train 2.5257, val 2.5257, \n",
      "step 1800 losses: train 2.5058, val 2.5058, \n"
     ]
    }
   ],
   "source": [
    "optimizer = optim.AdamW(positionalModel.parameters(), lr=1e-2, weight_decay=1e-5)\n",
    "loss_history = train(\n",
    "    model = positionalModel,\n",
    "    iterations = 2000,\n",
    "    batch_size = 32,\n",
    "    optimizer = optimizer,\n",
    "    lr_scheduler= optim.lr_scheduler.ReduceLROnPlateau(optimizer, patience=3),\n",
    "    loss_estimator = LossEstimator(eval_step=200)\n",
    ")"
   ]
  },
  {
   "cell_type": "code",
   "execution_count": 44,
   "id": "e14e1147",
   "metadata": {},
   "outputs": [
    {
     "data": {
      "text/plain": [
       "<matplotlib.legend.Legend at 0x7f943d53c070>"
      ]
     },
     "execution_count": 44,
     "metadata": {},
     "output_type": "execute_result"
    },
    {
     "data": {
      "image/png": "[encoded data removed]",
      "text/plain": [
       "<Figure size 800x300 with 1 Axes>"
      ]
     },
     "metadata": {},
     "output_type": "display_data"
    }
   ],
   "source": [
    "fig, ax_l = plt.subplots(1, 1, figsize=(8,3))\n",
    "ax_l.plot(np.array(loss_history[\"train\"]).flatten(), label = 'train loss')\n",
    "ax_l.plot(np.array(loss_history[\"val\"]).flatten(), label = 'validation loss')\n",
    "ax_l.legend()"
   ]
  },
  {
   "cell_type": "code",
   "execution_count": 45,
   "id": "b5ebf846",
   "metadata": {},
   "outputs": [
    {
     "name": "stdout",
     "output_type": "stream",
     "text": [
      "\n",
      "NGowavonseat,\n",
      "JUS: d bu y Gofad\n",
      ",\n",
      "JUCUPR pat ingr brifo s men'ed.\n",
      "Whathee s his ote h henike a \n",
      "Mares; e lane.\n",
      "O trr, his? kele y bet citinorirongh ry, higo m fas; th ade,\n",
      "AMu t htereerd\n",
      "BE:\n",
      "TUR:\n",
      "NCour isenookie w I't O:\n",
      "ST:\n",
      "ILIm prinetowed amand e\n",
      "Sore ofouse sis is ith y de\n",
      "TERe hed COfad ym o thando yo ory be mand h lomed h t:\n",
      "3 ther tl mor, s\n",
      "\n",
      "\n",
      "\n",
      "PEdshenceadad, hore mma unest s y areaseds!\n",
      "E:\n",
      "Cadriey meawhe ainon mapr, u ouril had be.\n",
      "y, d sloreveke ckst da my s,\n",
      "DWhy 's o he vous.\n",
      "\n",
      "\n",
      "ERCE pan.\n",
      "ot f Larerar, m nof marolllcig ht thir woorowait ty, y:\n",
      "Jo he wik slld fofud\n",
      "As mowinequt cemaner myoue.\n",
      "'lindwo.\n",
      "YO:\n",
      "TAst f at st, Clotheighaig trvageghor A.\n",
      "And! haverdr e\n",
      "ANI , ch n ale wind RI I htow'd ; w s atorth:\n",
      "Norire my akr f ce mo m.\n",
      "\n",
      "\n",
      "errdd, hayessloul fotheremp dth me we weirg onecldil h, ncut;\n",
      "D:\n",
      "Whiethier,\n",
      "\n",
      "IONETHARY arofarkered wncende is, t thid bickit s is,\n",
      "ALOre buto ghangr watowht won heBRoleg, yerm aikngol ithe.\n",
      "Thamyishegun inde no\n",
      "\n",
      "Le: tom bence Whe.\n",
      "ASouy corimangich E:\n"
     ]
    }
   ],
   "source": [
    "print(positionalModel.generate_string(initial_context, max_new_tokens=1000))"
   ]
  }
 ],
 "metadata": {
  "kernelspec": {
   "display_name": "Python 3 (ipykernel)",
   "language": "python",
   "name": "python3"
  },
  "language_info": {
   "codemirror_mode": {
    "name": "ipython",
    "version": 3
   },
   "file_extension": ".py",
   "mimetype": "text/x-python",
   "name": "python",
   "nbconvert_exporter": "python",
   "pygments_lexer": "ipython3",
   "version": "3.10.6"
  }
 },
 "nbformat": 4,
 "nbformat_minor": 5
}
