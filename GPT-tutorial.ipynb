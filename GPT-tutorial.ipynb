{
 "cells": [
  {
   "cell_type": "markdown",
   "id": "141210bc",
   "metadata": {},
   "source": [
    "## Initial preparations"
   ]
  },
  {
   "cell_type": "code",
   "execution_count": 1,
   "id": "4a3c5fc0",
   "metadata": {},
   "outputs": [
    {
     "data": {
      "text/plain": [
       "(True, 0, 0)"
      ]
     },
     "execution_count": 1,
     "metadata": {},
     "output_type": "execute_result"
    }
   ],
   "source": [
    "import torch\n",
    "import torch.nn as nn\n",
    "import torch.optim as optim\n",
    "import numpy as np\n",
    "import matplotlib.pyplot as plt\n",
    "\n",
    "from torch.nn import functional as F\n",
    "\n",
    "device = 'cuda' if torch.cuda else 'cpu'\n",
    "torch.cuda.is_available(), torch.cuda.memory_allocated(), torch.cuda.max_memory_allocated()"
   ]
  },
  {
   "cell_type": "markdown",
   "id": "2262bdce",
   "metadata": {},
   "source": [
    "## Dataset: Tiny Shakespeare"
   ]
  },
  {
   "cell_type": "markdown",
   "id": "dba60715",
   "metadata": {},
   "source": [
    "### Download"
   ]
  },
  {
   "cell_type": "code",
   "execution_count": 2,
   "id": "97d72c68",
   "metadata": {},
   "outputs": [
    {
     "name": "stdout",
     "output_type": "stream",
     "text": [
      "--2023-05-17 17:23:11--  https://raw.githubusercontent.com/karpathy/char-rnn/master/data/tinyshakespeare/input.txt\n",
      "Resolving raw.githubusercontent.com (raw.githubusercontent.com)... 185.199.111.133, 185.199.108.133, 185.199.109.133, ...\n",
      "Connecting to raw.githubusercontent.com (raw.githubusercontent.com)|185.199.111.133|:443... connected.\n",
      "HTTP request sent, awaiting response... 200 OK\n",
      "Length: 1115394 (1.1M) [text/plain]\n",
      "Saving to: ‘input.txt.1’\n",
      "\n",
      "input.txt.1         100%[===================>]   1.06M  6.66MB/s    in 0.2s    \n",
      "\n",
      "2023-05-17 17:23:11 (6.66 MB/s) - ‘input.txt.1’ saved [1115394/1115394]\n",
      "\n"
     ]
    }
   ],
   "source": [
    "!wget https://raw.githubusercontent.com/karpathy/char-rnn/master/data/tinyshakespeare/input.txt"
   ]
  },
  {
   "cell_type": "code",
   "execution_count": 2,
   "id": "39471708",
   "metadata": {},
   "outputs": [],
   "source": [
    "with open(\"input.txt\", 'r', encoding='utf-8') as f:\n",
    "    text = f.read()"
   ]
  },
  {
   "cell_type": "code",
   "execution_count": 3,
   "id": "f15cb2a8",
   "metadata": {},
   "outputs": [
    {
     "name": "stdout",
     "output_type": "stream",
     "text": [
      "1115394\n"
     ]
    }
   ],
   "source": [
    "print(len(text))"
   ]
  },
  {
   "cell_type": "code",
   "execution_count": 4,
   "id": "2473ca68",
   "metadata": {},
   "outputs": [
    {
     "name": "stdout",
     "output_type": "stream",
     "text": [
      "First Citizen:\n",
      "Before we proceed any further, hear me speak.\n",
      "\n",
      "All:\n",
      "Speak, speak.\n",
      "\n",
      "First Citizen:\n",
      "You are all resolved rather to die than to famish?\n",
      "\n",
      "All:\n",
      "Resolved. resolved.\n",
      "\n",
      "First Citizen:\n",
      "First, you know Caius Marcius is chief enemy to the people.\n",
      "\n",
      "All:\n",
      "We know't, we know't.\n",
      "\n",
      "First Citizen:\n",
      "Let us kill him, and we'll have corn at our own price.\n",
      "Is't a verdict?\n",
      "\n",
      "All:\n",
      "No more talking on't; let it be done: away, away!\n",
      "\n",
      "Second Citizen:\n",
      "One word, good citizens.\n",
      "\n",
      "First Citizen:\n",
      "We are accounted poor citizens, the patricians good.\n",
      "What authority surfeits on would relieve us: if they\n",
      "would yield us but the superfluity, while it were\n",
      "wholesome, we might guess they relieved us humanely;\n",
      "but they think we are too dear: the leanness that\n",
      "afflicts us, the object of our misery, is as an\n",
      "inventory to particularise their abundance; our\n",
      "sufferance is a gain to them Let us revenge this with\n",
      "our pikes, ere we become rakes: for the gods know I\n",
      "speak this in hunger for bread, not in thirst for revenge.\n",
      "\n",
      "\n"
     ]
    }
   ],
   "source": [
    "print(text[:1000])"
   ]
  },
  {
   "cell_type": "markdown",
   "id": "fd79366d",
   "metadata": {},
   "source": [
    "### Building vocabular"
   ]
  },
  {
   "cell_type": "code",
   "execution_count": 5,
   "id": "9bb5a0b9",
   "metadata": {},
   "outputs": [
    {
     "name": "stdout",
     "output_type": "stream",
     "text": [
      "\n",
      " !$&',-.3:;?ABCDEFGHIJKLMNOPQRSTUVWXYZabcdefghijklmnopqrstuvwxyz\n",
      "65\n"
     ]
    }
   ],
   "source": [
    "vocab = sorted(list(set(text)))\n",
    "vocab_size = len(vocab)\n",
    "print(\"\".join(vocab))\n",
    "print(vocab_size)"
   ]
  },
  {
   "cell_type": "markdown",
   "id": "f85b2129",
   "metadata": {},
   "source": [
    "### Tokenizing\n",
    "\n",
    "Revise tokenisers:\n",
    "\n",
    "- SentencePiece powered by Google\n",
    "- TikToken"
   ]
  },
  {
   "cell_type": "code",
   "execution_count": 6,
   "id": "72a5ff05",
   "metadata": {},
   "outputs": [
    {
     "name": "stdout",
     "output_type": "stream",
     "text": [
      "[46, 43, 50, 50, 53, 6, 1, 61, 53, 56, 50, 42, 2]\n",
      "hello, world!\n"
     ]
    }
   ],
   "source": [
    "stoi = {ch:i for i,ch in enumerate(vocab)}\n",
    "itos = {i:ch for i,ch in enumerate(vocab)}\n",
    "encode = lambda s: [stoi[c] for c in s]\n",
    "decode = lambda L: [itos[i] for i in L]\n",
    "\n",
    "print(encode(\"hello, world!\"))\n",
    "print(''.join(decode(encode(\"hello, world!\"))))"
   ]
  },
  {
   "cell_type": "code",
   "execution_count": 7,
   "id": "b545c73b",
   "metadata": {},
   "outputs": [
    {
     "name": "stdout",
     "output_type": "stream",
     "text": [
      "torch.Size([1115394]) torch.int64\n",
      "tensor([18, 47, 56, 57, 58,  1, 15, 47, 58, 47, 64, 43, 52, 10,  0, 14, 43, 44,\n",
      "        53, 56, 43,  1, 61, 43,  1, 54, 56, 53, 41, 43, 43, 42,  1, 39, 52, 63,\n",
      "         1, 44, 59, 56, 58, 46, 43, 56,  6,  1, 46, 43, 39, 56,  1, 51, 43,  1,\n",
      "        57, 54, 43, 39, 49,  8,  0,  0, 13, 50, 50, 10,  0, 31, 54, 43, 39, 49,\n",
      "         6,  1, 57, 54, 43, 39, 49,  8,  0,  0, 18, 47, 56, 57, 58,  1, 15, 47,\n",
      "        58, 47, 64, 43, 52, 10,  0, 37, 53, 59,  1, 39, 56, 43,  1, 39, 50, 50,\n",
      "         1, 56, 43, 57, 53, 50, 60, 43, 42,  1, 56, 39, 58, 46, 43, 56,  1, 58,\n",
      "        53,  1, 42, 47, 43,  1, 58, 46, 39, 52,  1, 58, 53,  1, 44, 39, 51, 47,\n",
      "        57, 46, 12,  0,  0, 13, 50, 50, 10,  0, 30, 43, 57, 53, 50, 60, 43, 42,\n",
      "         8,  1, 56, 43, 57, 53, 50, 60, 43, 42,  8,  0,  0, 18, 47, 56, 57, 58,\n",
      "         1, 15, 47, 58, 47, 64, 43, 52, 10,  0, 18, 47, 56, 57, 58,  6,  1, 63,\n",
      "        53, 59,  1, 49, 52, 53, 61,  1, 15, 39, 47, 59, 57,  1, 25, 39, 56, 41,\n",
      "        47, 59, 57,  1, 47, 57,  1, 41, 46, 47, 43, 44,  1, 43, 52, 43, 51, 63,\n",
      "         1, 58, 53,  1, 58, 46, 43,  1, 54, 43, 53, 54, 50, 43,  8,  0,  0, 13,\n",
      "        50, 50, 10,  0, 35, 43,  1, 49, 52, 53, 61,  5, 58,  6,  1, 61, 43,  1,\n",
      "        49, 52, 53, 61,  5, 58,  8,  0,  0, 18, 47, 56, 57, 58,  1, 15, 47, 58,\n",
      "        47, 64, 43, 52, 10,  0, 24, 43, 58,  1, 59, 57,  1, 49, 47, 50, 50,  1,\n",
      "        46, 47, 51,  6,  1, 39, 52, 42,  1, 61, 43,  5, 50, 50,  1, 46, 39, 60,\n",
      "        43,  1, 41, 53, 56, 52,  1, 39, 58,  1, 53, 59, 56,  1, 53, 61, 52,  1,\n",
      "        54, 56, 47, 41, 43,  8,  0, 21, 57,  5, 58,  1, 39,  1, 60, 43, 56, 42,\n",
      "        47, 41, 58, 12,  0,  0, 13, 50, 50, 10,  0, 26, 53,  1, 51, 53, 56, 43,\n",
      "         1, 58, 39, 50, 49, 47, 52, 45,  1, 53, 52,  5, 58, 11,  1, 50, 43, 58,\n",
      "         1, 47, 58,  1, 40, 43,  1, 42, 53, 52, 43, 10,  1, 39, 61, 39, 63,  6,\n",
      "         1, 39, 61, 39, 63,  2,  0,  0, 31, 43, 41, 53, 52, 42,  1, 15, 47, 58,\n",
      "        47, 64, 43, 52, 10,  0, 27, 52, 43,  1, 61, 53, 56, 42,  6,  1, 45, 53,\n",
      "        53, 42,  1, 41, 47, 58, 47, 64, 43, 52, 57,  8,  0,  0, 18, 47, 56, 57,\n",
      "        58,  1, 15, 47, 58, 47, 64, 43, 52, 10,  0, 35, 43,  1, 39, 56, 43,  1,\n",
      "        39, 41, 41, 53, 59, 52, 58, 43, 42,  1, 54, 53, 53, 56,  1, 41, 47, 58,\n",
      "        47, 64, 43, 52, 57,  6,  1, 58, 46, 43,  1, 54, 39, 58, 56, 47, 41, 47,\n",
      "        39, 52, 57,  1, 45, 53, 53, 42,  8,  0, 35, 46, 39, 58,  1, 39, 59, 58,\n",
      "        46, 53, 56, 47, 58, 63,  1, 57, 59, 56, 44, 43, 47, 58, 57,  1, 53, 52,\n",
      "         1, 61, 53, 59, 50, 42,  1, 56, 43, 50, 47, 43, 60, 43,  1, 59, 57, 10,\n",
      "         1, 47, 44,  1, 58, 46, 43, 63,  0, 61, 53, 59, 50, 42,  1, 63, 47, 43,\n",
      "        50, 42,  1, 59, 57,  1, 40, 59, 58,  1, 58, 46, 43,  1, 57, 59, 54, 43,\n",
      "        56, 44, 50, 59, 47, 58, 63,  6,  1, 61, 46, 47, 50, 43,  1, 47, 58,  1,\n",
      "        61, 43, 56, 43,  0, 61, 46, 53, 50, 43, 57, 53, 51, 43,  6,  1, 61, 43,\n",
      "         1, 51, 47, 45, 46, 58,  1, 45, 59, 43, 57, 57,  1, 58, 46, 43, 63,  1,\n",
      "        56, 43, 50, 47, 43, 60, 43, 42,  1, 59, 57,  1, 46, 59, 51, 39, 52, 43,\n",
      "        50, 63, 11,  0, 40, 59, 58,  1, 58, 46, 43, 63,  1, 58, 46, 47, 52, 49,\n",
      "         1, 61, 43,  1, 39, 56, 43,  1, 58, 53, 53,  1, 42, 43, 39, 56, 10,  1,\n",
      "        58, 46, 43,  1, 50, 43, 39, 52, 52, 43, 57, 57,  1, 58, 46, 39, 58,  0,\n",
      "        39, 44, 44, 50, 47, 41, 58, 57,  1, 59, 57,  6,  1, 58, 46, 43,  1, 53,\n",
      "        40, 48, 43, 41, 58,  1, 53, 44,  1, 53, 59, 56,  1, 51, 47, 57, 43, 56,\n",
      "        63,  6,  1, 47, 57,  1, 39, 57,  1, 39, 52,  0, 47, 52, 60, 43, 52, 58,\n",
      "        53, 56, 63,  1, 58, 53,  1, 54, 39, 56, 58, 47, 41, 59, 50, 39, 56, 47,\n",
      "        57, 43,  1, 58, 46, 43, 47, 56,  1, 39, 40, 59, 52, 42, 39, 52, 41, 43,\n",
      "        11,  1, 53, 59, 56,  0, 57, 59, 44, 44, 43, 56, 39, 52, 41, 43,  1, 47,\n",
      "        57,  1, 39,  1, 45, 39, 47, 52,  1, 58, 53,  1, 58, 46, 43, 51,  1, 24,\n",
      "        43, 58,  1, 59, 57,  1, 56, 43, 60, 43, 52, 45, 43,  1, 58, 46, 47, 57,\n",
      "         1, 61, 47, 58, 46,  0, 53, 59, 56,  1, 54, 47, 49, 43, 57,  6,  1, 43,\n",
      "        56, 43,  1, 61, 43,  1, 40, 43, 41, 53, 51, 43,  1, 56, 39, 49, 43, 57,\n",
      "        10,  1, 44, 53, 56,  1, 58, 46, 43,  1, 45, 53, 42, 57,  1, 49, 52, 53,\n",
      "        61,  1, 21,  0, 57, 54, 43, 39, 49,  1, 58, 46, 47, 57,  1, 47, 52,  1,\n",
      "        46, 59, 52, 45, 43, 56,  1, 44, 53, 56,  1, 40, 56, 43, 39, 42,  6,  1,\n",
      "        52, 53, 58,  1, 47, 52,  1, 58, 46, 47, 56, 57, 58,  1, 44, 53, 56,  1,\n",
      "        56, 43, 60, 43, 52, 45, 43,  8,  0,  0])\n"
     ]
    }
   ],
   "source": [
    "data = torch.tensor(encode(text), dtype=torch.long)\n",
    "print(data.shape, data.dtype)\n",
    "print(data[:1000])"
   ]
  },
  {
   "cell_type": "markdown",
   "id": "db0416c0",
   "metadata": {},
   "source": [
    "### Train/Validation split"
   ]
  },
  {
   "cell_type": "code",
   "execution_count": 8,
   "id": "78c94cf3",
   "metadata": {},
   "outputs": [
    {
     "name": "stdout",
     "output_type": "stream",
     "text": [
      "1003854\n"
     ]
    }
   ],
   "source": [
    "train_size = int(0.9*len(data))\n",
    "train_X    = data[:train_size]\n",
    "val_X      = data[train_size:]\n",
    "print(train_size)"
   ]
  },
  {
   "cell_type": "markdown",
   "id": "f696f01b",
   "metadata": {},
   "source": [
    "### Setup block_size - maximum context length\n",
    "\n",
    "- context length - count of tokens in a continious line prior target token"
   ]
  },
  {
   "cell_type": "code",
   "execution_count": 9,
   "id": "33ad6663",
   "metadata": {},
   "outputs": [
    {
     "data": {
      "text/plain": [
       "tensor([18, 47, 56, 57, 58,  1, 15, 47, 58])"
      ]
     },
     "execution_count": 9,
     "metadata": {},
     "output_type": "execute_result"
    }
   ],
   "source": [
    "block_size = 8\n",
    "train_X[:block_size+1]"
   ]
  },
  {
   "cell_type": "code",
   "execution_count": 10,
   "id": "3d293727",
   "metadata": {},
   "outputs": [
    {
     "name": "stdout",
     "output_type": "stream",
     "text": [
      "when input is tensor([18]) the target is 47\n",
      "when input is tensor([18, 47]) the target is 56\n",
      "when input is tensor([18, 47, 56]) the target is 57\n",
      "when input is tensor([18, 47, 56, 57]) the target is 58\n",
      "when input is tensor([18, 47, 56, 57, 58]) the target is 1\n",
      "when input is tensor([18, 47, 56, 57, 58,  1]) the target is 15\n",
      "when input is tensor([18, 47, 56, 57, 58,  1, 15]) the target is 47\n",
      "when input is tensor([18, 47, 56, 57, 58,  1, 15, 47]) the target is 58\n"
     ]
    }
   ],
   "source": [
    "example_x = train_X[:block_size]\n",
    "example_y = train_X[1:block_size+1]\n",
    "for t in range(block_size):\n",
    "    context = example_x[:t+1]\n",
    "    target = example_y[t]\n",
    "    print(f\"when input is {context} the target is {target}\")"
   ]
  },
  {
   "cell_type": "code",
   "execution_count": 11,
   "id": "fe8322f2",
   "metadata": {},
   "outputs": [],
   "source": [
    "torch.manual_seed(1337)\n",
    "batch_size = 4\n",
    "\n",
    "def get_batch(split, batch_size=4):\n",
    "    data = train_X if split == 'train' else val_X\n",
    "    ix = torch.randint(len(data) - block_size, (batch_size,))\n",
    "    x  = torch.stack([data[i:i+block_size] for i in ix])\n",
    "    y  = torch.stack([data[i+1:i+block_size+1] for i in ix])\n",
    "    x, y = x.to(device), y.to(device)\n",
    "    return x, y\n"
   ]
  },
  {
   "cell_type": "code",
   "execution_count": 12,
   "id": "df01a31c",
   "metadata": {},
   "outputs": [
    {
     "name": "stdout",
     "output_type": "stream",
     "text": [
      "inputs:\n",
      "torch.Size([4, 8])\n",
      "tensor([[24, 43, 58,  5, 57,  1, 46, 43],\n",
      "        [44, 53, 56,  1, 58, 46, 39, 58],\n",
      "        [52, 58,  1, 58, 46, 39, 58,  1],\n",
      "        [25, 17, 27, 10,  0, 21,  1, 54]], device='cuda:0')\n",
      "targets:\n",
      "torch.Size([4, 8])\n",
      "tensor([[43, 58,  5, 57,  1, 46, 43, 39],\n",
      "        [53, 56,  1, 58, 46, 39, 58,  1],\n",
      "        [58,  1, 58, 46, 39, 58,  1, 46],\n",
      "        [17, 27, 10,  0, 21,  1, 54, 39]], device='cuda:0')\n",
      "----\n",
      "when input is [24] the target: 43\n",
      "when input is [24, 43] the target: 58\n",
      "when input is [24, 43, 58] the target: 5\n",
      "when input is [24, 43, 58, 5] the target: 57\n",
      "when input is [24, 43, 58, 5, 57] the target: 1\n",
      "when input is [24, 43, 58, 5, 57, 1] the target: 46\n",
      "when input is [24, 43, 58, 5, 57, 1, 46] the target: 43\n",
      "when input is [24, 43, 58, 5, 57, 1, 46, 43] the target: 39\n",
      "when input is [44] the target: 53\n",
      "when input is [44, 53] the target: 56\n",
      "when input is [44, 53, 56] the target: 1\n",
      "when input is [44, 53, 56, 1] the target: 58\n",
      "when input is [44, 53, 56, 1, 58] the target: 46\n",
      "when input is [44, 53, 56, 1, 58, 46] the target: 39\n",
      "when input is [44, 53, 56, 1, 58, 46, 39] the target: 58\n",
      "when input is [44, 53, 56, 1, 58, 46, 39, 58] the target: 1\n",
      "when input is [52] the target: 58\n",
      "when input is [52, 58] the target: 1\n",
      "when input is [52, 58, 1] the target: 58\n",
      "when input is [52, 58, 1, 58] the target: 46\n",
      "when input is [52, 58, 1, 58, 46] the target: 39\n",
      "when input is [52, 58, 1, 58, 46, 39] the target: 58\n",
      "when input is [52, 58, 1, 58, 46, 39, 58] the target: 1\n",
      "when input is [52, 58, 1, 58, 46, 39, 58, 1] the target: 46\n",
      "when input is [25] the target: 17\n",
      "when input is [25, 17] the target: 27\n",
      "when input is [25, 17, 27] the target: 10\n",
      "when input is [25, 17, 27, 10] the target: 0\n",
      "when input is [25, 17, 27, 10, 0] the target: 21\n",
      "when input is [25, 17, 27, 10, 0, 21] the target: 1\n",
      "when input is [25, 17, 27, 10, 0, 21, 1] the target: 54\n",
      "when input is [25, 17, 27, 10, 0, 21, 1, 54] the target: 39\n"
     ]
    }
   ],
   "source": [
    "batch_size = 4\n",
    "xb, yb = get_batch('train', batch_size)\n",
    "print('inputs:')\n",
    "print(xb.shape)\n",
    "print(xb)\n",
    "print('targets:')\n",
    "print(yb.shape)\n",
    "print(yb)\n",
    "print('----')\n",
    "for b in range(batch_size):\n",
    "    for t in range(block_size):\n",
    "        context = xb[b, :t+1]\n",
    "        target = yb[b, t]\n",
    "        print(f\"when input is {context.tolist()} the target: {target}\")"
   ]
  },
  {
   "cell_type": "markdown",
   "id": "47bedac3",
   "metadata": {},
   "source": [
    "## Investigation of 'Attention is all you need' paper parts"
   ]
  },
  {
   "cell_type": "markdown",
   "id": "140b0ced",
   "metadata": {},
   "source": [
    "### Baseline: Bigram Language Model"
   ]
  },
  {
   "cell_type": "code",
   "execution_count": 14,
   "id": "f6107676",
   "metadata": {},
   "outputs": [
    {
     "name": "stdout",
     "output_type": "stream",
     "text": [
      "torch.Size([4, 8, 65])\n",
      "tensor(4.8786, device='cuda:0', grad_fn=<NllLossBackward0>)\n"
     ]
    }
   ],
   "source": [
    "torch.manual_seed(1337)\n",
    "\n",
    "class BigramLanguageModel(nn.Module):\n",
    "    def __init__(self, vocab_size, embedding_dims=vocab_size):\n",
    "        super().__init__()\n",
    "        self.vocab_size = vocab_size\n",
    "        self.embed_dims = embedding_dims\n",
    "        self.tocken_embedding_table = nn.Embedding(vocab_size, embedding_dims)\n",
    "\n",
    "    def forward(self, idx):\n",
    "        return self.tocken_embedding_table(idx)\n",
    "\n",
    "    def compute_loss(self, logits, targets):\n",
    "        N, T, C = logits.shape\n",
    "        return F.cross_entropy(logits.view(N*T, C), targets.view(N*T))\n",
    "\n",
    "    def generate(self, initial_context, max_new_tokens):\n",
    "        for _ in range(max_new_tokens):\n",
    "            logits = self(initial_context)\n",
    "            last_time_step_logits = logits[:,-1,:]\n",
    "            probs = F.softmax(last_time_step_logits, dim=1)\n",
    "            context_next = torch.multinomial(probs, num_samples=1)\n",
    "            initial_context = torch.cat((initial_context, context_next), dim=1)\n",
    "        return initial_context\n",
    "\n",
    "    def generate_string(self, initial_context, max_new_tokens):\n",
    "        return ''.join(\n",
    "            decode(\n",
    "                self.generate(initial_context, max_new_tokens=max_new_tokens)[0].tolist()\n",
    "            )\n",
    "        )\n",
    "\n",
    "\n",
    "m = BigramLanguageModel(vocab_size).to(device)\n",
    "logits = m(xb)\n",
    "loss = m.compute_loss(logits, yb)\n",
    "print(logits.shape)\n",
    "print(loss)"
   ]
  },
  {
   "cell_type": "code",
   "execution_count": 15,
   "id": "f91f34e3",
   "metadata": {},
   "outputs": [
    {
     "data": {
      "text/plain": [
       "4.174387269895637"
      ]
     },
     "execution_count": 15,
     "metadata": {},
     "output_type": "execute_result"
    }
   ],
   "source": [
    "-np.log(1/65)"
   ]
  },
  {
   "cell_type": "code",
   "execution_count": 16,
   "id": "c2e8089a",
   "metadata": {},
   "outputs": [
    {
     "name": "stdout",
     "output_type": "stream",
     "text": [
      "\n",
      "pYCXxfRkRZd\n",
      "wc'wfNfT;OLlTEeC K\n",
      "jxqPToTb?bXAUG:C-SGJO-33SM:C?YI3a\n",
      "hs:LVXJFhXeNuwqhObxZ.tSVrddXlaSZaNe\n"
     ]
    }
   ],
   "source": [
    "initial_context = torch.zeros((1,1), dtype=torch.long, device=device)\n",
    "print(m.generate_string(initial_context, max_new_tokens=100))"
   ]
  },
  {
   "cell_type": "code",
   "execution_count": 17,
   "id": "d9a2265d",
   "metadata": {},
   "outputs": [
    {
     "name": "stdout",
     "output_type": "stream",
     "text": [
      "2.468719244003296\n"
     ]
    }
   ],
   "source": [
    "batch_size = 32\n",
    "eval_iters = 200\n",
    "optimizer = torch.optim.AdamW(m.parameters(), lr=1e-2)\n",
    "for steps in range(1000):\n",
    "    xb, yb = get_batch(\"train\")\n",
    "    logits = m(xb)\n",
    "    loss = m.compute_loss(logits, yb)\n",
    "    optimizer.zero_grad(set_to_none=True)\n",
    "    loss.backward()\n",
    "    optimizer.step()\n",
    "print(loss.item())"
   ]
  },
  {
   "cell_type": "code",
   "execution_count": 18,
   "id": "219b4479",
   "metadata": {},
   "outputs": [
    {
     "name": "stdout",
     "output_type": "stream",
     "text": [
      "\n",
      "Wawice my.\n",
      "\n",
      "TDER:\n",
      "AnzCENup\n",
      "Yow&$FMOUf is h bot m Whedill, ath iree s, hein lat HNGAd ov ts, and Wk p.\n",
      "GSp.\n",
      "Swanousel lind me l.\n",
      "MAul, cechiry:\n",
      "Supr aisspllw y.\n",
      "Jllinke n Bfopetelaves;qke\n",
      "\n",
      "Pl, d metSPkllo W-wou wh tCois 3s wouth dourivETENGShire s poo K:\n",
      "\n",
      "PxTre\n",
      "\n",
      "AL:\n",
      "\n",
      "Inthrupt f s ar iris! m:\n",
      "\n",
      "Thin maleronth, af Pre?d mySo myr KINLIE!\n",
      "Ktidb&y, wardsal acesE:zLAnd din cNuk ay aney Iry ts I&fr af vNGJMOnEETonoke mary.\n",
      "Yof 'soug me?m sora an hse.\n",
      "Spond by we men.\n",
      "Sand s st sulin s th llugivod, wimmuc\n"
     ]
    }
   ],
   "source": [
    "context = torch.zeros((1,1), dtype=torch.long, device=device)\n",
    "print(m.generate_string(context, max_new_tokens=500))"
   ]
  },
  {
   "cell_type": "markdown",
   "id": "7b55c081",
   "metadata": {},
   "source": [
    "### Denoise loss calculation"
   ]
  },
  {
   "cell_type": "code",
   "execution_count": 26,
   "id": "6320a9ad",
   "metadata": {},
   "outputs": [],
   "source": [
    "class LossEstimator:\n",
    "    \n",
    "    def __init__(self, eval_step):\n",
    "        self.eval_step = eval_step\n",
    "\n",
    "    @torch.no_grad()\n",
    "    def estimate_loss(self, model):\n",
    "        estimations = dict()\n",
    "        model.eval()\n",
    "        for split in ['train', 'val']:\n",
    "            losses = torch.zeros(self.eval_step)\n",
    "            for k in range(self.eval_step):\n",
    "                X, y = get_batch(split)\n",
    "                logits = model(X)\n",
    "                loss = model.compute_loss(logits, y)\n",
    "                losses[k] = loss.item()\n",
    "            estimations[split] = losses.mean().item()\n",
    "        model.train()\n",
    "        return estimations"
   ]
  },
  {
   "cell_type": "markdown",
   "id": "67d3bc1d",
   "metadata": {},
   "source": [
    "### Collect all the training stuff into a single method\n",
    "\n",
    "It includes:\n",
    "- average loss estimations through batch of samples\n",
    "- average losses for both train and valdidation split\n",
    "- Adam optimizer with weights penalty\n",
    "- learning_rate decay on plateau"
   ]
  },
  {
   "cell_type": "code",
   "execution_count": 128,
   "id": "d35f1447",
   "metadata": {},
   "outputs": [],
   "source": [
    "def train(model, iterations, batch_size, optimizer, lr_scheduler, loss_estimator):\n",
    "    loss_history = {\"train\": [], \"val\": []} \n",
    "    for i in range(iterations):\n",
    "        if i % loss_estimator.eval_step == 0:\n",
    "            losses = loss_estimator.estimate_loss(model)\n",
    "            print(f\"step {i} losses:\", end=\" \") \n",
    "            for split, loss_value in losses.items():\n",
    "                loss_history[split].append(loss_value)\n",
    "                print(f\"{split} {losses[split]:.4f},\", end=\" \")\n",
    "            lr_scheduler.step(losses['train'])\n",
    "            print()\n",
    "        xb, yb = get_batch('train', batch_size)\n",
    "        logits = model(xb)\n",
    "        loss = model.compute_loss(logits, yb)\n",
    "        optimizer.zero_grad(set_to_none=True)\n",
    "        loss.backward()\n",
    "        optimizer.step()\n",
    "    return loss_history\n"
   ]
  },
  {
   "cell_type": "code",
   "execution_count": 21,
   "id": "c7812051",
   "metadata": {},
   "outputs": [],
   "source": [
    "model = BigramLanguageModel(vocab_size).to(device)\n",
    "iterations = 2000\n",
    "batch_size = 32\n",
    "optimizer = torch.optim.AdamW(model.parameters(), lr=1e-2)\n",
    "lr_scheduler = optim.lr_scheduler.ReduceLROnPlateau(optimizer, patience=10)\n",
    "loss_estimator = LossEstimator(eval_step=200)"
   ]
  },
  {
   "cell_type": "code",
   "execution_count": 22,
   "id": "fa45ff11",
   "metadata": {},
   "outputs": [
    {
     "name": "stdout",
     "output_type": "stream",
     "text": [
      "\n",
      "$ &!voyzUsSFuyzY;gl.VL\n",
      " EiaRkzJTl?l$iQTkXxsYVzXOPuAbTVH:lvMvLKJ?dCa?Cc\n",
      " NlPsh!fkpXvmMK&KJeV:PJDmdau$\n"
     ]
    }
   ],
   "source": [
    "initial_context = torch.zeros((1,1), dtype=torch.long, device=device)\n",
    "print(model.generate_string(initial_context, max_new_tokens=100))"
   ]
  },
  {
   "cell_type": "code",
   "execution_count": 23,
   "id": "2e69b533",
   "metadata": {},
   "outputs": [
    {
     "name": "stdout",
     "output_type": "stream",
     "text": [
      "step 0 losses: train 4.5626, val 4.5626, \n",
      "step 200 losses: train 3.0365, val 3.0365, \n",
      "step 400 losses: train 2.6256, val 2.6256, \n",
      "step 600 losses: train 2.5434, val 2.5434, \n",
      "step 800 losses: train 2.4902, val 2.4902, \n",
      "step 1000 losses: train 2.4792, val 2.4792, \n",
      "step 1200 losses: train 2.5010, val 2.5010, \n",
      "step 1400 losses: train 2.4654, val 2.4654, \n",
      "step 1600 losses: train 2.4563, val 2.4563, \n",
      "step 1800 losses: train 2.4842, val 2.4842, \n"
     ]
    }
   ],
   "source": [
    "loss_history = train(model, iterations, batch_size, optimizer, lr_scheduler, loss_estimator)"
   ]
  },
  {
   "cell_type": "code",
   "execution_count": 24,
   "id": "dbb01062",
   "metadata": {},
   "outputs": [
    {
     "name": "stdout",
     "output_type": "stream",
     "text": [
      "\n",
      "Whe feRUCatos:\n",
      "Whit Clo gschundisthou ldu he n, soxtharereanthatakes aghercoEEO: wam s s withoumas Fond the wlld INour id, mersedInsurd?\n",
      "TI idurd po &X$Genond Cad ty\n",
      "K:\n",
      "BIUSoou tiund thornofen e sutan wiporthare whanot, sitthers,\n",
      "\n",
      "OLABllellke, on s h O, t pan, ce wat d tive wout ir f; u;\n",
      "\n",
      "ANRWhe ouees rtano iru fo. floirorQUEHEnk;\n",
      "CKES:MO tck in, d cer t ftanofallon bay ho sh ag llen, meseveminds s; te worimyoin ie--\n",
      "ARUSThe Whou wowhedichea blare aned hy senInirstha theint co mas, the an be ke \n"
     ]
    }
   ],
   "source": [
    "print(model.generate_string(initial_context, max_new_tokens=500))"
   ]
  },
  {
   "cell_type": "code",
   "execution_count": 25,
   "id": "619142f6",
   "metadata": {
    "scrolled": true
   },
   "outputs": [
    {
     "data": {
      "text/plain": [
       "<matplotlib.legend.Legend at 0x7f93f0600fd0>"
      ]
     },
     "execution_count": 25,
     "metadata": {},
     "output_type": "execute_result"
    },
    {
     "data": {
      "image/png": "[encoded data removed]",
      "text/plain": [
       "<Figure size 800x300 with 1 Axes>"
      ]
     },
     "metadata": {},
     "output_type": "display_data"
    }
   ],
   "source": [
    "fig, ax_l = plt.subplots(1, 1, figsize=(8,3))\n",
    "ax_l.plot(np.array(loss_history[\"train\"]).flatten(), label = 'train loss')\n",
    "ax_l.plot(np.array(loss_history[\"val\"]).flatten(), label = 'validation loss')\n",
    "ax_l.legend()"
   ]
  },
  {
   "cell_type": "markdown",
   "id": "b4bf90f3",
   "metadata": {},
   "source": [
    "### Averaging past context by multiplication on triangle matrix"
   ]
  },
  {
   "cell_type": "code",
   "execution_count": 26,
   "id": "61277493",
   "metadata": {},
   "outputs": [
    {
     "data": {
      "text/plain": [
       "torch.Size([32, 8, 65])"
      ]
     },
     "execution_count": 26,
     "metadata": {},
     "output_type": "execute_result"
    }
   ],
   "source": [
    "x = torch.randn(batch_size, block_size, vocab_size)\n",
    "x.shape"
   ]
  },
  {
   "cell_type": "markdown",
   "id": "1b283a3c",
   "metadata": {},
   "source": [
    "### straightforward implementation"
   ]
  },
  {
   "cell_type": "code",
   "execution_count": 27,
   "id": "14e43473",
   "metadata": {},
   "outputs": [],
   "source": [
    "def straightforward_averaging():\n",
    "    xbow = torch.zeros((batch_size, block_size, vocab_size))\n",
    "    for b in range(batch_size):\n",
    "        for t in range(block_size):\n",
    "            xprev = x[b,:t+1]\n",
    "            xbow[b,t] = torch.mean(xprev, 0)\n",
    "    return xbow\n",
    "\n",
    "xbow = straightforward_averaging()"
   ]
  },
  {
   "cell_type": "code",
   "execution_count": 28,
   "id": "ec1b757d",
   "metadata": {},
   "outputs": [
    {
     "name": "stdout",
     "output_type": "stream",
     "text": [
      "3.93 ms ± 38 µs per loop (mean ± std. dev. of 7 runs, 100 loops each)\n"
     ]
    }
   ],
   "source": [
    "%timeit straightforward_averaging()"
   ]
  },
  {
   "cell_type": "markdown",
   "id": "ae55b0db",
   "metadata": {},
   "source": [
    "### Optimized implementation by matmul"
   ]
  },
  {
   "cell_type": "code",
   "execution_count": 29,
   "id": "8f2ba0e7",
   "metadata": {},
   "outputs": [],
   "source": [
    "def matmull_averaging():\n",
    "    wei = torch.tril(torch.ones((block_size, block_size)))\n",
    "    wei = wei / wei.sum(1, keepdim=True)\n",
    "    return wei @ x\n",
    "\n",
    "xbow2 = matmull_averaging()"
   ]
  },
  {
   "cell_type": "code",
   "execution_count": 30,
   "id": "11ca6d31",
   "metadata": {},
   "outputs": [
    {
     "name": "stdout",
     "output_type": "stream",
     "text": [
      "121 µs ± 16.7 µs per loop (mean ± std. dev. of 7 runs, 10,000 loops each)\n"
     ]
    }
   ],
   "source": [
    "%timeit matmull_averaging()"
   ]
  },
  {
   "cell_type": "code",
   "execution_count": 31,
   "id": "2fefabc0",
   "metadata": {},
   "outputs": [
    {
     "data": {
      "text/plain": [
       "False"
      ]
     },
     "execution_count": 31,
     "metadata": {},
     "output_type": "execute_result"
    }
   ],
   "source": [
    "torch.allclose(xbow, xbow2)"
   ]
  },
  {
   "cell_type": "code",
   "execution_count": 32,
   "id": "71e6e94c",
   "metadata": {},
   "outputs": [
    {
     "data": {
      "text/plain": [
       "(tensor([ 2.1373e-03,  3.1831e-04,  2.7281e-04, -1.3027e-03,  1.4255e-03,\n",
       "          5.5671e-05, -3.3516e-03, -1.4733e-03, -1.5935e-03, -1.5371e-03,\n",
       "         -8.3896e-04, -2.6058e-04]),\n",
       " tensor([ 2.1374e-03,  3.1829e-04,  2.7283e-04, -1.3027e-03,  1.4255e-03,\n",
       "          5.5689e-05, -3.3516e-03, -1.4733e-03, -1.5934e-03, -1.5371e-03,\n",
       "         -8.3894e-04, -2.6059e-04]))"
      ]
     },
     "execution_count": 32,
     "metadata": {},
     "output_type": "execute_result"
    }
   ],
   "source": [
    "idx = torch.isclose(xbow, xbow2) == False\n",
    "xbow[idx], xbow2[idx]"
   ]
  },
  {
   "cell_type": "markdown",
   "id": "f76fc708",
   "metadata": {},
   "source": [
    "### Implementation with Softmax"
   ]
  },
  {
   "cell_type": "code",
   "execution_count": 33,
   "id": "3bbb4db5",
   "metadata": {},
   "outputs": [],
   "source": [
    "def softmax_averaging():\n",
    "    tril = torch.tril(torch.ones((block_size, block_size)))\n",
    "    wei = torch \\\n",
    "        .zeros((block_size, block_size)) \\\n",
    "        .masked_fill(tril == 0, float(\"-inf\"))\n",
    "    wei = F.softmax(wei, dim=1)\n",
    "    return wei @ x\n",
    "xbow3 = softmax_averaging()"
   ]
  },
  {
   "cell_type": "code",
   "execution_count": 34,
   "id": "474338f9",
   "metadata": {},
   "outputs": [
    {
     "name": "stdout",
     "output_type": "stream",
     "text": [
      "139 µs ± 14.1 µs per loop (mean ± std. dev. of 7 runs, 10,000 loops each)\n"
     ]
    }
   ],
   "source": [
    "%timeit softmax_averaging()"
   ]
  },
  {
   "cell_type": "code",
   "execution_count": 35,
   "id": "ebbef731",
   "metadata": {},
   "outputs": [
    {
     "data": {
      "text/plain": [
       "False"
      ]
     },
     "execution_count": 35,
     "metadata": {},
     "output_type": "execute_result"
    }
   ],
   "source": [
    "torch.allclose(xbow,xbow3)"
   ]
  },
  {
   "cell_type": "code",
   "execution_count": 36,
   "id": "b7c3fcff",
   "metadata": {},
   "outputs": [
    {
     "data": {
      "text/plain": [
       "(tensor([ 2.1373e-03,  3.1831e-04,  2.7281e-04, -1.3027e-03,  1.4255e-03,\n",
       "          5.5671e-05, -3.3516e-03, -1.4733e-03, -1.5935e-03, -1.5371e-03,\n",
       "         -8.3896e-04, -2.6058e-04]),\n",
       " tensor([ 2.1374e-03,  3.1829e-04,  2.7283e-04, -1.3027e-03,  1.4255e-03,\n",
       "          5.5689e-05, -3.3516e-03, -1.4733e-03, -1.5934e-03, -1.5371e-03,\n",
       "         -8.3894e-04, -2.6059e-04]))"
      ]
     },
     "execution_count": 36,
     "metadata": {},
     "output_type": "execute_result"
    }
   ],
   "source": [
    "idx = torch.isclose(xbow, xbow3) == False\n",
    "xbow[idx], xbow3[idx]"
   ]
  },
  {
   "cell_type": "markdown",
   "id": "b3ad6982",
   "metadata": {},
   "source": [
    "### Bigram language model with Linear layer"
   ]
  },
  {
   "cell_type": "code",
   "execution_count": 37,
   "id": "9df1376e",
   "metadata": {},
   "outputs": [
    {
     "name": "stdout",
     "output_type": "stream",
     "text": [
      "torch.Size([4, 8, 65])\n",
      "tensor(4.2152, device='cuda:0', grad_fn=<NllLossBackward0>)\n"
     ]
    }
   ],
   "source": [
    "class BigramLanguageModel2(BigramLanguageModel):\n",
    "    def __init__(self, vocab_size, embedding_dims):\n",
    "        super().__init__(vocab_size, embedding_dims)\n",
    "        self.lm_head = nn.Linear(embedding_dims, vocab_size)\n",
    "\n",
    "    def forward(self, idx):\n",
    "        token_embeddings = super().forward(idx)\n",
    "        return self.lm_head(token_embeddings)\n",
    "\n",
    "\n",
    "embedding_dims = 32\n",
    "model2 = BigramLanguageModel2(vocab_size, embedding_dims).to(device)\n",
    "logits = model2(xb)\n",
    "loss = model2.compute_loss(logits, yb)\n",
    "print(logits.shape)\n",
    "print(loss)"
   ]
  },
  {
   "cell_type": "code",
   "execution_count": 38,
   "id": "f782afe0",
   "metadata": {},
   "outputs": [
    {
     "name": "stdout",
     "output_type": "stream",
     "text": [
      "\n",
      "3LDblw!AOItGelLbRJZwRZiSgOxzwz Lh$aGxQZwwX$eUCzjIISG:;t;gvXjRxb yBO&hH!-FFj&tmNTWBlK!mAoH!gATMm\n",
      "ol;r\n"
     ]
    }
   ],
   "source": [
    "print(model2.generate_string(initial_context, max_new_tokens=100))"
   ]
  },
  {
   "cell_type": "code",
   "execution_count": 39,
   "id": "168e26cd",
   "metadata": {},
   "outputs": [
    {
     "name": "stdout",
     "output_type": "stream",
     "text": [
      "step 0 losses: train 4.3989, val 4.3989, \n",
      "step 200 losses: train 2.5556, val 2.5556, \n",
      "step 400 losses: train 2.4846, val 2.4846, \n",
      "step 600 losses: train 2.4989, val 2.4989, \n",
      "step 800 losses: train 2.4787, val 2.4787, \n",
      "step 1000 losses: train 2.4891, val 2.4891, \n",
      "step 1200 losses: train 2.4993, val 2.4993, \n",
      "step 1400 losses: train 2.5051, val 2.5051, \n",
      "step 1600 losses: train 2.4904, val 2.4904, \n",
      "step 1800 losses: train 2.5234, val 2.5234, \n"
     ]
    }
   ],
   "source": [
    "optimizer = torch.optim.AdamW(model2.parameters(), lr=1e-2)\n",
    "loss_history = train(\n",
    "    model = model2,\n",
    "    iterations = 2000,\n",
    "    batch_size = 32,\n",
    "    optimizer = optimizer,\n",
    "    lr_scheduler = optim.lr_scheduler.ReduceLROnPlateau(optimizer, patience=10),\n",
    "    loss_estimator = LossEstimator(eval_step=200)\n",
    ")"
   ]
  },
  {
   "cell_type": "code",
   "execution_count": 40,
   "id": "6aa835a9",
   "metadata": {},
   "outputs": [
    {
     "data": {
      "text/plain": [
       "<matplotlib.legend.Legend at 0x7f943df7aad0>"
      ]
     },
     "execution_count": 40,
     "metadata": {},
     "output_type": "execute_result"
    },
    {
     "data": {
      "image/png": "[encoded data removed]",
      "text/plain": [
       "<Figure size 800x300 with 1 Axes>"
      ]
     },
     "metadata": {},
     "output_type": "display_data"
    }
   ],
   "source": [
    "fig, ax_l = plt.subplots(1, 1, figsize=(8,3))\n",
    "ax_l.plot(np.array(loss_history[\"train\"]).flatten(), label = 'train loss')\n",
    "ax_l.plot(np.array(loss_history[\"val\"]).flatten(), label = 'validation loss')\n",
    "ax_l.legend()"
   ]
  },
  {
   "cell_type": "code",
   "execution_count": 41,
   "id": "8feaf289",
   "metadata": {},
   "outputs": [
    {
     "name": "stdout",
     "output_type": "stream",
     "text": [
      "\n",
      "ULe t jura d f t wothrmu th?\n",
      "\n",
      "Shaimarmas, h n t il c; d juslotor Whthanlll my ay meras be:\n",
      "HEAy o n, nbust RIUCE:\n",
      "\n",
      "\n",
      "Anveabae; IOn hequ the an nu tonm THEEO:\n",
      "e y, d.\n",
      "Glige, iss y eyot,\n",
      "BURO:\n",
      "BRKENERYe\n",
      "The s; s omengre;\n",
      "HARINGor ars, es s;\n",
      "\n",
      "ICld t olk ve, scee Clllothenjee ORWheresed we h, st ar\n",
      "ENCELONS d.\n",
      "LINus derk he kn wen h ppril\n",
      "'d! WANELUSThrwshe. ar?\n",
      "EEThar INISist athe couf mhir, byoass houng, hathese haway,\n",
      "ANTnd end,\n",
      "My waflouth s wat than ccr courcilt, omamonge,\n",
      "Youlateald weat r thea\n"
     ]
    }
   ],
   "source": [
    "print(model2.generate_string(initial_context, max_new_tokens=500))"
   ]
  },
  {
   "cell_type": "markdown",
   "id": "d24363b8",
   "metadata": {},
   "source": [
    "### Bigram language model with position embeddings"
   ]
  },
  {
   "cell_type": "code",
   "execution_count": 42,
   "id": "ede4e917",
   "metadata": {},
   "outputs": [
    {
     "name": "stdout",
     "output_type": "stream",
     "text": [
      "4.426414966583252\n",
      "\n",
      "&j.Ef&ioHDBg'PCWz!rzwbu-NrB&?$'liYyGv'lwWl&g  zqS'$fjZNX-ViDmzwq$BawZ;$Fk:Pq-B!'QnJuBNzoPHy!pmMzw,!R\n"
     ]
    }
   ],
   "source": [
    "class PositionalBigramLanguageModel(BigramLanguageModel):\n",
    "    def __init__(self, block_size, vocab_size, embedding_dims):\n",
    "        super().__init__(vocab_size, embedding_dims)\n",
    "        self.block_size = block_size\n",
    "        self.position_embedding_table = nn.Embedding(block_size, embedding_dims)\n",
    "        self.lm_head = nn.Linear(embedding_dims, vocab_size)\n",
    "\n",
    "    def forward(self, idx):\n",
    "        N, T = idx.shape\n",
    "        token_embeddings = super().forward(idx)\n",
    "        position_embedds = self.position_embedding_table(torch.arange(T, device=device))\n",
    "        mixed_embedds = token_embeddings + position_embedds\n",
    "        return self.lm_head(mixed_embedds)\n",
    "\n",
    "    def generate(self, initial_context, max_new_tokens):\n",
    "        for _ in range(max_new_tokens):\n",
    "            logits = self(initial_context[:, -self.block_size:])\n",
    "            last_time_step_logits = logits[:,-1,:]\n",
    "            probs = F.softmax(last_time_step_logits, dim=1)\n",
    "            context_next = torch.multinomial(probs, num_samples=1)\n",
    "            initial_context = torch.cat((initial_context, context_next), dim=1)\n",
    "        return initial_context\n",
    "\n",
    "\n",
    "positionalModel = PositionalBigramLanguageModel(block_size, vocab_size, embedding_dims).to(device)\n",
    "logits = positionalModel.forward(xb)\n",
    "loss = positionalModel.compute_loss(logits, yb)\n",
    "print(loss.item())\n",
    "print(positionalModel.generate_string(initial_context, max_new_tokens=100))"
   ]
  },
  {
   "cell_type": "code",
   "execution_count": 43,
   "id": "a1f8f54f",
   "metadata": {},
   "outputs": [
    {
     "name": "stdout",
     "output_type": "stream",
     "text": [
      "step 0 losses: train 4.3941, val 4.3941, \n",
      "step 200 losses: train 2.6001, val 2.6001, \n",
      "step 400 losses: train 2.5359, val 2.5359, \n",
      "step 600 losses: train 2.5008, val 2.5008, \n",
      "step 800 losses: train 2.5243, val 2.5243, \n",
      "step 1000 losses: train 2.4951, val 2.4951, \n",
      "step 1200 losses: train 2.5118, val 2.5118, \n",
      "step 1400 losses: train 2.4977, val 2.4977, \n",
      "step 1600 losses: train 2.5257, val 2.5257, \n",
      "step 1800 losses: train 2.5058, val 2.5058, \n"
     ]
    }
   ],
   "source": [
    "optimizer = optim.AdamW(positionalModel.parameters(), lr=1e-2, weight_decay=1e-5)\n",
    "loss_history = train(\n",
    "    model = positionalModel,\n",
    "    iterations = 2000,\n",
    "    batch_size = 32,\n",
    "    optimizer = optimizer,\n",
    "    lr_scheduler= optim.lr_scheduler.ReduceLROnPlateau(optimizer, patience=3),\n",
    "    loss_estimator = LossEstimator(eval_step=200)\n",
    ")"
   ]
  },
  {
   "cell_type": "code",
   "execution_count": 44,
   "id": "94d5f7b8",
   "metadata": {},
   "outputs": [
    {
     "data": {
      "text/plain": [
       "<matplotlib.legend.Legend at 0x7f943d53c070>"
      ]
     },
     "execution_count": 44,
     "metadata": {},
     "output_type": "execute_result"
    },
    {
     "data": {
      "image/png": "[encoded data removed]",
      "text/plain": [
       "<Figure size 800x300 with 1 Axes>"
      ]
     },
     "metadata": {},
     "output_type": "display_data"
    }
   ],
   "source": [
    "fig, ax_l = plt.subplots(1, 1, figsize=(8,3))\n",
    "ax_l.plot(np.array(loss_history[\"train\"]).flatten(), label = 'train loss')\n",
    "ax_l.plot(np.array(loss_history[\"val\"]).flatten(), label = 'validation loss')\n",
    "ax_l.legend()"
   ]
  },
  {
   "cell_type": "code",
   "execution_count": 45,
   "id": "6b726745",
   "metadata": {},
   "outputs": [
    {
     "name": "stdout",
     "output_type": "stream",
     "text": [
      "\n",
      "NGowavonseat,\n",
      "JUS: d bu y Gofad\n",
      ",\n",
      "JUCUPR pat ingr brifo s men'ed.\n",
      "Whathee s his ote h henike a \n",
      "Mares; e lane.\n",
      "O trr, his? kele y bet citinorirongh ry, higo m fas; th ade,\n",
      "AMu t htereerd\n",
      "BE:\n",
      "TUR:\n",
      "NCour isenookie w I't O:\n",
      "ST:\n",
      "ILIm prinetowed amand e\n",
      "Sore ofouse sis is ith y de\n",
      "TERe hed COfad ym o thando yo ory be mand h lomed h t:\n",
      "3 ther tl mor, s\n",
      "\n",
      "\n",
      "\n",
      "PEdshenceadad, hore mma unest s y areaseds!\n",
      "E:\n",
      "Cadriey meawhe ainon mapr, u ouril had be.\n",
      "y, d sloreveke ckst da my s,\n",
      "DWhy 's o he vous.\n",
      "\n",
      "\n",
      "ERCE pan.\n",
      "ot f Larerar, m nof marolllcig ht thir woorowait ty, y:\n",
      "Jo he wik slld fofud\n",
      "As mowinequt cemaner myoue.\n",
      "'lindwo.\n",
      "YO:\n",
      "TAst f at st, Clotheighaig trvageghor A.\n",
      "And! haverdr e\n",
      "ANI , ch n ale wind RI I htow'd ; w s atorth:\n",
      "Norire my akr f ce mo m.\n",
      "\n",
      "\n",
      "errdd, hayessloul fotheremp dth me we weirg onecldil h, ncut;\n",
      "D:\n",
      "Whiethier,\n",
      "\n",
      "IONETHARY arofarkered wncende is, t thid bickit s is,\n",
      "ALOre buto ghangr watowht won heBRoleg, yerm aikngol ithe.\n",
      "Thamyishegun inde no\n",
      "\n",
      "Le: tom bence Whe.\n",
      "ASouy corimangich E:\n"
     ]
    }
   ],
   "source": [
    "print(positionalModel.generate_string(initial_context, max_new_tokens=1000))"
   ]
  },
  {
   "cell_type": "markdown",
   "id": "4ddae0d0",
   "metadata": {},
   "source": [
    "### Self-attention"
   ]
  },
  {
   "cell_type": "code",
   "execution_count": 13,
   "id": "eb28ff62",
   "metadata": {},
   "outputs": [],
   "source": [
    "def self_attention_averaging():\n",
    "    torch.manual_seed(5659)\n",
    "    N, T, C = 4, 8, 32\n",
    "    x = torch.randn(N,T,C)\n",
    "    \n",
    "    #single head self-attention\n",
    "    head_size = 16\n",
    "    key = nn.Linear(C, head_size, bias=False)\n",
    "    query = nn.Linear(C, head_size, bias=False)\n",
    "    value = nn.Linear(C, head_size, bias=False)\n",
    "    k = key(x)   # N, T, head_size\n",
    "    q = query(x) # N, T, head_size\n",
    "    v = value(x) # N, T, head_size\n",
    "    wei = q @ k.transpose(1, 2) * head_size**-0.5 # N, T, T\n",
    "    tril = torch.tril(torch.ones((T, T)))\n",
    "    wei = wei.masked_fill(tril == 0, float(\"-inf\"))\n",
    "    wei = F.softmax(wei, dim=-1)\n",
    "    return wei, wei @ v\n",
    "\n",
    "wei, xbow4 = self_attention_averaging()"
   ]
  },
  {
   "cell_type": "code",
   "execution_count": 67,
   "id": "dd30e1e6",
   "metadata": {},
   "outputs": [
    {
     "name": "stdout",
     "output_type": "stream",
     "text": [
      "385 µs ± 37.2 µs per loop (mean ± std. dev. of 7 runs, 1,000 loops each)\n"
     ]
    }
   ],
   "source": [
    "%timeit self_attention_averaging()"
   ]
  },
  {
   "cell_type": "code",
   "execution_count": 14,
   "id": "730bfd9b",
   "metadata": {},
   "outputs": [
    {
     "data": {
      "text/plain": [
       "tensor([[1.0000, 0.0000, 0.0000, 0.0000, 0.0000, 0.0000, 0.0000, 0.0000],\n",
       "        [0.7250, 0.2750, 0.0000, 0.0000, 0.0000, 0.0000, 0.0000, 0.0000],\n",
       "        [0.4798, 0.3059, 0.2143, 0.0000, 0.0000, 0.0000, 0.0000, 0.0000],\n",
       "        [0.4061, 0.1396, 0.3354, 0.1188, 0.0000, 0.0000, 0.0000, 0.0000],\n",
       "        [0.1711, 0.2483, 0.1082, 0.2465, 0.2259, 0.0000, 0.0000, 0.0000],\n",
       "        [0.1983, 0.1449, 0.2561, 0.1005, 0.1909, 0.1093, 0.0000, 0.0000],\n",
       "        [0.1170, 0.2180, 0.0817, 0.1846, 0.1590, 0.1392, 0.1005, 0.0000],\n",
       "        [0.1563, 0.0649, 0.1412, 0.2564, 0.0693, 0.1006, 0.0744, 0.1368]],\n",
       "       grad_fn=<SelectBackward0>)"
      ]
     },
     "execution_count": 14,
     "metadata": {},
     "output_type": "execute_result"
    }
   ],
   "source": [
    "wei[0]"
   ]
  },
  {
   "cell_type": "code",
   "execution_count": 15,
   "id": "4f90658d",
   "metadata": {},
   "outputs": [],
   "source": [
    "class Head(nn.Module):\n",
    "    \"\"\"one head of self-attention\"\"\"\n",
    "    \n",
    "    def __init__(self, block_size, embedd_dims, head_size):\n",
    "        super().__init__()\n",
    "        self.block_size = block_size\n",
    "        self.embedd_dims = embedd_dims\n",
    "        self.head_size = head_size\n",
    "        self.key = nn.Linear(embedd_dims, head_size, bias=False)\n",
    "        self.query = nn.Linear(embedd_dims, head_size, bias=False)\n",
    "        self.value = nn.Linear(embedd_dims, head_size, bias=False)\n",
    "        self.register_buffer('tril', torch.tril(torch.ones((block_size, block_size))))\n",
    "\n",
    "    def forward(self, x):\n",
    "        N,T,_ = x.shape\n",
    "        k = self.key(x)\n",
    "        q = self.query(x)\n",
    "        v = self.value(x)\n",
    "        attention_weights = q @ k.transpose(1,2) * self.head_size ** -0.5\n",
    "        attention_weights = attention_weights.masked_fill(self.tril[:T, :T] == 0, float('-inf'))\n",
    "        attention_weights = F.softmax(attention_weights, dim=-1)\n",
    "        return attention_weights @ v"
   ]
  },
  {
   "cell_type": "code",
   "execution_count": 53,
   "id": "5dbc5133",
   "metadata": {},
   "outputs": [
    {
     "name": "stdout",
     "output_type": "stream",
     "text": [
      "4.027671813964844\n"
     ]
    },
    {
     "data": {
      "text/plain": [
       "\" QViipH DK3hvLHbX!HtTyZI;B&$n:YmeSPYNrX.;iIFwN3lu,.lwdU.h$gqjTBB-;aHb;;'rYiNW\\n!$EpbIwEWdDezIj?dtECJFH\""
      ]
     },
     "execution_count": 53,
     "metadata": {},
     "output_type": "execute_result"
    }
   ],
   "source": [
    "class SelfAttentionBigramLanguageModel(nn.Module):\n",
    "    def __init__(self, vocab_size, block_size, embedd_dims):\n",
    "        super().__init__()\n",
    "        self.vocab_size = vocab_size\n",
    "        self.block_size = block_size\n",
    "        self.embedd_dims = embedd_dims\n",
    "        self.token_embedding_table = nn.Embedding(vocab_size, embedd_dims)\n",
    "        self.position_embedding_table = nn.Embedding(block_size, embedd_dims)\n",
    "        self.sa_head = Head(block_size, embedd_dims, embedd_dims)\n",
    "        self.lm_head = nn.Linear(embedd_dims, vocab_size)\n",
    "\n",
    "    def forward(self, x, targets = None):\n",
    "        N, T = x.shape\n",
    "        token_embeddings  = self.token_embedding_table(x)\n",
    "        position_embedds  = self.position_embedding_table(torch.arange(T, device=device))\n",
    "        mixed_embeddings  = token_embeddings + position_embedds\n",
    "        attention_embedds = self.sa_head(mixed_embeddings)\n",
    "        logits = self.lm_head(attention_embedds)\n",
    "        loss = None if targets is None else F.cross_entropy(logits.view(N*T, self.vocab_size), targets.view(N*T))\n",
    "        return logits, loss\n",
    "\n",
    "    def compute_loss(self, logits_loss_tuple, y):\n",
    "        logits = logits_loss_tuple[0]\n",
    "        N, T, C = logits.shape\n",
    "        return F.cross_entropy(logits.view(N*T, C), y.view(N*T))\n",
    "    \n",
    "    def generate(self, initial_context, max_new_tokens):\n",
    "        for _ in range(max_new_tokens):\n",
    "            logits, _ = self(initial_context[:, -self.block_size:])\n",
    "            last_time_step_logits = logits[:,-1,:]\n",
    "            probs = F.softmax(last_time_step_logits, dim=1)\n",
    "            context_next = torch.multinomial(probs, num_samples=1)\n",
    "            initial_context = torch.cat((initial_context, context_next), dim=1)\n",
    "        return initial_context\n",
    "\n",
    "    def generate_string(self, initial_context, max_new_tokens):\n",
    "        return ''.join(\n",
    "            decode(\n",
    "                self.generate(initial_context, max_new_tokens=max_new_tokens)[0].tolist()\n",
    "            )\n",
    "        )\n",
    "\n",
    "selfAttentionModel = SelfAttentionBigramLanguageModel(vocab_size, block_size, embedd_dims = 32).to(device)\n",
    "logits, loss = selfAttentionModel(xb, yb)\n",
    "print(loss.item())\n",
    "initial_context = torch.ones((1,1), dtype=torch.long, device=device)\n",
    "selfAttentionModel.generate_string(initial_context, max_new_tokens=100)"
   ]
  },
  {
   "cell_type": "code",
   "execution_count": 54,
   "id": "46bcc0b9",
   "metadata": {},
   "outputs": [
    {
     "name": "stdout",
     "output_type": "stream",
     "text": [
      "step 0 losses: train 4.1745, val 4.1745, \n",
      "step 200 losses: train 3.0683, val 3.0683, \n",
      "step 400 losses: train 2.9046, val 2.9046, \n",
      "step 600 losses: train 2.7191, val 2.7191, \n",
      "step 800 losses: train 2.5818, val 2.5818, \n",
      "step 1000 losses: train 2.5275, val 2.5275, \n",
      "step 1200 losses: train 2.4745, val 2.4745, \n",
      "step 1400 losses: train 2.4956, val 2.4956, \n",
      "step 1600 losses: train 2.5051, val 2.5051, \n",
      "step 1800 losses: train 2.4679, val 2.4679, \n",
      "step 2000 losses: train 2.4722, val 2.4722, \n",
      "step 2200 losses: train 2.4527, val 2.4527, \n",
      "step 2400 losses: train 2.4263, val 2.4263, \n",
      "step 2600 losses: train 2.4382, val 2.4382, \n",
      "step 2800 losses: train 2.4339, val 2.4339, \n",
      "step 3000 losses: train 2.3859, val 2.3859, \n",
      "step 3200 losses: train 2.4367, val 2.4367, \n",
      "step 3400 losses: train 2.4047, val 2.4047, \n",
      "step 3600 losses: train 2.4046, val 2.4046, \n",
      "step 3800 losses: train 2.3802, val 2.3802, \n",
      "step 4000 losses: train 2.3572, val 2.3572, \n",
      "step 4200 losses: train 2.3978, val 2.3978, \n",
      "step 4400 losses: train 2.3637, val 2.3637, \n",
      "step 4600 losses: train 2.3815, val 2.3815, \n",
      "step 4800 losses: train 2.3947, val 2.3947, \n",
      "step 5000 losses: train 2.3750, val 2.3750, \n",
      "step 5200 losses: train 2.3777, val 2.3777, \n",
      "step 5400 losses: train 2.3704, val 2.3704, \n",
      "step 5600 losses: train 2.3807, val 2.3807, \n",
      "step 5800 losses: train 2.3721, val 2.3721, \n",
      "step 6000 losses: train 2.3727, val 2.3727, \n",
      "step 6200 losses: train 2.3764, val 2.3764, \n",
      "step 6400 losses: train 2.3656, val 2.3656, \n",
      "step 6600 losses: train 2.3916, val 2.3916, \n",
      "step 6800 losses: train 2.3651, val 2.3651, \n",
      "step 7000 losses: train 2.3522, val 2.3522, \n",
      "step 7200 losses: train 2.3543, val 2.3543, \n",
      "step 7400 losses: train 2.3649, val 2.3649, \n",
      "step 7600 losses: train 2.3688, val 2.3688, \n",
      "step 7800 losses: train 2.3827, val 2.3827, \n",
      "step 8000 losses: train 2.3628, val 2.3628, \n",
      "step 8200 losses: train 2.3594, val 2.3594, \n",
      "step 8400 losses: train 2.3795, val 2.3795, \n",
      "step 8600 losses: train 2.3377, val 2.3377, \n",
      "step 8800 losses: train 2.3769, val 2.3769, \n",
      "step 9000 losses: train 2.3705, val 2.3705, \n",
      "step 9200 losses: train 2.3671, val 2.3671, \n",
      "step 9400 losses: train 2.3420, val 2.3420, \n",
      "step 9600 losses: train 2.3649, val 2.3649, \n",
      "step 9800 losses: train 2.3890, val 2.3890, \n"
     ]
    }
   ],
   "source": [
    "optimizer = optim.AdamW(selfAttentionModel.parameters(), lr=1e-3, weight_decay=1e-5)\n",
    "loss_history = train(\n",
    "    model = selfAttentionModel,\n",
    "    iterations = 10000,\n",
    "    batch_size = 32,\n",
    "    optimizer = optimizer,\n",
    "    lr_scheduler= optim.lr_scheduler.ReduceLROnPlateau(optimizer, patience=5),\n",
    "    loss_estimator = LossEstimator(eval_step=200)\n",
    ")"
   ]
  },
  {
   "cell_type": "code",
   "execution_count": 58,
   "id": "599cc388",
   "metadata": {},
   "outputs": [
    {
     "name": "stdout",
     "output_type": "stream",
     "text": [
      " be ched yadol hefe mir tkiss hin fkve od toarisit ha meqeurillf dhe,\n",
      "CAno:\n",
      "H panand,\n",
      "dy vintem thor mabor,\n",
      "Anot int ilvelad fat ang uinomey Aad a th her plar,\n",
      "N he peampee?\n",
      "\n",
      "A Plolin, if I, cn fot lmur ltand ket Apelilders owo marsu st wath the tt yow'spco st shacy thincne mpath:\n",
      "Ands brucomyofresthe Ed. I Canls frer;\n",
      "Toos ses haln,\n",
      "wine lir tepar is, ansererd ofarduer orbs weqeli theel, anto the! REICEYo bur als brreandere I che fafl acrto ame wowfe therserdene it, to en Met Goomak cron thotis \n"
     ]
    }
   ],
   "source": [
    "print(selfAttentionModel.generate_string(initial_context, max_new_tokens=500))"
   ]
  },
  {
   "cell_type": "code",
   "execution_count": 56,
   "id": "1d10c7b5",
   "metadata": {},
   "outputs": [
    {
     "data": {
      "text/plain": [
       "<matplotlib.legend.Legend at 0x7fcb002eba90>"
      ]
     },
     "execution_count": 56,
     "metadata": {},
     "output_type": "execute_result"
    },
    {
     "data": {
      "image/png": "[encoded data removed]",
      "text/plain": [
       "<Figure size 800x300 with 1 Axes>"
      ]
     },
     "metadata": {},
     "output_type": "display_data"
    }
   ],
   "source": [
    "fig, ax_l = plt.subplots(1, 1, figsize=(8,3))\n",
    "ax_l.plot(np.array(loss_history[\"train\"]).flatten(), label = 'train loss')\n",
    "ax_l.plot(np.array(loss_history[\"val\"]).flatten(), label = 'validation loss')\n",
    "ax_l.legend()"
   ]
  },
  {
   "cell_type": "markdown",
   "id": "b1198908",
   "metadata": {},
   "source": [
    "### Multi-Headed Self-Attention\n",
    "\n",
    "- After applying multi-head attention we add feed forward net to process embeddings after sharing attention information to make decisions on shared info independently"
   ]
  },
  {
   "cell_type": "code",
   "execution_count": 120,
   "id": "c02d321d",
   "metadata": {},
   "outputs": [],
   "source": [
    "class MultiHeadAttention(nn.Module):\n",
    "    def __init__(self, num_heads, head_size, block_size, embedd_dims):\n",
    "        super().__init__()\n",
    "        self.heads = nn.ModuleList([Head(block_size, embedd_dims, head_size) for i in range(num_heads)])\n",
    "        self.projection = nn.Linear(embedd_dims, embedd_dims)\n",
    "\n",
    "    def forward(self, x):\n",
    "        out = torch.cat([h(x) for h in self.heads], dim=-1)\n",
    "        return self.projection(out)"
   ]
  },
  {
   "cell_type": "code",
   "execution_count": 121,
   "id": "cb2b201f",
   "metadata": {},
   "outputs": [],
   "source": [
    "class FeedForward(nn.Module):\n",
    "    def __init__(self, embedd_dims):\n",
    "        super().__init__()\n",
    "        self.net = nn.Sequential(\n",
    "            nn.Linear(embedd_dims, 4 * embedd_dims),\n",
    "            nn.ReLU(inplace=True),\n",
    "            nn.Linear(4 * embedd_dims, embedd_dims) # projection layer\n",
    "        )\n",
    "\n",
    "    def forward(self, x):\n",
    "        return self.net(x)\n",
    "        "
   ]
  },
  {
   "cell_type": "code",
   "execution_count": 122,
   "id": "d9f7bd45",
   "metadata": {},
   "outputs": [
    {
     "name": "stdout",
     "output_type": "stream",
     "text": [
      "4.108680725097656\n",
      " :R&Qv;?TzUZ EoipNaajblxnESckQXjMZ3GQuvF3KYANCnUa'cDsO!pxQYMJpdECxO\n",
      "rIyG&kz ahu!?;xTIWySl --YVbQeLIzu\n"
     ]
    }
   ],
   "source": [
    " class MultiHeadSelfAttentionBigramLanguageModel(nn.Module):\n",
    "    def __init__(self, vocab_size, block_size, embedd_dims):\n",
    "        super().__init__()\n",
    "        self.vocab_size = vocab_size\n",
    "        self.block_size = block_size\n",
    "        self.embedd_dims = embedd_dims\n",
    "        self.token_embedding_table = nn.Embedding(vocab_size, embedd_dims)\n",
    "        self.position_embedding_table = nn.Embedding(block_size, embedd_dims)\n",
    "        self.sa_heads = MultiHeadAttention(4, embedd_dims//4, block_size, embedd_dims)\n",
    "        self.ffwd = FeedForward(embedd_dims)\n",
    "        self.lm_head = nn.Linear(embedd_dims, vocab_size)\n",
    "\n",
    "    def forward(self, x, targets = None):\n",
    "        N, T = x.shape\n",
    "        token_embeddings  = self.token_embedding_table(x)\n",
    "        position_embedds  = self.position_embedding_table(torch.arange(T, device=device))\n",
    "        mixed_embeddings  = token_embeddings + position_embedds\n",
    "        attention_embedds = self.sa_heads(mixed_embeddings)\n",
    "        processed_embedds = self.ffwd(attention_embedds)\n",
    "        logits = self.lm_head(processed_embedds)\n",
    "        loss = None if targets is None else F.cross_entropy(logits.view(N*T, self.vocab_size), targets.view(N*T))\n",
    "        return logits, loss\n",
    "\n",
    "    def compute_loss(self, logits_loss_tuple, y):\n",
    "        logits = logits_loss_tuple[0]\n",
    "        N, T, C = logits.shape\n",
    "        return F.cross_entropy(logits.view(N*T, C), y.view(N*T))\n",
    "    \n",
    "    def generate(self, initial_context, max_new_tokens):\n",
    "        for _ in range(max_new_tokens):\n",
    "            logits, _ = self(initial_context[:, -self.block_size:])\n",
    "            last_time_step_logits = logits[:,-1,:]\n",
    "            probs = F.softmax(last_time_step_logits, dim=1)\n",
    "            context_next = torch.multinomial(probs, num_samples=1)\n",
    "            initial_context = torch.cat((initial_context, context_next), dim=1)\n",
    "        return initial_context\n",
    "\n",
    "    def generate_string(self, initial_context, max_new_tokens):\n",
    "        return ''.join(\n",
    "            decode(\n",
    "                self.generate(initial_context, max_new_tokens=max_new_tokens)[0].tolist()\n",
    "            )\n",
    "        )\n",
    "\n",
    "multiHeadAttentionModel = MultiHeadSelfAttentionBigramLanguageModel(vocab_size, block_size, embedd_dims=32).to(device)\n",
    "logits, loss = multiHeadAttentionModel.forward(xb, yb)\n",
    "print(loss.item())\n",
    "print(multiHeadAttentionModel.generate_string(initial_context, max_new_tokens=100))"
   ]
  },
  {
   "cell_type": "code",
   "execution_count": 75,
   "id": "f5ac00e7",
   "metadata": {},
   "outputs": [
    {
     "name": "stdout",
     "output_type": "stream",
     "text": [
      "step 0 losses: train 4.1824, val 4.1824, \n",
      "step 200 losses: train 2.9185, val 2.9185, \n",
      "step 400 losses: train 2.6422, val 2.6422, \n",
      "step 600 losses: train 2.5847, val 2.5847, \n",
      "step 800 losses: train 2.5094, val 2.5094, \n",
      "step 1000 losses: train 2.4490, val 2.4490, \n",
      "step 1200 losses: train 2.4247, val 2.4247, \n",
      "step 1400 losses: train 2.4042, val 2.4042, \n",
      "step 1600 losses: train 2.3683, val 2.3683, \n",
      "step 1800 losses: train 2.3662, val 2.3662, \n",
      "step 2000 losses: train 2.3299, val 2.3299, \n",
      "step 2200 losses: train 2.3150, val 2.3150, \n",
      "step 2400 losses: train 2.3207, val 2.3207, \n",
      "step 2600 losses: train 2.2753, val 2.2753, \n",
      "step 2800 losses: train 2.2927, val 2.2927, \n",
      "step 3000 losses: train 2.2722, val 2.2722, \n",
      "step 3200 losses: train 2.2573, val 2.2573, \n",
      "step 3400 losses: train 2.2611, val 2.2611, \n",
      "step 3600 losses: train 2.2288, val 2.2288, \n",
      "step 3800 losses: train 2.2803, val 2.2803, \n",
      "step 4000 losses: train 2.2478, val 2.2478, \n",
      "step 4200 losses: train 2.2174, val 2.2174, \n",
      "step 4400 losses: train 2.1890, val 2.1890, \n",
      "step 4600 losses: train 2.2079, val 2.2079, \n",
      "step 4800 losses: train 2.2130, val 2.2130, \n",
      "step 5000 losses: train 2.2225, val 2.2225, \n",
      "step 5200 losses: train 2.1963, val 2.1963, \n",
      "step 5400 losses: train 2.2047, val 2.2047, \n",
      "step 5600 losses: train 2.2038, val 2.2038, \n",
      "step 5800 losses: train 2.1836, val 2.1836, \n",
      "step 6000 losses: train 2.1954, val 2.1954, \n",
      "step 6200 losses: train 2.1846, val 2.1846, \n",
      "step 6400 losses: train 2.2051, val 2.2051, \n",
      "step 6600 losses: train 2.1863, val 2.1863, \n",
      "step 6800 losses: train 2.1749, val 2.1749, \n",
      "step 7000 losses: train 2.1611, val 2.1611, \n",
      "step 7200 losses: train 2.1718, val 2.1718, \n",
      "step 7400 losses: train 2.1661, val 2.1661, \n",
      "step 7600 losses: train 2.1623, val 2.1623, \n",
      "step 7800 losses: train 2.1744, val 2.1744, \n",
      "step 8000 losses: train 2.1989, val 2.1989, \n",
      "step 8200 losses: train 2.1844, val 2.1844, \n",
      "step 8400 losses: train 2.1686, val 2.1686, \n",
      "step 8600 losses: train 2.1457, val 2.1457, \n",
      "step 8800 losses: train 2.1700, val 2.1700, \n",
      "step 9000 losses: train 2.1752, val 2.1752, \n",
      "step 9200 losses: train 2.1956, val 2.1956, \n",
      "step 9400 losses: train 2.1849, val 2.1849, \n",
      "step 9600 losses: train 2.1666, val 2.1666, \n",
      "step 9800 losses: train 2.1667, val 2.1667, \n"
     ]
    }
   ],
   "source": [
    "optimizer = optim.AdamW(multiHeadAttentionModel.parameters(), lr=1e-3, weight_decay=1e-5)\n",
    "loss_history = train(\n",
    "    model = multiHeadAttentionModel,\n",
    "    iterations = 10000,\n",
    "    batch_size = 32,\n",
    "    optimizer = optimizer,\n",
    "    lr_scheduler= optim.lr_scheduler.ReduceLROnPlateau(optimizer, patience=5),\n",
    "    loss_estimator = LossEstimator(eval_step=200)\n",
    ")"
   ]
  },
  {
   "cell_type": "code",
   "execution_count": 76,
   "id": "ab736698",
   "metadata": {},
   "outputs": [
    {
     "data": {
      "text/plain": [
       "<matplotlib.legend.Legend at 0x7fcae4588400>"
      ]
     },
     "execution_count": 76,
     "metadata": {},
     "output_type": "execute_result"
    },
    {
     "data": {
      "image/png": "[encoded data removed]",
      "text/plain": [
       "<Figure size 800x300 with 1 Axes>"
      ]
     },
     "metadata": {},
     "output_type": "display_data"
    }
   ],
   "source": [
    "fig, ax_l = plt.subplots(1, 1, figsize=(8,3))\n",
    "ax_l.plot(np.array(loss_history[\"train\"]).flatten(), label = 'train loss')\n",
    "ax_l.plot(np.array(loss_history[\"val\"]).flatten(), label = 'validation loss')\n",
    "ax_l.legend()"
   ]
  },
  {
   "cell_type": "code",
   "execution_count": 81,
   "id": "5d74c8d6",
   "metadata": {},
   "outputs": [
    {
     "name": "stdout",
     "output_type": "stream",
     "text": [
      " bra the semet by as whay; nomadm pare, an alll see My I do rould:\n",
      "Say eitifors now. Moughat why wies? fer ing hanot murictell I,\n",
      "Sowes\n",
      "And hery  ine, forldys.\n",
      "\n",
      "Kowewar thathe cous, abe\n",
      "Ther: marvef; if thoul lave.\n",
      "\n",
      "VETW:\n",
      "And yo dearkiuch an.\n",
      "Shits, I slow thavees bell an you kinceter by;\n",
      "Wharkean imut hat had,\n",
      "To sunentellveaw, ato We thecke, rhe con, sars couptay, ren sty any thoucks's\n",
      "Ce, I his; Prow anwit Chad sust o all secourgt my thate's, Emy lea, hingsto yours:\n",
      "MO:\n",
      "Whimst o sbeecerthow\n",
      "Th\n"
     ]
    }
   ],
   "source": [
    "print(multiHeadAttentionModel.generate_string(initial_context, max_new_tokens=500))"
   ]
  },
  {
   "cell_type": "markdown",
   "id": "13e85708",
   "metadata": {},
   "source": [
    "### Transformer Decoder block\n",
    "\n",
    "Here we define Bigram Language Model with Transformer blocks which consists of:\n",
    "- multi-headed self-attention\n",
    "- residual connections\n",
    "- layer normalization\n",
    "\n",
    "Those blocks are easy to scale."
   ]
  },
  {
   "cell_type": "code",
   "execution_count": 146,
   "id": "f3d5d7a4",
   "metadata": {},
   "outputs": [],
   "source": [
    "class Block(nn.Module):\n",
    "    def __init__(self, num_heads, block_size, embedd_dims):\n",
    "        super().__init__()\n",
    "        head_size = embedd_dims // num_heads\n",
    "        self.self_attention_heads = MultiHeadAttention(num_heads, head_size, block_size, embedd_dims)\n",
    "        self.feedforward = FeedForward(embedd_dims)\n",
    "        self.ln1 = nn.LayerNorm(embedd_dims)\n",
    "        self.ln2 = nn.LayerNorm(embedd_dims)\n",
    "\n",
    "    def forward(self, x):\n",
    "        x = x + self.self_attention_heads(self.ln1(x))\n",
    "        x = x + self.feedforward(self.ln2(x))\n",
    "        return x"
   ]
  },
  {
   "cell_type": "code",
   "execution_count": 147,
   "id": "3ecc998b",
   "metadata": {},
   "outputs": [
    {
     "name": "stdout",
     "output_type": "stream",
     "text": [
      "4.201892375946045\n",
      " M?MMYyEP?-X\n",
      "x !amq jdLOZLO:\n",
      "AhDX-hvituuNkAVFdxWbDMa&s'NTn&bFMOtq;r!CcS\n",
      "?ftXOsEr$Ej-fTirYT\n",
      "\n",
      "q$XDML!Y&\n"
     ]
    }
   ],
   "source": [
    "class TransformerBlocksBigramLanguageModel(nn.Module):\n",
    "    def __init__(self, vocab_size, block_size, embedd_dims):\n",
    "        super().__init__()\n",
    "        self.vocab_size = vocab_size\n",
    "        self.block_size = block_size\n",
    "        self.token_embedding_table = nn.Embedding(vocab_size, embedd_dims)\n",
    "        self.position_embedding_table = nn.Embedding(block_size, embedd_dims)\n",
    "        self.blocks = nn.Sequential(\n",
    "            Block(4, block_size, embedd_dims),\n",
    "            Block(4, block_size, embedd_dims),\n",
    "            Block(4, block_size, embedd_dims),\n",
    "            nn.LayerNorm(embedd_dims)\n",
    "        )\n",
    "        self.lm_head = nn.Linear(embedd_dims, vocab_size)\n",
    "\n",
    "    def forward(self, x, targets = None):\n",
    "        N, T = x.shape\n",
    "        token_embeddings  = self.token_embedding_table(x)\n",
    "        position_embedds  = self.position_embedding_table(torch.arange(T, device=device))\n",
    "        x = token_embeddings + position_embedds\n",
    "        x = self.blocks(x)\n",
    "        logits = self.lm_head(x)\n",
    "        loss = None if targets is None else F.cross_entropy(logits.view(N*T, self.vocab_size), targets.view(N*T))\n",
    "        return logits, loss\n",
    "\n",
    "    def compute_loss(self, logits_loss_tuple, y):\n",
    "        logits = logits_loss_tuple[0]\n",
    "        N, T, C = logits.shape\n",
    "        return F.cross_entropy(logits.view(N*T, C), y.view(N*T))\n",
    "    \n",
    "    def generate(self, initial_context, max_new_tokens):\n",
    "        for _ in range(max_new_tokens):\n",
    "            logits, _ = self(initial_context[:, -self.block_size:])\n",
    "            last_time_step_logits = logits[:,-1,:]\n",
    "            probs = F.softmax(last_time_step_logits, dim=1)\n",
    "            context_next = torch.multinomial(probs, num_samples=1)\n",
    "            initial_context = torch.cat((initial_context, context_next), dim=1)\n",
    "        return initial_context\n",
    "\n",
    "    def generate_string(self, initial_context, max_new_tokens):\n",
    "        return ''.join(\n",
    "            decode(\n",
    "                self.generate(initial_context, max_new_tokens=max_new_tokens)[0].tolist()\n",
    "            )\n",
    "        )\n",
    "\n",
    "\n",
    "transformerBlocksModel = TransformerBlocksBigramLanguageModel(vocab_size, block_size, 32).to(device)\n",
    "logits, loss = transformerBlocksModel(xb, yb)\n",
    "print(loss.item())\n",
    "print(transformerBlocksModel.generate_string(initial_context, max_new_tokens=100))"
   ]
  },
  {
   "cell_type": "code",
   "execution_count": 148,
   "id": "d6a62356",
   "metadata": {},
   "outputs": [
    {
     "name": "stdout",
     "output_type": "stream",
     "text": [
      "step 0 losses: train 4.2464, val 4.2409, \n",
      "step 200 losses: train 2.6622, val 2.6336, \n",
      "step 400 losses: train 2.4305, val 2.4704, \n",
      "step 600 losses: train 2.3494, val 2.3220, \n",
      "step 800 losses: train 2.2688, val 2.3131, \n",
      "step 1000 losses: train 2.2672, val 2.2611, \n",
      "step 1200 losses: train 2.2367, val 2.2196, \n",
      "step 1400 losses: train 2.1825, val 2.2312, \n",
      "step 1600 losses: train 2.1571, val 2.1795, \n",
      "step 1800 losses: train 2.1570, val 2.1914, \n",
      "step 2000 losses: train 2.0963, val 2.1742, \n",
      "step 2200 losses: train 2.1143, val 2.1432, \n",
      "step 2400 losses: train 2.0784, val 2.1173, \n",
      "step 2600 losses: train 2.0919, val 2.1307, \n",
      "step 2800 losses: train 2.0797, val 2.1247, \n",
      "step 3000 losses: train 2.0635, val 2.1181, \n",
      "step 3200 losses: train 2.0757, val 2.1131, \n",
      "step 3400 losses: train 2.0187, val 2.0981, \n",
      "step 3600 losses: train 2.0528, val 2.0553, \n",
      "step 3800 losses: train 2.0435, val 2.1095, \n",
      "step 4000 losses: train 2.0216, val 2.0877, \n",
      "step 4200 losses: train 2.0249, val 2.0759, \n",
      "step 4400 losses: train 2.0045, val 2.0822, \n",
      "step 4600 losses: train 2.0299, val 2.0630, \n",
      "step 4800 losses: train 1.9682, val 2.0682, \n",
      "step 5000 losses: train 2.0196, val 2.0797, \n",
      "step 5200 losses: train 1.9809, val 2.0482, \n",
      "step 5400 losses: train 1.9777, val 2.0692, \n",
      "step 5600 losses: train 1.9616, val 2.0455, \n",
      "step 5800 losses: train 1.9710, val 2.0453, \n",
      "step 6000 losses: train 1.9664, val 2.0425, \n",
      "step 6200 losses: train 1.9440, val 2.0518, \n",
      "step 6400 losses: train 1.9411, val 2.0610, \n",
      "step 6600 losses: train 1.9270, val 2.0324, \n",
      "step 6800 losses: train 1.9257, val 2.0273, \n",
      "step 7000 losses: train 1.9656, val 2.0235, \n",
      "step 7200 losses: train 1.9250, val 2.0406, \n",
      "step 7400 losses: train 1.9057, val 2.0350, \n",
      "step 7600 losses: train 1.9296, val 2.0169, \n",
      "step 7800 losses: train 1.9414, val 2.0053, \n",
      "step 8000 losses: train 1.9100, val 2.0075, \n",
      "step 8200 losses: train 1.9152, val 2.0433, \n",
      "step 8400 losses: train 1.9049, val 2.0380, \n",
      "step 8600 losses: train 1.9090, val 2.0448, \n",
      "step 8800 losses: train 1.9148, val 2.0190, \n",
      "step 9000 losses: train 1.8920, val 2.0273, \n",
      "step 9200 losses: train 1.9111, val 2.0349, \n",
      "step 9400 losses: train 1.8909, val 2.0151, \n",
      "step 9600 losses: train 1.9092, val 1.9910, \n",
      "step 9800 losses: train 1.8993, val 1.9973, \n",
      "step 10000 losses: train 1.9185, val 2.0256, \n",
      "step 10200 losses: train 1.8936, val 2.0047, \n",
      "step 10400 losses: train 1.8585, val 1.9911, \n",
      "step 10600 losses: train 1.9157, val 2.0102, \n",
      "step 10800 losses: train 1.8976, val 2.0472, \n",
      "step 11000 losses: train 1.8921, val 1.9909, \n",
      "step 11200 losses: train 1.8959, val 2.0257, \n",
      "step 11400 losses: train 1.8723, val 2.0197, \n",
      "step 11600 losses: train 1.8910, val 2.0281, \n",
      "step 11800 losses: train 1.8556, val 1.9856, \n",
      "step 12000 losses: train 1.8651, val 1.9380, \n",
      "step 12200 losses: train 1.8546, val 1.9297, \n",
      "step 12400 losses: train 1.8662, val 1.9592, \n",
      "step 12600 losses: train 1.8360, val 1.9702, \n",
      "step 12800 losses: train 1.8548, val 1.9318, \n",
      "step 13000 losses: train 1.8431, val 1.9432, \n",
      "step 13200 losses: train 1.8395, val 1.9501, \n",
      "step 13400 losses: train 1.8279, val 1.9674, \n",
      "step 13600 losses: train 1.8274, val 1.9576, \n",
      "step 13800 losses: train 1.8024, val 1.9703, \n",
      "step 14000 losses: train 1.8241, val 1.9673, \n",
      "step 14200 losses: train 1.8328, val 1.9377, \n",
      "step 14400 losses: train 1.8350, val 1.9928, \n",
      "step 14600 losses: train 1.8347, val 1.9618, \n",
      "step 14800 losses: train 1.8152, val 1.9611, \n",
      "step 15000 losses: train 1.8262, val 1.9503, \n",
      "step 15200 losses: train 1.8286, val 1.9728, \n",
      "step 15400 losses: train 1.8164, val 1.9336, \n",
      "step 15600 losses: train 1.8294, val 1.9709, \n",
      "step 15800 losses: train 1.8218, val 1.9504, \n",
      "step 16000 losses: train 1.8549, val 1.9408, \n",
      "step 16200 losses: train 1.8242, val 1.9313, \n",
      "step 16400 losses: train 1.8174, val 1.9222, \n",
      "step 16600 losses: train 1.8245, val 1.9727, \n",
      "step 16800 losses: train 1.7995, val 1.9880, \n",
      "step 17000 losses: train 1.8104, val 1.9831, \n",
      "step 17200 losses: train 1.8171, val 1.9533, \n",
      "step 17400 losses: train 1.8361, val 1.9674, \n",
      "step 17600 losses: train 1.8041, val 1.9665, \n",
      "step 17800 losses: train 1.8617, val 1.9435, \n",
      "step 18000 losses: train 1.8295, val 1.9638, \n",
      "step 18200 losses: train 1.8079, val 1.9745, \n",
      "step 18400 losses: train 1.8032, val 1.9607, \n",
      "step 18600 losses: train 1.8334, val 1.9633, \n",
      "step 18800 losses: train 1.8302, val 1.9819, \n",
      "step 19000 losses: train 1.8164, val 1.9834, \n",
      "step 19200 losses: train 1.8373, val 1.9318, \n",
      "step 19400 losses: train 1.8338, val 1.9533, \n",
      "step 19600 losses: train 1.7966, val 1.9663, \n",
      "step 19800 losses: train 1.8236, val 1.9210, \n"
     ]
    }
   ],
   "source": [
    "optimizer = optim.AdamW(transformerBlocksModel.parameters(), lr=1e-3, weight_decay=1e-5)\n",
    "loss_history = train(\n",
    "    model = transformerBlocksModel,\n",
    "    iterations = 20000,\n",
    "    batch_size = 32,\n",
    "    optimizer = optimizer,\n",
    "    lr_scheduler= optim.lr_scheduler.ReduceLROnPlateau(optimizer, patience=5),\n",
    "    loss_estimator = LossEstimator(eval_step=200)\n",
    ")"
   ]
  },
  {
   "cell_type": "code",
   "execution_count": 151,
   "id": "b1f88c34",
   "metadata": {},
   "outputs": [
    {
     "data": {
      "text/plain": [
       "<matplotlib.legend.Legend at 0x7fcabc9df070>"
      ]
     },
     "execution_count": 151,
     "metadata": {},
     "output_type": "execute_result"
    },
    {
     "data": {
      "image/png": "[encoded data removed]",
      "text/plain": [
       "<Figure size 800x300 with 1 Axes>"
      ]
     },
     "metadata": {},
     "output_type": "display_data"
    }
   ],
   "source": [
    "fig, ax_l = plt.subplots(1, 1, figsize=(8,3))\n",
    "ax_l.plot(np.array(loss_history[\"train\"]).flatten(), label = 'train loss')\n",
    "ax_l.plot(np.array(loss_history[\"val\"]).flatten(), label = 'validation loss')\n",
    "ax_l.set_title('Looks a bit overfitting')\n",
    "ax_l.legend()"
   ]
  },
  {
   "cell_type": "code",
   "execution_count": 153,
   "id": "3d4627d5",
   "metadata": {},
   "outputs": [
    {
     "name": "stdout",
     "output_type": "stream",
     "text": [
      " I: the dones, this shorrewn of the bles by the fittler? me morepile: but make the bower-an his will before than man.\n",
      "You awail. To the shall:\n",
      "What,\n",
      "Here his deel drook\n",
      "thee, cantenford,\n",
      "I am slain,-\n",
      "Some lagession of I recents a state?\n",
      "\n",
      "PETHORD HERCY:\n",
      "Fore withfusic is traife my\n",
      "Thepher their beld thou fair,\n",
      "I, whal, let ther stay ever ams Capeather's I tha\n",
      "get, loves not\n",
      "What hows as whild firse: stress for the my charrity poer, death that;\n",
      "Thought\n",
      "But ult Rewel help\n",
      "Thess ward:\n",
      "Why crawn swors queeuve is take of dear your have his you essomem life heads, I staid! fair is mother: a weart\n",
      "Ay:\n",
      "And of my my he conky,\n",
      "Which gold of freling lands.\n",
      "I his; thy SI:\n",
      "That? should, you be a my bund-pronother dath to is hatck and slackate and that;\n",
      "Become an it foe.\n",
      "\n",
      "KING RICHARD III:\n",
      "Go agard, of this desud for head of thy, hume?\n",
      "\n",
      "HORWARD II:\n",
      "Smill the sure\n",
      "COMINGRONUMBEROMEO:\n",
      "Who wrafy a Grue the swell-teads.\n",
      "\n",
      "QUEEN OUF YORK:\n",
      "Which oversost my hight twentae with a sul!\n",
      "\n",
      "DUKE VINCENTIO:\n",
      "You blad\n"
     ]
    }
   ],
   "source": [
    "print(transformerBlocksModel.generate_string(initial_context, max_new_tokens=1000))"
   ]
  },
  {
   "cell_type": "markdown",
   "id": "a75590ca",
   "metadata": {},
   "source": [
    "## All stuff combined together\n",
    "- Token embeddings with Embedding Tables\n",
    "- Positional embeddings with Embedding Tables\n",
    "- Multi-Head Self-Attention with residual connections and Layer Normalizations\n",
    "- Training with Adam optimizer, weights penalties and learning rate decay\n",
    "- Dropout to decrease overfitting"
   ]
  },
  {
   "cell_type": "code",
   "execution_count": 185,
   "id": "e03e073f",
   "metadata": {},
   "outputs": [],
   "source": [
    "device = 'cuda' if torch.cuda.is_available() else 'cpu'\n",
    "\n",
    "with open(\"input.txt\", 'r', encoding='utf-8') as f:\n",
    "    text = f.read()\n",
    "\n",
    "vocab = sorted(list(set(text)))\n",
    "vocab_size = len(vocab)\n",
    "\n",
    "stoi = {ch:i for i,ch in enumerate(vocab)}\n",
    "itos = {i:ch for i,ch in enumerate(vocab)}\n",
    "encode = lambda s: [stoi[c] for c in s]\n",
    "decode = lambda L: [itos[i] for i in L]\n",
    "\n",
    "data = torch.tensor(encode(text), dtype=torch.long)\n",
    "train_size = int(0.9*len(data))\n",
    "train_X    = data[:train_size]\n",
    "val_X      = data[train_size:]\n",
    "\n",
    "def get_batch(split, batch_size=4, block_size=8):\n",
    "    data = train_X if split == 'train' else val_X\n",
    "    ix = torch.randint(len(data) - block_size, (batch_size,))\n",
    "    x  = torch.stack([data[i:i+block_size] for i in ix])\n",
    "    y  = torch.stack([data[i+1:i+block_size+1] for i in ix])\n",
    "    x, y = x.to(device), y.to(device)\n",
    "    return x, y\n",
    "\n",
    "class LossEstimator:\n",
    "\n",
    "    def __init__(self, eval_iters):\n",
    "        self.eval_iters = eval_iters\n",
    "\n",
    "    @torch.no_grad()\n",
    "    def estimate_loss(self, model, block_size):\n",
    "        estimations = dict()\n",
    "        model.eval()\n",
    "        for split in ['train', 'val']:\n",
    "            losses = torch.zeros(self.eval_iters)\n",
    "            for k in range(self.eval_iters):\n",
    "                X, y = get_batch(split, block_size=block_size)\n",
    "                logits, loss = model(X, y)\n",
    "                losses[k] = loss.item()\n",
    "            estimations[split] = losses.mean().item()\n",
    "        model.train()\n",
    "        return estimations\n",
    "\n",
    "\n",
    "def train(model, iterations, eval_step, batch_size, block_size, optimizer, lr_scheduler, loss_estimator):\n",
    "    loss_history = {\"train\": [], \"val\": []} \n",
    "    for i in range(iterations):\n",
    "        if i % eval_step == 0:\n",
    "            losses = loss_estimator.estimate_loss(model, block_size)\n",
    "            print(f\"step {i} losses:\", end=\" \") \n",
    "            for split, loss_value in losses.items():\n",
    "                loss_history[split].append(loss_value)\n",
    "                print(f\"{split} {losses[split]:.4f},\", end=\" \")\n",
    "            lr_scheduler.step(losses['train'])\n",
    "            print()\n",
    "        xb, yb = get_batch('train', batch_size=batch_size, block_size=block_size)\n",
    "        logits, loss = model(xb, yb)\n",
    "        optimizer.zero_grad(set_to_none=True)\n",
    "        loss.backward()\n",
    "        optimizer.step()\n",
    "    return loss_history\n",
    "\n",
    "\n",
    "class Head(nn.Module):\n",
    "    \"\"\"one head of self-attention\"\"\"\n",
    "    \n",
    "    def __init__(self, block_size, embedd_dims, head_size, dropout_rate=0.2):\n",
    "        super().__init__()\n",
    "        self.head_size = head_size\n",
    "        self.key = nn.Linear(embedd_dims, head_size, bias=False)\n",
    "        self.query = nn.Linear(embedd_dims, head_size, bias=False)\n",
    "        self.value = nn.Linear(embedd_dims, head_size, bias=False)\n",
    "        self.register_buffer('tril', torch.tril(torch.ones((block_size, block_size))))\n",
    "        self.dropout = nn.Dropout(dropout_rate)\n",
    "\n",
    "    def forward(self, x):\n",
    "        N,T,_ = x.shape\n",
    "        k = self.key(x)\n",
    "        q = self.query(x)\n",
    "        v = self.value(x)\n",
    "        attention_weights = q @ k.transpose(1,2) * self.head_size ** -0.5\n",
    "        attention_weights = attention_weights.masked_fill(self.tril[:T, :T] == 0, float('-inf'))\n",
    "        attention_weights = F.softmax(attention_weights, dim=-1)\n",
    "        attention_weights = self.dropout(attention_weights)\n",
    "        return attention_weights @ v\n",
    "\n",
    "\n",
    "class MultiHeadAttention(nn.Module):\n",
    "    def __init__(self, num_heads, head_size, block_size, embedd_dims, dropout_rate=0.2):\n",
    "        super().__init__()\n",
    "        self.heads = nn.ModuleList([Head(block_size, embedd_dims, head_size) for i in range(num_heads)])\n",
    "        self.projection = nn.Linear(embedd_dims, embedd_dims)\n",
    "        self.dropout = nn.Dropout(dropout_rate)\n",
    "\n",
    "    def forward(self, x):\n",
    "        out = torch.cat([h(x) for h in self.heads], dim=-1)\n",
    "        out = self.dropout(out)\n",
    "        return self.projection(out)\n",
    "\n",
    "\n",
    "class FeedForward(nn.Module):\n",
    "    def __init__(self, embedd_dims, dropout_rate=0.2):\n",
    "        super().__init__()\n",
    "        self.net = nn.Sequential(\n",
    "            nn.Linear(embedd_dims, 4 * embedd_dims),\n",
    "            nn.ReLU(inplace=True),\n",
    "            nn.Linear(4 * embedd_dims, embedd_dims), # projection layer\n",
    "            nn.Dropout(dropout_rate)\n",
    "        )\n",
    "        \n",
    "\n",
    "    def forward(self, x):\n",
    "        return self.net(x)\n",
    "\n",
    "\n",
    "class Block(nn.Module):\n",
    "    \"\"\" Transformer block: communication followed by computation \"\"\"\n",
    "\n",
    "    def __init__(self, num_heads, block_size, embedd_dims):\n",
    "        super().__init__()\n",
    "        head_size = embedd_dims // num_heads\n",
    "        self.self_attention_heads = MultiHeadAttention(num_heads, head_size, block_size, embedd_dims)\n",
    "        self.feedforward = FeedForward(embedd_dims)\n",
    "        self.ln1 = nn.LayerNorm(embedd_dims)\n",
    "        self.ln2 = nn.LayerNorm(embedd_dims)\n",
    "\n",
    "    def forward(self, x):\n",
    "        x = x + self.self_attention_heads(self.ln1(x))\n",
    "        x = x + self.feedforward(self.ln2(x))\n",
    "        return x\n",
    "\n",
    "\n",
    "class TransformerBlocksBigramLanguageModel(nn.Module):\n",
    "    def __init__(self, num_layers, num_heads, vocab_size, block_size, embedd_dims):\n",
    "        super().__init__()\n",
    "        self.vocab_size = vocab_size\n",
    "        self.block_size = block_size\n",
    "        self.token_embedding_table = nn.Embedding(vocab_size, embedd_dims)\n",
    "        self.position_embedding_table = nn.Embedding(block_size, embedd_dims)\n",
    "        self.blocks = nn.Sequential(*[Block(num_heads, block_size, embedd_dims) for _ in range(num_layers)])\n",
    "        self.ln_f = nn.LayerNorm(embedd_dims)\n",
    "        self.lm_head = nn.Linear(embedd_dims, vocab_size)\n",
    "\n",
    "    def forward(self, x, targets = None):\n",
    "        N, T = x.shape\n",
    "        token_embeddings  = self.token_embedding_table(x)\n",
    "        position_embedds  = self.position_embedding_table(torch.arange(T, device=device))\n",
    "        x = token_embeddings + position_embedds\n",
    "        x = self.blocks(x)\n",
    "        x = self.ln_f(x)\n",
    "        logits = self.lm_head(x)\n",
    "        loss = None if targets is None else F.cross_entropy(logits.view(N*T, self.vocab_size), targets.view(N*T))\n",
    "        return logits, loss\n",
    "    \n",
    "    def generate(self, initial_context, max_new_tokens):\n",
    "        for _ in range(max_new_tokens):\n",
    "            logits, _ = self(initial_context[:, -self.block_size:])\n",
    "            last_time_step_logits = logits[:,-1,:]\n",
    "            probs = F.softmax(last_time_step_logits, dim=1)\n",
    "            context_next = torch.multinomial(probs, num_samples=1)\n",
    "            initial_context = torch.cat((initial_context, context_next), dim=1)\n",
    "        return initial_context\n",
    "\n",
    "    def generate_string(self, initial_context, max_new_tokens):\n",
    "        return ''.join(\n",
    "            decode(\n",
    "                self.generate(initial_context, max_new_tokens=max_new_tokens)[0].tolist()\n",
    "            )\n",
    "        )"
   ]
  },
  {
   "cell_type": "code",
   "execution_count": 186,
   "id": "7c2ced03",
   "metadata": {},
   "outputs": [
    {
     "name": "stdout",
     "output_type": "stream",
     "text": [
      "step 0 losses: train 4.3472, val 4.3438, \n",
      "step 100 losses: train 2.4741, val 2.4943, \n",
      "step 200 losses: train 2.4221, val 2.4358, \n",
      "step 300 losses: train 2.2864, val 2.3272, \n",
      "step 400 losses: train 2.0800, val 2.1521, \n",
      "step 500 losses: train 1.9014, val 2.0216, \n",
      "step 600 losses: train 1.7829, val 1.9143, \n",
      "step 700 losses: train 1.6934, val 1.8356, \n",
      "step 800 losses: train 1.6204, val 1.7881, \n",
      "step 900 losses: train 1.5454, val 1.7386, \n",
      "step 1000 losses: train 1.5169, val 1.6980, \n",
      "step 1100 losses: train 1.4679, val 1.6716, \n",
      "step 1200 losses: train 1.4298, val 1.6456, \n",
      "step 1300 losses: train 1.3999, val 1.6162, \n",
      "step 1400 losses: train 1.3868, val 1.5974, \n",
      "step 1500 losses: train 1.3601, val 1.5719, \n",
      "step 1600 losses: train 1.3368, val 1.5610, \n",
      "step 1700 losses: train 1.3224, val 1.5457, \n",
      "step 1800 losses: train 1.3019, val 1.5141, \n",
      "step 1900 losses: train 1.2757, val 1.5282, \n",
      "step 2000 losses: train 1.2615, val 1.5314, \n",
      "step 2100 losses: train 1.2459, val 1.5106, \n",
      "step 2200 losses: train 1.2414, val 1.5213, \n",
      "step 2300 losses: train 1.2224, val 1.5010, \n",
      "step 2400 losses: train 1.2077, val 1.4974, \n",
      "step 2500 losses: train 1.2023, val 1.5125, \n",
      "step 2600 losses: train 1.1856, val 1.4833, \n",
      "step 2700 losses: train 1.1717, val 1.5009, \n",
      "step 2800 losses: train 1.1857, val 1.5036, \n",
      "step 2900 losses: train 1.1540, val 1.4845, \n",
      "step 3000 losses: train 1.1561, val 1.4614, \n",
      "step 3100 losses: train 1.1387, val 1.4851, \n",
      "step 3200 losses: train 1.1271, val 1.4953, \n",
      "step 3300 losses: train 1.1212, val 1.4755, \n",
      "step 3400 losses: train 1.1045, val 1.4899, \n",
      "step 3500 losses: train 1.0980, val 1.4789, \n",
      "step 3600 losses: train 1.0869, val 1.4520, \n",
      "step 3700 losses: train 1.0809, val 1.4812, \n",
      "step 3800 losses: train 1.0720, val 1.4814, \n",
      "step 3900 losses: train 1.0646, val 1.4759, \n",
      "step 4000 losses: train 1.0560, val 1.4813, \n",
      "step 4100 losses: train 1.0354, val 1.4963, \n",
      "step 4200 losses: train 1.0293, val 1.4784, \n",
      "step 4300 losses: train 1.0200, val 1.4827, \n",
      "step 4400 losses: train 1.0131, val 1.5077, \n",
      "step 4500 losses: train 1.0108, val 1.5082, \n",
      "step 4600 losses: train 0.9933, val 1.4842, \n",
      "step 4700 losses: train 0.9820, val 1.5073, \n",
      "step 4800 losses: train 0.9794, val 1.5125, \n",
      "step 4900 losses: train 0.9675, val 1.4982, \n",
      "step 5000 losses: train 0.9645, val 1.5260, \n",
      "step 5100 losses: train 0.9419, val 1.5464, \n",
      "step 5200 losses: train 0.9355, val 1.5371, \n",
      "step 5300 losses: train 0.9314, val 1.5611, \n",
      "step 5400 losses: train 0.9339, val 1.5343, \n",
      "step 5500 losses: train 0.9258, val 1.5272, \n",
      "step 5600 losses: train 0.9040, val 1.5672, \n",
      "step 5700 losses: train 0.9035, val 1.5466, \n",
      "step 5800 losses: train 0.8881, val 1.5572, \n",
      "step 5900 losses: train 0.8841, val 1.5901, \n",
      "step 6000 losses: train 0.8688, val 1.5762, \n",
      "step 6100 losses: train 0.8588, val 1.5949, \n",
      "step 6200 losses: train 0.8424, val 1.6259, \n",
      "step 6300 losses: train 0.8312, val 1.5763, \n",
      "step 6400 losses: train 0.8365, val 1.5910, \n",
      "step 6500 losses: train 0.8189, val 1.6244, \n",
      "step 6600 losses: train 0.8166, val 1.6142, \n",
      "step 6700 losses: train 0.7983, val 1.6191, \n",
      "step 6800 losses: train 0.7926, val 1.6382, \n",
      "step 6900 losses: train 0.7787, val 1.6157, \n",
      "step 7000 losses: train 0.7747, val 1.6345, \n",
      "step 7100 losses: train 0.7685, val 1.6309, \n",
      "step 7200 losses: train 0.7609, val 1.6552, \n",
      "step 7300 losses: train 0.7499, val 1.6719, \n",
      "step 7400 losses: train 0.7367, val 1.6861, \n",
      "step 7500 losses: train 0.7245, val 1.6954, \n",
      "step 7600 losses: train 0.7216, val 1.6720, \n",
      "step 7700 losses: train 0.7112, val 1.7043, \n",
      "step 7800 losses: train 0.7028, val 1.6823, \n",
      "step 7900 losses: train 0.6904, val 1.6609, \n",
      "step 8000 losses: train 0.6868, val 1.7289, \n",
      "step 8100 losses: train 0.6824, val 1.7173, \n",
      "step 8200 losses: train 0.6652, val 1.7396, \n",
      "step 8300 losses: train 0.6610, val 1.7394, \n",
      "step 8400 losses: train 0.6523, val 1.7514, \n",
      "step 8500 losses: train 0.6476, val 1.7511, \n",
      "step 8600 losses: train 0.6427, val 1.7459, \n",
      "step 8700 losses: train 0.6288, val 1.7768, \n",
      "step 8800 losses: train 0.6212, val 1.7733, \n",
      "step 8900 losses: train 0.6134, val 1.7667, \n",
      "step 9000 losses: train 0.6122, val 1.7539, \n",
      "step 9100 losses: train 0.6089, val 1.7741, \n",
      "step 9200 losses: train 0.5904, val 1.7803, \n",
      "step 9300 losses: train 0.5831, val 1.8032, \n",
      "step 9400 losses: train 0.5743, val 1.7780, \n",
      "step 9500 losses: train 0.5785, val 1.8162, \n",
      "step 9600 losses: train 0.5615, val 1.8309, \n",
      "step 9700 losses: train 0.5547, val 1.8240, \n",
      "step 9800 losses: train 0.5443, val 1.8253, \n",
      "step 9900 losses: train 0.5466, val 1.8675, \n",
      "step 10000 losses: train 0.5345, val 1.8744, \n",
      "step 10100 losses: train 0.5246, val 1.8756, \n",
      "step 10200 losses: train 0.5255, val 1.8516, \n",
      "step 10300 losses: train 0.5188, val 1.8821, \n",
      "step 10400 losses: train 0.5084, val 1.8490, \n",
      "step 10500 losses: train 0.4981, val 1.8978, \n",
      "step 10600 losses: train 0.4938, val 1.8945, \n",
      "step 10700 losses: train 0.4865, val 1.9200, \n",
      "step 10800 losses: train 0.4806, val 1.9091, \n",
      "step 10900 losses: train 0.4762, val 1.9151, \n",
      "step 11000 losses: train 0.4721, val 1.9184, \n",
      "step 11100 losses: train 0.4612, val 1.9530, \n",
      "step 11200 losses: train 0.4553, val 1.9044, \n",
      "step 11300 losses: train 0.4514, val 1.9336, \n",
      "step 11400 losses: train 0.4449, val 1.9530, \n",
      "step 11500 losses: train 0.4379, val 1.9824, \n",
      "step 11600 losses: train 0.4348, val 1.9718, \n",
      "step 11700 losses: train 0.4352, val 1.9853, \n",
      "step 11800 losses: train 0.4187, val 2.0338, \n",
      "step 11900 losses: train 0.4227, val 2.0011, \n",
      "step 12000 losses: train 0.4168, val 2.0038, \n",
      "step 12100 losses: train 0.4033, val 2.0347, \n",
      "step 12200 losses: train 0.4085, val 1.9908, \n",
      "step 12300 losses: train 0.3918, val 2.0059, \n",
      "step 12400 losses: train 0.3944, val 2.0556, \n",
      "step 12500 losses: train 0.3942, val 2.0854, \n",
      "step 12600 losses: train 0.3774, val 2.0586, \n",
      "step 12700 losses: train 0.3776, val 2.0367, \n",
      "step 12800 losses: train 0.3787, val 2.0949, \n",
      "step 12900 losses: train 0.3694, val 2.0218, \n",
      "step 13000 losses: train 0.3632, val 2.0680, \n",
      "step 13100 losses: train 0.3586, val 2.1087, \n",
      "step 13200 losses: train 0.3515, val 2.1032, \n",
      "step 13300 losses: train 0.3522, val 2.0769, \n",
      "step 13400 losses: train 0.3500, val 2.0791, \n",
      "step 13500 losses: train 0.3445, val 2.0867, \n",
      "step 13600 losses: train 0.3359, val 2.1361, \n",
      "step 13700 losses: train 0.3336, val 2.0952, \n",
      "step 13800 losses: train 0.3224, val 2.1540, \n",
      "step 13900 losses: train 0.3292, val 2.1306, \n",
      "step 14000 losses: train 0.3243, val 2.1256, \n",
      "step 14100 losses: train 0.3143, val 2.2044, \n",
      "step 14200 losses: train 0.3149, val 2.1713, \n",
      "step 14300 losses: train 0.3043, val 2.1731, \n",
      "step 14400 losses: train 0.3029, val 2.1502, \n",
      "step 14500 losses: train 0.2996, val 2.2019, \n",
      "step 14600 losses: train 0.3008, val 2.1595, \n",
      "step 14700 losses: train 0.2981, val 2.1810, \n",
      "step 14800 losses: train 0.2907, val 2.1860, \n",
      "step 14900 losses: train 0.2873, val 2.2090, \n",
      "step 15000 losses: train 0.2849, val 2.2406, \n",
      "step 15100 losses: train 0.2835, val 2.2103, \n",
      "step 15200 losses: train 0.2817, val 2.2048, \n",
      "step 15300 losses: train 0.2733, val 2.1986, \n",
      "step 15400 losses: train 0.2764, val 2.2493, \n",
      "step 15500 losses: train 0.2714, val 2.2420, \n",
      "step 15600 losses: train 0.2635, val 2.2201, \n",
      "step 15700 losses: train 0.2674, val 2.2175, \n",
      "step 15800 losses: train 0.2632, val 2.2514, \n",
      "step 15900 losses: train 0.2610, val 2.2430, \n",
      "step 16000 losses: train 0.2506, val 2.2802, \n",
      "step 16100 losses: train 0.2474, val 2.2431, \n",
      "step 16200 losses: train 0.2439, val 2.2672, \n",
      "step 16300 losses: train 0.2461, val 2.3141, \n",
      "step 16400 losses: train 0.2393, val 2.3121, \n",
      "step 16500 losses: train 0.2381, val 2.2709, \n",
      "step 16600 losses: train 0.2378, val 2.2779, \n",
      "step 16700 losses: train 0.2351, val 2.3108, \n",
      "step 16800 losses: train 0.2256, val 2.3353, \n",
      "step 16900 losses: train 0.2263, val 2.3227, \n",
      "step 17000 losses: train 0.2261, val 2.2932, \n",
      "step 17100 losses: train 0.2240, val 2.3693, \n",
      "step 17200 losses: train 0.2203, val 2.3596, \n",
      "step 17300 losses: train 0.2183, val 2.3542, \n",
      "step 17400 losses: train 0.2181, val 2.3381, \n",
      "step 17500 losses: train 0.2132, val 2.3445, \n",
      "step 17600 losses: train 0.2112, val 2.3344, \n",
      "step 17700 losses: train 0.2067, val 2.3945, \n",
      "step 17800 losses: train 0.2079, val 2.3795, \n",
      "step 17900 losses: train 0.2126, val 2.3783, \n",
      "step 18000 losses: train 0.2027, val 2.4186, \n"
     ]
    },
    {
     "name": "stdout",
     "output_type": "stream",
     "text": [
      "step 18100 losses: train 0.2032, val 2.3467, \n",
      "step 18200 losses: train 0.1997, val 2.3845, \n",
      "step 18300 losses: train 0.1998, val 2.3744, \n",
      "step 18400 losses: train 0.1970, val 2.4048, \n",
      "step 18500 losses: train 0.1985, val 2.3921, \n",
      "step 18600 losses: train 0.1917, val 2.4413, \n",
      "step 18700 losses: train 0.1884, val 2.4269, \n",
      "step 18800 losses: train 0.1888, val 2.3885, \n",
      "step 18900 losses: train 0.1807, val 2.4019, \n",
      "step 19000 losses: train 0.1850, val 2.4166, \n",
      "step 19100 losses: train 0.1804, val 2.4266, \n",
      "step 19200 losses: train 0.1807, val 2.4045, \n",
      "step 19300 losses: train 0.1799, val 2.4312, \n",
      "step 19400 losses: train 0.1784, val 2.4756, \n",
      "step 19500 losses: train 0.1766, val 2.4730, \n",
      "step 19600 losses: train 0.1757, val 2.4688, \n",
      "step 19700 losses: train 0.1717, val 2.4385, \n",
      "step 19800 losses: train 0.1745, val 2.5314, \n",
      "step 19900 losses: train 0.1685, val 2.4933, \n"
     ]
    }
   ],
   "source": [
    "block_size = 384\n",
    "\n",
    "transformerDecoder = TransformerBlocksBigramLanguageModel(\n",
    "    num_layers = 4,\n",
    "    num_heads = 6,\n",
    "    vocab_size = vocab_size,\n",
    "    block_size = block_size,\n",
    "    embedd_dims = 510\n",
    ").to(device)\n",
    "\n",
    "optimizer = optim.AdamW(\n",
    "    transformerDecoder.parameters(),\n",
    "    lr = 3e-4,\n",
    "    weight_decay = 1e-5\n",
    ")\n",
    "\n",
    "lr_scheduler = optim.lr_scheduler.ReduceLROnPlateau(optimizer, patience=10)\n",
    "\n",
    "loss_history = train(\n",
    "    model = transformerDecoder,\n",
    "    iterations = 20000,\n",
    "    eval_step = 100,\n",
    "    batch_size = 64,\n",
    "    block_size = block_size,\n",
    "    optimizer = optimizer,\n",
    "    lr_scheduler = lr_scheduler,\n",
    "    loss_estimator = LossEstimator(eval_iters = 100)\n",
    ")"
   ]
  },
  {
   "cell_type": "code",
   "execution_count": 181,
   "id": "a558d2d7",
   "metadata": {},
   "outputs": [
    {
     "data": {
      "text/plain": [
       "<matplotlib.legend.Legend at 0x7fcab7d1b910>"
      ]
     },
     "execution_count": 181,
     "metadata": {},
     "output_type": "execute_result"
    },
    {
     "data": {
      "image/png": "[encoded data removed]",
      "text/plain": [
       "<Figure size 800x300 with 1 Axes>"
      ]
     },
     "metadata": {},
     "output_type": "display_data"
    }
   ],
   "source": [
    "fig, ax_l = plt.subplots(1, 1, figsize=(8,3))\n",
    "ax_l.plot(np.array(loss_history[\"train\"]).flatten(), label = 'train loss')\n",
    "ax_l.plot(np.array(loss_history[\"val\"]).flatten(), label = 'validation loss')\n",
    "ax_l.set_title('W/o dropout. Looks \\'a bit\\' overfitting')\n",
    "ax_l.legend()"
   ]
  },
  {
   "cell_type": "code",
   "execution_count": 187,
   "id": "f7ea433c",
   "metadata": {},
   "outputs": [
    {
     "data": {
      "text/plain": [
       "<matplotlib.legend.Legend at 0x7fcabe4bcc40>"
      ]
     },
     "execution_count": 187,
     "metadata": {},
     "output_type": "execute_result"
    },
    {
     "data": {
      "image/png": "[encoded data removed]",
      "text/plain": [
       "<Figure size 800x300 with 1 Axes>"
      ]
     },
     "metadata": {},
     "output_type": "display_data"
    }
   ],
   "source": [
    "fig, ax_l = plt.subplots(1, 1, figsize=(8,3))\n",
    "ax_l.plot(np.array(loss_history[\"train\"]).flatten(), label = 'train loss')\n",
    "ax_l.plot(np.array(loss_history[\"val\"]).flatten(), label = 'validation loss')\n",
    "ax_l.set_title('With dropout. Less overfitting')\n",
    "ax_l.legend()"
   ]
  },
  {
   "cell_type": "code",
   "execution_count": 179,
   "id": "78734396",
   "metadata": {
    "scrolled": true
   },
   "outputs": [
    {
     "name": "stdout",
     "output_type": "stream",
     "text": [
      "\n",
      "That brought thereof is so in love exchange;\n",
      "Let not to Friar John.\n",
      "\n",
      "KING LEWIS XI:\n",
      "Now Warwick, tell me, even upon thy conscience,\n",
      "Is Edward your true king? for I were loath\n",
      "To link with him that were not lawful chosen.\n",
      "\n",
      "WARWICK:\n",
      "Thereon I pawn my credit alinoutalinoun, aled mit aly migres ous out.\n",
      "wit noutoumatout at ales but outes ales d d alinouthinoutoumines wit atatoumes inout ines bres ats ara I pes be marous be br thinores t thines, wary ous ous.\n",
      "t ves wanouminin te mares hould h inounores wary arouses, t, at, aremile, s brerouse, h, hothacheee-lis, heis maris agres br chewat wanourinous thes, waris,\n",
      "hines, hesry ts, boun be wa ous waren. ach akes minin achachise's, ts, hin s hononores s be y s sed t h, wonope, s arous pes agris Onophes bees t I rins pachevin,\n",
      "carerarineeeforines, bres cous mes mis min be hicabroubrerise, hin y t s t t I wagris d wingrourous d herererachis ly akereris, rinod ages abonins agres, rewowouris.\n",
      "Stely tes hory ach al ichis macoly s hais bes Kinin hag\n"
     ]
    }
   ],
   "source": [
    "initial_context = torch.zeros((1,1), dtype=torch.long, device=device)\n",
    "print(transformerDecoder.generate_string(initial_context, max_new_tokens=1000))"
   ]
  },
  {
   "cell_type": "code",
   "execution_count": 188,
   "id": "e7b7f554",
   "metadata": {},
   "outputs": [
    {
     "name": "stdout",
     "output_type": "stream",
     "text": [
      "\n",
      "groans of the house of Lady:\n",
      "With what's my soul news abroad,\n",
      "And I never stay nor never freelong had spent.\n",
      "\n",
      "JULIET:\n",
      "O God, fall the heaven, will defend me the friar.\n",
      "\n",
      "Nurse:\n",
      "Mantagate women, I have already.\n",
      "God knock are thee for thy naps?\n",
      "\n",
      "RICHARD:\n",
      "O Tybalt's back against thine eyes!\n",
      "\n",
      "WESTMORELAND:\n",
      "Then let the heart-hearted all bed, then end.\n",
      "O, for father, boy? get you high sin.\n",
      "\n",
      "NORTHUMBERLAND:\n",
      "Fitzwater, be it for our lentence: alone so is conquest;\n",
      "And there's nothing but my daughter's brother\n",
      "A shraw ear-unado some.\n",
      "\n",
      "KING LEWIS XI:\n",
      "Warwick, this is spoke chatsen to make him grief,\n",
      "Take heed to confession of his sight:\n",
      "Warm him by his frame, chok him well accompanied\n",
      "Shall be the common ear of covert,\n",
      "Or with as wick bitter than our brings,\n",
      "Which you will pay without come and sour insurties\n",
      "To rouse it. Rather should be gone.\n",
      "\n",
      "CATESBY:\n",
      "Go on, thou to beg of this time co-corn:\n",
      "I will come of the Ladow of York.\n",
      "And you, lords, both thy tongue shall make his stars;\n",
      "As thus stand a\n"
     ]
    }
   ],
   "source": [
    "initial_context = torch.zeros((1,1), dtype=torch.long, device=device)\n",
    "print(transformerDecoder.generate_string(initial_context, max_new_tokens=1000))"
   ]
  },
  {
   "cell_type": "code",
   "execution_count": 189,
   "id": "d508d459",
   "metadata": {},
   "outputs": [],
   "source": [
    "torch.save(transformerDecoder.state_dict(), 'GPT_dropout_decoder_tiny_shakespeare.pth')"
   ]
  }
 ],
 "metadata": {
  "kernelspec": {
   "display_name": "Python 3 (ipykernel)",
   "language": "python",
   "name": "python3"
  },
  "language_info": {
   "codemirror_mode": {
    "name": "ipython",
    "version": 3
   },
   "file_extension": ".py",
   "mimetype": "text/x-python",
   "name": "python",
   "nbconvert_exporter": "python",
   "pygments_lexer": "ipython3",
   "version": "3.10.6"
  }
 },
 "nbformat": 4,
 "nbformat_minor": 5
}
